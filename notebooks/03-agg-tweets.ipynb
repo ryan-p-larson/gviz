{
 "cells": [
  {
   "cell_type": "markdown",
   "metadata": {},
   "source": [
    "# Descriptive Statistics\n",
    "\n",
    "4-4-17"
   ]
  },
  {
   "cell_type": "code",
   "execution_count": 1,
   "metadata": {
    "collapsed": true
   },
   "outputs": [],
   "source": [
    "# Libraries\n",
    "import os, sys\n",
    "import pandas as pd\n",
    "\n",
    "from multiprocessing import Pool"
   ]
  },
  {
   "cell_type": "code",
   "execution_count": 2,
   "metadata": {
    "collapsed": true
   },
   "outputs": [],
   "source": [
    "# Directories\n",
    "ext_dir = '../data/external/'\n",
    "proc_dir = '../data/processed/'\n",
    "\n",
    "scrape_in = ext_dir + 'scrape/'\n",
    "scrape_out = proc_dir + 'scrape/4-4/{}-agg.csv'"
   ]
  },
  {
   "cell_type": "code",
   "execution_count": 3,
   "metadata": {
    "collapsed": true
   },
   "outputs": [],
   "source": [
    "# Functions\n",
    "\n",
    "def process_scrape_agg(csv):\n",
    "    \"\"\"\n",
    "    \"\"\"\n",
    "    agg_cols = ['username', 'date', 'language']\n",
    "    df = pd.read_csv(csv, usecols=agg_cols, \n",
    "                     parse_dates=['date'], \n",
    "                     infer_datetime_format=True)\n",
    "    \n",
    "    df['day'] = df['date'].apply(lambda x: x.date())\n",
    "    df.rename(columns={'date':'count', 'username':'user'}, inplace=True)\n",
    "    \n",
    "    return df.groupby(['day', 'language', 'user']).agg('count')\n",
    "    \n",
    "#process_scrape_agg(test_f)"
   ]
  },
  {
   "cell_type": "code",
   "execution_count": 4,
   "metadata": {
    "collapsed": false
   },
   "outputs": [],
   "source": [
    "# List of all the files we'll be evaluating\n",
    "\n",
    "# testing\n",
    "scrape_fs = os.listdir(scrape_in)\n",
    "\n",
    "# 'production'\n",
    "#scrape_f = [x for x in  os.listdir(scrape_in)\n",
    "#           if (x.split('.')[0][-4:] != '_log')]"
   ]
  },
  {
   "cell_type": "code",
   "execution_count": 6,
   "metadata": {
    "collapsed": true
   },
   "outputs": [],
   "source": [
    "for f in scrape_fs:\n",
    "    # file names\n",
    "    f_in = scrape_in + f\n",
    "    f_out = scrape_out.format(f[:-4])\n",
    "    \n",
    "    # sanity check for times sake\n",
    "    if (os.path.isfile(f_in) == False):\n",
    "        continue\n",
    "    else:\n",
    "        try:\n",
    "            grouped_df = process_scrape_agg(f_in)\n",
    "            grouped_df.to_csv(f_out)\n",
    "        except:\n",
    "            print (\"Couldn't read {}\".format(f_in))"
   ]
  },
  {
   "cell_type": "code",
   "execution_count": 7,
   "metadata": {
    "collapsed": true
   },
   "outputs": [],
   "source": [
    "# list all newly processed files \n",
    "agg_fs = os.listdir((proc_dir + 'scrape/4-4/'))"
   ]
  },
  {
   "cell_type": "code",
   "execution_count": 11,
   "metadata": {
    "collapsed": false
   },
   "outputs": [],
   "source": [
    "# create one frame out of all of them\n",
    "all_agg = pd.concat([pd.read_csv(proc_dir+'scrape/4-4/'+x) for x in agg_fs])"
   ]
  },
  {
   "cell_type": "code",
   "execution_count": 12,
   "metadata": {
    "collapsed": false
   },
   "outputs": [
    {
     "data": {
      "text/html": [
       "<div>\n",
       "<table border=\"1\" class=\"dataframe\">\n",
       "  <thead>\n",
       "    <tr style=\"text-align: right;\">\n",
       "      <th></th>\n",
       "      <th>day</th>\n",
       "      <th>language</th>\n",
       "      <th>user</th>\n",
       "      <th>count</th>\n",
       "    </tr>\n",
       "  </thead>\n",
       "  <tbody>\n",
       "    <tr>\n",
       "      <th>0</th>\n",
       "      <td>2016-12-22</td>\n",
       "      <td>ar</td>\n",
       "      <td>0000_khalaf</td>\n",
       "      <td>3</td>\n",
       "    </tr>\n",
       "    <tr>\n",
       "      <th>1</th>\n",
       "      <td>2016-12-22</td>\n",
       "      <td>ar</td>\n",
       "      <td>0001yasir</td>\n",
       "      <td>2</td>\n",
       "    </tr>\n",
       "    <tr>\n",
       "      <th>2</th>\n",
       "      <td>2016-12-22</td>\n",
       "      <td>ar</td>\n",
       "      <td>00073liya</td>\n",
       "      <td>2</td>\n",
       "    </tr>\n",
       "    <tr>\n",
       "      <th>3</th>\n",
       "      <td>2016-12-22</td>\n",
       "      <td>ar</td>\n",
       "      <td>0007_ten</td>\n",
       "      <td>3</td>\n",
       "    </tr>\n",
       "    <tr>\n",
       "      <th>4</th>\n",
       "      <td>2016-12-22</td>\n",
       "      <td>ar</td>\n",
       "      <td>0009Y3</td>\n",
       "      <td>2</td>\n",
       "    </tr>\n",
       "  </tbody>\n",
       "</table>\n",
       "</div>"
      ],
      "text/plain": [
       "          day language         user  count\n",
       "0  2016-12-22       ar  0000_khalaf      3\n",
       "1  2016-12-22       ar    0001yasir      2\n",
       "2  2016-12-22       ar    00073liya      2\n",
       "3  2016-12-22       ar     0007_ten      3\n",
       "4  2016-12-22       ar       0009Y3      2"
      ]
     },
     "execution_count": 12,
     "metadata": {},
     "output_type": "execute_result"
    }
   ],
   "source": [
    "all_agg.to_csv((proc_dir+'scrape/4-4/all-agg.csv'), index=False)"
   ]
  },
  {
   "cell_type": "code",
   "execution_count": null,
   "metadata": {
    "collapsed": true
   },
   "outputs": [],
   "source": []
  }
 ],
 "metadata": {
  "anaconda-cloud": {},
  "kernelspec": {
   "display_name": "Python [default]",
   "language": "python",
   "name": "python3"
  },
  "language_info": {
   "codemirror_mode": {
    "name": "ipython",
    "version": 3
   },
   "file_extension": ".py",
   "mimetype": "text/x-python",
   "name": "python",
   "nbconvert_exporter": "python",
   "pygments_lexer": "ipython3",
   "version": "3.5.2"
  }
 },
 "nbformat": 4,
 "nbformat_minor": 1
}
