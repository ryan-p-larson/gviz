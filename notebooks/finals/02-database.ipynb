{
 "cells": [
  {
   "cell_type": "markdown",
   "metadata": {
    "deletable": true,
    "editable": true
   },
   "source": [
    "# Database\n",
    "\n",
    "Create a sqlLite database that we can use for faster indexing.\n",
    "\n",
    "```\n",
    "df.to_sql(\"table_name\", conn, if_exists=\"replace/append\")        # write\n",
    "pd.read_sql_query(\"select * from table_name limit 1;\", conn)     # read\n",
    "```"
   ]
  },
  {
   "cell_type": "code",
   "execution_count": 20,
   "metadata": {
    "collapsed": false,
    "deletable": true,
    "editable": true
   },
   "outputs": [],
   "source": [
    "# run two commands to clear the database\n",
    "% rm ../../data/canonical/test.db\n",
    "!touch ../../data/canonical/test.db"
   ]
  },
  {
   "cell_type": "code",
   "execution_count": 1,
   "metadata": {
    "collapsed": true,
    "deletable": true,
    "editable": true
   },
   "outputs": [],
   "source": [
    "# Libraries\n",
    "\n",
    "%run utilities.py\n",
    "import sqlite3"
   ]
  },
  {
   "cell_type": "code",
   "execution_count": 2,
   "metadata": {
    "collapsed": false,
    "deletable": true,
    "editable": true
   },
   "outputs": [
    {
     "name": "stdout",
     "output_type": "stream",
     "text": [
      "Directory already exists, but you can still have the file name\n"
     ]
    }
   ],
   "source": [
    "# Directories\n",
    "indir = make_new_dir_date(processed_finals_dir)\n",
    "indir_fs = ls_files_list(indir)\n",
    "\n",
    "outdir = data_dir + 'canonical/'"
   ]
  },
  {
   "cell_type": "markdown",
   "metadata": {
    "deletable": true,
    "editable": true
   },
   "source": [
    "#### Steps\n",
    "\n",
    "1. Open connection\n",
    "2. Create schemas\n",
    "3. Iterate through the processed files, reading & saving them to sqlLite3\n",
    "4. Close the connection\n",
    "5. ???\n",
    "6. Profit"
   ]
  },
  {
   "cell_type": "code",
   "execution_count": 3,
   "metadata": {
    "collapsed": true,
    "deletable": true,
    "editable": true
   },
   "outputs": [],
   "source": [
    "# Schemas\n",
    "raw_schema = \"\"\"CREATE TABLE IF NOT EXISTS Raw(\n",
    "  tweetID INTEGER,\n",
    "  date TEXT,\n",
    "  username TEXT,\n",
    "  message TEXT,\n",
    "  retweet INTEGER,\n",
    "  longitude REAL,\n",
    "  latitude REAL\n",
    ");\"\"\".replace('\\n', '')\n",
    "\n",
    "tweets_schema = \"\"\"CREATE TABLE IF NOT EXISTS Tweets(\n",
    "  tweetID INTEGER REFERENCES Raw(tweetID),\n",
    "  message TEXT,\n",
    "  retweet INTEGER,\n",
    "  longitude REAL,\n",
    "  latitude REAL,\n",
    "  date TEXT\n",
    ");\"\"\".replace('\\n', '')\n",
    "\n",
    "users_schema = \"\"\"CREATE TABLE IF NOT EXISTS Users(\n",
    "  username TEXT REFERENCES Raw(username),\n",
    "  tweetID INTEGER\n",
    ");\"\"\".replace('\\n', '')\n",
    "\n",
    "dates_schema = \"\"\"CREATE TABLE IF NOT EXISTS Dates(\n",
    "  date TEXT REFERENCES Raw(date),\n",
    "  tweetID INTEGER\n",
    ");\"\"\""
   ]
  },
  {
   "cell_type": "code",
   "execution_count": 4,
   "metadata": {
    "collapsed": true,
    "deletable": true,
    "editable": true
   },
   "outputs": [],
   "source": [
    "# Database beginnings\n",
    "db_f = outdir + 'test.db'\n",
    "conn = sqlite3.connect(db_f)"
   ]
  },
  {
   "cell_type": "code",
   "execution_count": 5,
   "metadata": {
    "collapsed": false,
    "deletable": true,
    "editable": true
   },
   "outputs": [],
   "source": [
    "## Create database tables\n",
    "cur = conn.cursor()\n",
    "for schema in [raw_schema, tweets_schema, users_schema, dates_schema]:\n",
    "    try:\n",
    "        cur.execute(schema)\n",
    "    except Exception as e:\n",
    "        print (schema, e)\n",
    "conn.commit()"
   ]
  },
  {
   "cell_type": "code",
   "execution_count": 6,
   "metadata": {
    "collapsed": false,
    "deletable": true,
    "editable": true
   },
   "outputs": [],
   "source": [
    "# Insert data to DB\n",
    "for f in indir_fs:\n",
    "    df = pd.read_csv(f, low_memory=False, engine='c')\n",
    "    save_df_to_sql(df, conn)"
   ]
  },
  {
   "cell_type": "code",
   "execution_count": null,
   "metadata": {
    "collapsed": true,
    "deletable": true,
    "editable": true
   },
   "outputs": [],
   "source": [
    "# close up shop\n",
    "conn.close()"
   ]
  },
  {
   "cell_type": "code",
   "execution_count": null,
   "metadata": {
    "collapsed": true
   },
   "outputs": [],
   "source": []
  }
 ],
 "metadata": {
  "kernelspec": {
   "display_name": "Python 3",
   "language": "python",
   "name": "python3"
  },
  "language_info": {
   "codemirror_mode": {
    "name": "ipython",
    "version": 3
   },
   "file_extension": ".py",
   "mimetype": "text/x-python",
   "name": "python",
   "nbconvert_exporter": "python",
   "pygments_lexer": "ipython3",
   "version": "3.6.1"
  }
 },
 "nbformat": 4,
 "nbformat_minor": 2
}
