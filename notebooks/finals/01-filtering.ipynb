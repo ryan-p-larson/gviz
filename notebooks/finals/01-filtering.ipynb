{
 "cells": [
  {
   "cell_type": "markdown",
   "metadata": {},
   "source": [
    "# Filtering\n",
    "\n",
    "Traverse the tweets and output a filtered subset of the tweets to use."
   ]
  },
  {
   "cell_type": "code",
   "execution_count": 1,
   "metadata": {
    "collapsed": false
   },
   "outputs": [],
   "source": [
    "# Libraries\n",
    "\n",
    "%run utilities.py\n",
    "from multiprocessing import Pool"
   ]
  },
  {
   "cell_type": "markdown",
   "metadata": {},
   "source": [
    "#### Functions"
   ]
  },
  {
   "cell_type": "code",
   "execution_count": 2,
   "metadata": {
    "collapsed": true
   },
   "outputs": [],
   "source": [
    "# Functions\n",
    "def parallelize_series(series, func):\n",
    "    pool = Pool(6)\n",
    "\n",
    "    df = pool.map(func, series)\n",
    "\n",
    "    pool.close()\n",
    "    pool.join()\n",
    "    return df\n",
    "\n",
    "def filter_tweet_df(in_f):\n",
    "    \"\"\"\n",
    "    Formats and returns a dataframe of tweets\n",
    "    \"\"\"\n",
    "    conversions = {'retweet': lambda x: 1 if (x=='RT') else x,\n",
    "                  'date': lambda t: t.split()[1] +'-'+ t.split()[2] +'-'+ t.split()[-1]\n",
    "                  }\n",
    "    dt_parser = lambda x: pd.to_datetime(x, format=\"%b-%d-%Y\")\n",
    "    \n",
    "    raw_df = pd.read_csv(in_f, usecols=cols_scrape, \n",
    "                         low_memory=False, engine='c', # optimization\n",
    "                        converters=conversions)\n",
    "    \n",
    "    # Drop rows that'll give us trouble\n",
    "    raw_df.dropna(subset=['date', 'longitude', 'latitude'], how='any', inplace=True)\n",
    "    raw_df['date'] = dt_parser(raw_df['date'])\n",
    "    \n",
    "    return raw_df\n",
    "\n",
    "def process_file(f):\n",
    "    \"\"\"\n",
    "    Takes a \n",
    "    \"\"\"\n",
    "    \n",
    "    new_f_name = format_new_file(f, 'filtered')\n",
    "    new_f_path = name_file_path(new_f_name, outdir) ## HARD coded directory, just need to rerun\n",
    "    \n",
    "    try:\n",
    "        df = filter_tweet_df(f)\n",
    "        df.to_csv(new_f_path, index=False)\n",
    "        return {'f':f, 'suceed': True}\n",
    "    except:\n",
    "        print (\"Couldn't read: \\t{}\".format(f))\n",
    "        return {'f': f, 'suceed': False}"
   ]
  },
  {
   "cell_type": "markdown",
   "metadata": {},
   "source": [
    "#### Variables"
   ]
  },
  {
   "cell_type": "code",
   "execution_count": 3,
   "metadata": {
    "collapsed": false
   },
   "outputs": [
    {
     "name": "stdout",
     "output_type": "stream",
     "text": [
      "Directory already exists, but you can still have the file name\n"
     ]
    }
   ],
   "source": [
    "# Grab all of the files\n",
    "raw_tweets = ls_files_list(external_scrape_dir)\n",
    "\n",
    "# new directory\n",
    "outdir = make_new_dir_date(processed_finals_dir)"
   ]
  },
  {
   "cell_type": "code",
   "execution_count": 4,
   "metadata": {
    "collapsed": false
   },
   "outputs": [],
   "source": [
    "log_list = parallelize_series(raw_tweets[:5], process_file)\n",
    "log_df = pd.DataFrame(log_list)"
   ]
  },
  {
   "cell_type": "code",
   "execution_count": 5,
   "metadata": {
    "collapsed": false
   },
   "outputs": [
    {
     "data": {
      "text/html": [
       "<div>\n",
       "<table border=\"1\" class=\"dataframe\">\n",
       "  <thead>\n",
       "    <tr style=\"text-align: right;\">\n",
       "      <th></th>\n",
       "      <th>f</th>\n",
       "      <th>suceed</th>\n",
       "    </tr>\n",
       "  </thead>\n",
       "  <tbody>\n",
       "    <tr>\n",
       "      <th>0</th>\n",
       "      <td>../../data/external/scrape/tweets_immigrant_34...</td>\n",
       "      <td>True</td>\n",
       "    </tr>\n",
       "    <tr>\n",
       "      <th>1</th>\n",
       "      <td>../../data/external/scrape/tweets_immigrant_34...</td>\n",
       "      <td>True</td>\n",
       "    </tr>\n",
       "    <tr>\n",
       "      <th>2</th>\n",
       "      <td>../../data/external/scrape/tweets_immigrant_34...</td>\n",
       "      <td>True</td>\n",
       "    </tr>\n",
       "    <tr>\n",
       "      <th>3</th>\n",
       "      <td>../../data/external/scrape/tweets_immigrant_34...</td>\n",
       "      <td>True</td>\n",
       "    </tr>\n",
       "    <tr>\n",
       "      <th>4</th>\n",
       "      <td>../../data/external/scrape/tweets_immigrant_34...</td>\n",
       "      <td>True</td>\n",
       "    </tr>\n",
       "  </tbody>\n",
       "</table>\n",
       "</div>"
      ],
      "text/plain": [
       "                                                   f suceed\n",
       "0  ../../data/external/scrape/tweets_immigrant_34...   True\n",
       "1  ../../data/external/scrape/tweets_immigrant_34...   True\n",
       "2  ../../data/external/scrape/tweets_immigrant_34...   True\n",
       "3  ../../data/external/scrape/tweets_immigrant_34...   True\n",
       "4  ../../data/external/scrape/tweets_immigrant_34...   True"
      ]
     },
     "execution_count": 5,
     "metadata": {},
     "output_type": "execute_result"
    }
   ],
   "source": [
    "log_df.head()"
   ]
  }
 ],
 "metadata": {
  "kernelspec": {
   "display_name": "Python 3",
   "language": "python",
   "name": "python3"
  },
  "language_info": {
   "codemirror_mode": {
    "name": "ipython",
    "version": 3
   },
   "file_extension": ".py",
   "mimetype": "text/x-python",
   "name": "python",
   "nbconvert_exporter": "python",
   "pygments_lexer": "ipython3",
   "version": "3.6.1"
  }
 },
 "nbformat": 4,
 "nbformat_minor": 2
}
