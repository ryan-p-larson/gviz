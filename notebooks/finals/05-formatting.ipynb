{
 "cells": [
  {
   "cell_type": "markdown",
   "metadata": {},
   "source": [
    "# Formatting.\n",
    "\n",
    "Get the data into a format we can use in D3.js."
   ]
  },
  {
   "cell_type": "code",
   "execution_count": 1,
   "metadata": {
    "collapsed": true
   },
   "outputs": [],
   "source": [
    "# Libraries\n",
    "\n",
    "%run utilities.py\n",
    "\n",
    "import sqlite3\n",
    "import json\n",
    "from collections import defaultdict"
   ]
  },
  {
   "cell_type": "code",
   "execution_count": 2,
   "metadata": {
    "collapsed": true
   },
   "outputs": [],
   "source": [
    "# establish the DB connection\n",
    "conn = sqlite3.connect(tweet_db)"
   ]
  },
  {
   "cell_type": "markdown",
   "metadata": {},
   "source": [
    "#### Tweets by Date\n",
    "\n",
    "JSON, using the date as a key for easier lookup later."
   ]
  },
  {
   "cell_type": "code",
   "execution_count": 4,
   "metadata": {
    "collapsed": true
   },
   "outputs": [],
   "source": [
    "# dataframe\n",
    "tweets_by_day = (pd.read_sql_query(\"select * from Tweets;\", conn)).groupby('date')\n",
    "# series\n",
    "tweets_by_day = tweets_by_day.apply(lambda x: x.to_json(orient='records'))\n",
    "# serialized json\n",
    "#tweets_by_day.to_json(orient='index')"
   ]
  },
  {
   "cell_type": "code",
   "execution_count": 5,
   "metadata": {},
   "outputs": [],
   "source": [
    "tweets_by_day.to_json('test-tweet-by-day.json', orient='index')"
   ]
  },
  {
   "cell_type": "markdown",
   "metadata": {},
   "source": [
    "#### Most Popular Users\n",
    "\n",
    "Get a count of all the users."
   ]
  },
  {
   "cell_type": "code",
   "execution_count": 27,
   "metadata": {},
   "outputs": [],
   "source": [
    "# Grab every user name and get their counts\n",
    "user_counts = (pd.read_sql_query(\"select username from Users;\", conn)).username.value_counts()\n",
    "# rename columns to human readable\n",
    "user_counts = user_counts.reset_index().rename(columns={'index': 'Username', 'username': 'Count'})\n",
    "# write out the most popular users (1000th user has 22 tweets)\n",
    "user_counts.iloc[:1000]to_csv('popular-users.csv', index=False)"
   ]
  },
  {
   "cell_type": "markdown",
   "metadata": {},
   "source": [
    "#### Popular User Tweets\n",
    "\n"
   ]
  },
  {
   "cell_type": "code",
   "execution_count": 43,
   "metadata": {},
   "outputs": [
    {
     "name": "stdout",
     "output_type": "stream",
     "text": [
      "islamstoris\n",
      "yammamamalek\n",
      "haleem990079\n",
      "saadalqahtani0\n",
      "alsamer4141\n",
      "TII99\n",
      "prioritydate\n",
      "3ALDHMASHi\n",
      "ReemHadeer\n",
      "ayedalrashidi12\n",
      "amer_altawergi\n",
      "aj_alshaheen257\n",
      "AAL_Tawi\n",
      "freeforiraq\n",
      "m504n\n",
      "bho14321\n",
      "foofa12345\n",
      "jory217\n",
      "a_alatwi\n",
      "amen112012\n",
      "alfalh2222\n",
      "mo_alshammari\n",
      "22mMoome\n",
      "SOM___OTB\n",
      "aleid_sh\n",
      "1alsbahi1\n",
      "a_oo06\n",
      "ThMoudhi\n",
      "a_aldosii\n",
      "k_g_k_a_\n",
      "wanasah2010\n",
      "live2family\n",
      "adnan66771\n",
      "ather89\n",
      "Monemn6789\n",
      "S_hATAT\n",
      "heboou\n",
      "Zyzy15152\n",
      "ajmal_a7sas_\n",
      "adbullah1231\n",
      "zadmuslam\n",
      "dontlove363\n",
      "Iizx1167\n",
      "JANA_MOHD\n",
      "abutu_ke\n",
      "ibrahim_zidann\n",
      "rshoooddd1\n",
      "hvsvtf54\n",
      "MufadhMafadhi\n",
      "saddah_q8\n",
      "Bn7lall\n",
      "al5orey__f\n",
      "IsmailAbdulmugh\n",
      "almesaihel\n",
      "Esoo_taif\n",
      "sam5568\n",
      "KawamlhOmar\n",
      "naderelbrnc\n",
      "lost_dreem\n",
      "smartsway\n",
      "3h_d32\n",
      "omarabdulhadi98\n",
      "jaman212121\n",
      "_4u4u_\n",
      "reem727x\n",
      "nadooshah_r\n",
      "ass11_aa50\n",
      "dode14_15\n",
      "Suha_M_F\n",
      "_ABU_WESAM\n",
      "helah_alfawaz\n",
      "lole3491\n",
      "love_allah_01\n",
      "muslethamod\n",
      "N_alsuwaidi2\n",
      "12344321Mkt92\n",
      "tsad300\n",
      "firasyakoub\n",
      "Heba95_\n",
      "abdulazizsaad33\n",
      "613300Ahmad\n",
      "amira_y67\n",
      "ahmad60100\n",
      "Hafidz341\n",
      "mohdbash17\n",
      "Reem_kuwait_\n",
      "yalh_aljnh\n",
      "ssalkutbi\n",
      "LiveEUDebate\n",
      "ap5039444\n",
      "NharMajed\n",
      "Talal877000\n",
      "ALKBBI99\n",
      "shaher9941\n",
      "ksa1396s\n",
      "D_a_p_q\n",
      "Its_3nadi\n",
      "Jedi_Pite_Bre\n",
      "princesssara915\n",
      "DoaKalbu\n"
     ]
    }
   ],
   "source": [
    "users = {}\n",
    "\n",
    "for user in user_counts.Username.iloc[:100].tolist():\n",
    "    print (user)\n",
    "    \n",
    "    # create the query\n",
    "    query = \"SELECT message, latitude, longitude, date FROM Raw WHERE username = '{}';\".format(user)\n",
    "    user_tweets = pd.read_sql_query(query, conn)\n",
    "    \n",
    "    # add their tweets to the dictionairy\n",
    "    users[user] = user_tweets.to_dict('records')"
   ]
  },
  {
   "cell_type": "code",
   "execution_count": null,
   "metadata": {
    "collapsed": true
   },
   "outputs": [],
   "source": []
  }
 ],
 "metadata": {
  "kernelspec": {
   "display_name": "Python 3",
   "language": "python",
   "name": "python3"
  },
  "language_info": {
   "codemirror_mode": {
    "name": "ipython",
    "version": 3
   },
   "file_extension": ".py",
   "mimetype": "text/x-python",
   "name": "python",
   "nbconvert_exporter": "python",
   "pygments_lexer": "ipython3",
   "version": "3.5.3"
  }
 },
 "nbformat": 4,
 "nbformat_minor": 2
}
