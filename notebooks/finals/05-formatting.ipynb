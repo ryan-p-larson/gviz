{
 "cells": [
  {
   "cell_type": "markdown",
   "metadata": {},
   "source": [
    "# Formatting.\n",
    "\n",
    "Get the data into a format we can use in D3.js."
   ]
  },
  {
   "cell_type": "code",
   "execution_count": 1,
   "metadata": {
    "collapsed": true
   },
   "outputs": [],
   "source": [
    "# Libraries\n",
    "\n",
    "%run utilities.py\n",
    "\n",
    "import sqlite3\n",
    "import json\n",
    "from collections import defaultdict"
   ]
  },
  {
   "cell_type": "code",
   "execution_count": 2,
   "metadata": {
    "collapsed": true
   },
   "outputs": [],
   "source": [
    "# establish the DB connection\n",
    "conn = sqlite3.connect(tweet_db)"
   ]
  },
  {
   "cell_type": "markdown",
   "metadata": {},
   "source": [
    "#### Tweets by Date\n",
    "\n",
    "JSON, using the date as a key for easier lookup later."
   ]
  },
  {
   "cell_type": "code",
   "execution_count": 3,
   "metadata": {
    "collapsed": true
   },
   "outputs": [],
   "source": [
    "# dataframe\n",
    "tweets_by_day = (pd.read_sql_query(\"select * from Tweets;\", conn)).groupby('date')\n",
    "# series\n",
    "tweets_by_day = tweets_by_day.apply(lambda x: x.to_json(orient='records'))\n",
    "\n",
    "# serialized json\n",
    "tweets_by_day_f = name_file_path('tweet-by-day.json', processed_web_dir)\n",
    "tweets_by_day.to_json(tweets_by_day_f, orient='index')"
   ]
  },
  {
   "cell_type": "code",
   "execution_count": 5,
   "metadata": {
    "collapsed": true
   },
   "outputs": [],
   "source": []
  },
  {
   "cell_type": "markdown",
   "metadata": {},
   "source": [
    "#### Most Popular Users\n",
    "\n",
    "Get a count of all the users."
   ]
  },
  {
   "cell_type": "code",
   "execution_count": 6,
   "metadata": {},
   "outputs": [],
   "source": [
    "# Grab every user name and get their counts\n",
    "user_counts = (pd.read_sql_query(\"select username from Users;\", conn)).username.value_counts()\n",
    "# rename columns to human readable\n",
    "user_counts = user_counts.reset_index().rename(columns={'index': 'Username', 'username': 'Count'})\n",
    "\n",
    "# write out the most popular users (1000th user has 22 tweets)\n",
    "user_counts_f = name_file_path('popular-users.csv', processed_web_dir)\n",
    "user_counts.iloc[:100].to_csv(user_counts_f, index=False)"
   ]
  },
  {
   "cell_type": "markdown",
   "metadata": {},
   "source": [
    "#### Popular User Tweets\n",
    "\n"
   ]
  },
  {
   "cell_type": "code",
   "execution_count": 7,
   "metadata": {},
   "outputs": [
    {
     "name": "stdout",
     "output_type": "stream",
     "text": [
      "islamstoris\n",
      "yammamamalek\n",
      "haleem990079\n",
      "saadalqahtani0\n",
      "alsamer4141\n",
      "TII99\n",
      "prioritydate\n",
      "3ALDHMASHi\n",
      "ReemHadeer\n",
      "ayedalrashidi12\n",
      "amer_altawergi\n",
      "aj_alshaheen257\n",
      "AAL_Tawi\n",
      "freeforiraq\n",
      "foofa12345\n",
      "m504n\n",
      "jory217\n",
      "bho14321\n",
      "a_alatwi\n",
      "SOM___OTB\n",
      "mo_alshammari\n",
      "22mMoome\n",
      "alfalh2222\n",
      "amen112012\n",
      "1alsbahi1\n",
      "aleid_sh\n",
      "a_oo06\n",
      "ThMoudhi\n",
      "a_aldosii\n",
      "k_g_k_a_\n",
      "adnan66771\n",
      "wanasah2010\n",
      "live2family\n",
      "ather89\n",
      "S_hATAT\n",
      "heboou\n",
      "Monemn6789\n",
      "dontlove363\n",
      "abutu_ke\n",
      "JANA_MOHD\n",
      "zadmuslam\n",
      "adbullah1231\n",
      "Iizx1167\n",
      "Zyzy15152\n",
      "ajmal_a7sas_\n",
      "MufadhMafadhi\n",
      "ibrahim_zidann\n",
      "hvsvtf54\n",
      "saddah_q8\n",
      "rshoooddd1\n",
      "Bn7lall\n",
      "sam5568\n",
      "al5orey__f\n",
      "Esoo_taif\n",
      "almesaihel\n",
      "IsmailAbdulmugh\n",
      "naderelbrnc\n",
      "smartsway\n",
      "KawamlhOmar\n",
      "lost_dreem\n",
      "omarabdulhadi98\n",
      "3h_d32\n",
      "_4u4u_\n",
      "jaman212121\n",
      "dode14_15\n",
      "nadooshah_r\n",
      "reem727x\n",
      "ass11_aa50\n",
      "Suha_M_F\n",
      "helah_alfawaz\n",
      "_ABU_WESAM\n",
      "lole3491\n",
      "love_allah_01\n",
      "muslethamod\n",
      "N_alsuwaidi2\n",
      "tsad300\n",
      "12344321Mkt92\n",
      "firasyakoub\n",
      "Heba95_\n",
      "abdulazizsaad33\n",
      "613300Ahmad\n",
      "amira_y67\n",
      "ahmad60100\n",
      "Hafidz341\n",
      "mohdbash17\n",
      "Reem_kuwait_\n",
      "ssalkutbi\n",
      "yalh_aljnh\n",
      "ap5039444\n",
      "LiveEUDebate\n",
      "Talal877000\n",
      "NharMajed\n",
      "ALKBBI99\n",
      "shaher9941\n",
      "ksa1396s\n",
      "Its_3nadi\n",
      "Jedi_Pite_Bre\n",
      "D_a_p_q\n",
      "princesssara915\n",
      "DoaKalbu\n"
     ]
    }
   ],
   "source": [
    "users = {}\n",
    "\n",
    "for user in user_counts.Username.iloc[:100].tolist():\n",
    "    print (user)\n",
    "    \n",
    "    # create the query\n",
    "    query = \"SELECT message, latitude, longitude, date FROM Raw WHERE username = '{}';\".format(user)\n",
    "    user_tweets = pd.read_sql_query(query, conn)\n",
    "    \n",
    "    # add their tweets to the dictionairy\n",
    "    users[user] = user_tweets.to_dict('records')"
   ]
  },
  {
   "cell_type": "code",
   "execution_count": null,
   "metadata": {
    "collapsed": true
   },
   "outputs": [],
   "source": []
  }
 ],
 "metadata": {
  "kernelspec": {
   "display_name": "Python 3",
   "language": "python",
   "name": "python3"
  },
  "language_info": {
   "codemirror_mode": {
    "name": "ipython",
    "version": 3
   },
   "file_extension": ".py",
   "mimetype": "text/x-python",
   "name": "python",
   "nbconvert_exporter": "python",
   "pygments_lexer": "ipython3",
   "version": "3.5.3"
  }
 },
 "nbformat": 4,
 "nbformat_minor": 2
}
