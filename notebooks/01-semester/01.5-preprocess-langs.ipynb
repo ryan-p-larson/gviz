{
 "cells": [
  {
   "cell_type": "code",
   "execution_count": 1,
   "metadata": {
    "collapsed": true
   },
   "outputs": [],
   "source": [
    "import os\n",
    "import sys\n",
    "\n",
    "\n",
    "# add the 'src' directory as one where we can import modules\n",
    "src_dir = os.path.join(os.getcwd(), os.pardir, 'src')\n",
    "sys.path.append(src_dir)\n"
   ]
  },
  {
   "cell_type": "code",
   "execution_count": 2,
   "metadata": {
    "collapsed": false
   },
   "outputs": [],
   "source": [
    "import pandas as pd\n",
    "import ldig.predict_tweet as ldig"
   ]
  },
  {
   "cell_type": "code",
   "execution_count": 3,
   "metadata": {
    "collapsed": false
   },
   "outputs": [],
   "source": [
    "detector = ldig.Detector('../src/ldig/models/model.latin/')"
   ]
  },
  {
   "cell_type": "markdown",
   "metadata": {},
   "source": [
    "---"
   ]
  },
  {
   "cell_type": "code",
   "execution_count": 4,
   "metadata": {
    "collapsed": true,
    "deletable": true,
    "editable": true
   },
   "outputs": [],
   "source": [
    "cols_scrape = [\n",
    "    'username',\n",
    "    'longitude',\n",
    "    'latitude',\n",
    "    'date',\n",
    "    'message',\n",
    "    'tweetID',\n",
    "    'language',\n",
    "    'hashtag1',\n",
    "    'hashtag2',\n",
    "    'hashtag3',\n",
    "    'hashtag4',\n",
    "    'hashtag5'\n",
    "]\n",
    "\n",
    "test_f = \"../data/external/scrape/tweets_immigrant_34316.csv\""
   ]
  },
  {
   "cell_type": "code",
   "execution_count": 5,
   "metadata": {
    "collapsed": false,
    "deletable": true,
    "editable": true
   },
   "outputs": [
    {
     "data": {
      "text/html": [
       "<div>\n",
       "<table border=\"1\" class=\"dataframe\">\n",
       "  <thead>\n",
       "    <tr style=\"text-align: right;\">\n",
       "      <th></th>\n",
       "      <th>username</th>\n",
       "      <th>longitude</th>\n",
       "      <th>latitude</th>\n",
       "      <th>date</th>\n",
       "      <th>message</th>\n",
       "    </tr>\n",
       "  </thead>\n",
       "  <tbody>\n",
       "    <tr>\n",
       "      <th>0</th>\n",
       "      <td>AmankQadafi</td>\n",
       "      <td>103.782900</td>\n",
       "      <td>1.520593</td>\n",
       "      <td>Fri Dec 23 02:59:52 CST 2016</td>\n",
       "      <td>RT : Lahir &amp; besar dari keluarga yg kental dgn...</td>\n",
       "    </tr>\n",
       "    <tr>\n",
       "      <th>1</th>\n",
       "      <td>s_roberts13</td>\n",
       "      <td>110.415306</td>\n",
       "      <td>-7.688465</td>\n",
       "      <td>Fri Dec 23 02:59:52 CST 2016</td>\n",
       "      <td>RT : YouTuber:*bumps into Muslim in street* Mu...</td>\n",
       "    </tr>\n",
       "    <tr>\n",
       "      <th>2</th>\n",
       "      <td>ittihad0002</td>\n",
       "      <td>106.938970</td>\n",
       "      <td>-6.220550</td>\n",
       "      <td>Fri Dec 23 02:59:52 CST 2016</td>\n",
       "      <td>أذكار الأذان:اللهم رب هذه الدعوة التامة والصلا...</td>\n",
       "    </tr>\n",
       "    <tr>\n",
       "      <th>3</th>\n",
       "      <td>SalviaManuputty</td>\n",
       "      <td>101.760120</td>\n",
       "      <td>2.962812</td>\n",
       "      <td>Fri Dec 23 02:59:52 CST 2016</td>\n",
       "      <td>Big Size Jumbo XXL Gamis Maxi Dress B...</td>\n",
       "    </tr>\n",
       "    <tr>\n",
       "      <th>4</th>\n",
       "      <td>AmankQadafi</td>\n",
       "      <td>103.090640</td>\n",
       "      <td>5.407075</td>\n",
       "      <td>Fri Dec 23 02:59:52 CST 2016</td>\n",
       "      <td>RT : Lahir &amp; besar dari keluarga yg kental dgn...</td>\n",
       "    </tr>\n",
       "  </tbody>\n",
       "</table>\n",
       "</div>"
      ],
      "text/plain": [
       "          username   longitude  latitude                          date  \\\n",
       "0      AmankQadafi  103.782900  1.520593  Fri Dec 23 02:59:52 CST 2016   \n",
       "1      s_roberts13  110.415306 -7.688465  Fri Dec 23 02:59:52 CST 2016   \n",
       "2      ittihad0002  106.938970 -6.220550  Fri Dec 23 02:59:52 CST 2016   \n",
       "3  SalviaManuputty  101.760120  2.962812  Fri Dec 23 02:59:52 CST 2016   \n",
       "4      AmankQadafi  103.090640  5.407075  Fri Dec 23 02:59:52 CST 2016   \n",
       "\n",
       "                                             message  \n",
       "0  RT : Lahir & besar dari keluarga yg kental dgn...  \n",
       "1  RT : YouTuber:*bumps into Muslim in street* Mu...  \n",
       "2  أذكار الأذان:اللهم رب هذه الدعوة التامة والصلا...  \n",
       "3           Big Size Jumbo XXL Gamis Maxi Dress B...  \n",
       "4  RT : Lahir & besar dari keluarga yg kental dgn...  "
      ]
     },
     "execution_count": 5,
     "metadata": {},
     "output_type": "execute_result"
    }
   ],
   "source": [
    "test_df = pd.read_csv(test_f, usecols=cols_scrape)\n",
    "test_df[cols_scrape[:5]].head()"
   ]
  },
  {
   "cell_type": "markdown",
   "metadata": {
    "deletable": true,
    "editable": true
   },
   "source": [
    "Do the whole data frame now, and see how many we cut down."
   ]
  },
  {
   "cell_type": "code",
   "execution_count": 6,
   "metadata": {
    "collapsed": false,
    "deletable": true,
    "editable": true
   },
   "outputs": [
    {
     "name": "stdout",
     "output_type": "stream",
     "text": [
      "Before (no message filter):\t375600\n",
      "Before (only those w/messages):\t374678\n",
      "ca    186104\n",
      "en    129753\n",
      "id     21720\n",
      "es     13862\n",
      "fr     10513\n",
      "tr      3471\n",
      "de      3082\n",
      "nl      2650\n",
      "it      1286\n",
      "pt       933\n",
      "sv       339\n",
      "da       179\n",
      "ro       159\n",
      "pl       150\n",
      "fi       141\n",
      "cs       128\n",
      "no        89\n",
      "hu        78\n",
      "vi        41\n",
      "Name: pred_lang, dtype: int64\n",
      "After:\t129753\n"
     ]
    }
   ],
   "source": [
    "print ('Before (no message filter):\\t{}'.format(test_df.shape[0]))\n",
    "\n",
    "# preprocess\n",
    "test_df.dropna(subset=['message'], inplace=True)\n",
    "print ('Before (only those w/messages):\\t{}'.format(test_df.shape[0]))\n",
    "\n",
    "# classify language\n",
    "test_df['pred_lang'] = test_df.message.apply(lambda x: detector.get_tweet_lang(x))\n",
    "print (test_df['pred_lang'].value_counts())\n",
    "\n",
    "# English tweets, please\n",
    "english = test_df[test_df['pred_lang'] == 'en']\n",
    "print ('After:\\t{}'.format(english.shape[0]))"
   ]
  },
  {
   "cell_type": "code",
   "execution_count": 10,
   "metadata": {
    "collapsed": false,
    "deletable": true,
    "editable": true
   },
   "outputs": [
    {
     "ename": "AttributeError",
     "evalue": "'Detector' object has no attribute 'get_scrape_lang'",
     "output_type": "error",
     "traceback": [
      "\u001b[0;31m---------------------------------------------------------------------------\u001b[0m",
      "\u001b[0;31mAttributeError\u001b[0m                            Traceback (most recent call last)",
      "\u001b[0;32m/home/user/develop/gviz/notebooks/01.5-preprocess-langs.py\u001b[0m in \u001b[0;36m<module>\u001b[0;34m()\u001b[0m\n\u001b[1;32m     41\u001b[0m     \u001b[0mfunc_list\u001b[0m \u001b[0;34m=\u001b[0m \u001b[0;34m[\u001b[0m\u001b[0;34m]\u001b[0m\u001b[0;34m\u001b[0m\u001b[0m\n\u001b[1;32m     42\u001b[0m     \u001b[0;32mfor\u001b[0m \u001b[0mdf\u001b[0m \u001b[0;32min\u001b[0m \u001b[0mreader\u001b[0m\u001b[0;34m:\u001b[0m\u001b[0;34m\u001b[0m\u001b[0m\n\u001b[0;32m---> 43\u001b[0;31m         \u001b[0mf\u001b[0m \u001b[0;34m=\u001b[0m \u001b[0mpool\u001b[0m\u001b[0;34m.\u001b[0m\u001b[0mapply_async\u001b[0m\u001b[0;34m(\u001b[0m\u001b[0mdetector\u001b[0m\u001b[0;34m.\u001b[0m\u001b[0mget_scrape_lang\u001b[0m\u001b[0;34m,\u001b[0m \u001b[0;34m[\u001b[0m\u001b[0mdf\u001b[0m\u001b[0;34m]\u001b[0m\u001b[0;34m)\u001b[0m\u001b[0;34m\u001b[0m\u001b[0m\n\u001b[0m\u001b[1;32m     44\u001b[0m         \u001b[0mfunc_list\u001b[0m\u001b[0;34m.\u001b[0m\u001b[0mappend\u001b[0m\u001b[0;34m(\u001b[0m\u001b[0mf\u001b[0m\u001b[0;34m)\u001b[0m\u001b[0;34m\u001b[0m\u001b[0m\n\u001b[1;32m     45\u001b[0m \u001b[0;34m\u001b[0m\u001b[0m\n",
      "\u001b[0;31mAttributeError\u001b[0m: 'Detector' object has no attribute 'get_scrape_lang'"
     ]
    },
    {
     "ename": "AttributeError",
     "evalue": "'Detector' object has no attribute 'get_scrape_lang'",
     "output_type": "error",
     "traceback": [
      "\u001b[0;31m---------------------------------------------------------------------------\u001b[0m",
      "\u001b[0;31mAttributeError\u001b[0m                            Traceback (most recent call last)",
      "\u001b[0;32m/home/user/develop/gviz/notebooks/01.5-preprocess-langs.py\u001b[0m in \u001b[0;36m<module>\u001b[0;34m()\u001b[0m\n\u001b[1;32m     41\u001b[0m     \u001b[0mfunc_list\u001b[0m \u001b[0;34m=\u001b[0m \u001b[0;34m[\u001b[0m\u001b[0;34m]\u001b[0m\u001b[0;34m\u001b[0m\u001b[0m\n\u001b[1;32m     42\u001b[0m     \u001b[0;32mfor\u001b[0m \u001b[0mdf\u001b[0m \u001b[0;32min\u001b[0m \u001b[0mreader\u001b[0m\u001b[0;34m:\u001b[0m\u001b[0;34m\u001b[0m\u001b[0m\n\u001b[0;32m---> 43\u001b[0;31m         \u001b[0mf\u001b[0m \u001b[0;34m=\u001b[0m \u001b[0mpool\u001b[0m\u001b[0;34m.\u001b[0m\u001b[0mapply_async\u001b[0m\u001b[0;34m(\u001b[0m\u001b[0mdetector\u001b[0m\u001b[0;34m.\u001b[0m\u001b[0mget_scrape_lang\u001b[0m\u001b[0;34m,\u001b[0m \u001b[0;34m[\u001b[0m\u001b[0mdf\u001b[0m\u001b[0;34m]\u001b[0m\u001b[0;34m)\u001b[0m\u001b[0;34m\u001b[0m\u001b[0m\n\u001b[0m\u001b[1;32m     44\u001b[0m         \u001b[0mfunc_list\u001b[0m\u001b[0;34m.\u001b[0m\u001b[0mappend\u001b[0m\u001b[0;34m(\u001b[0m\u001b[0mf\u001b[0m\u001b[0;34m)\u001b[0m\u001b[0;34m\u001b[0m\u001b[0m\n\u001b[1;32m     45\u001b[0m \u001b[0;34m\u001b[0m\u001b[0m\n",
      "\u001b[0;31mAttributeError\u001b[0m: 'Detector' object has no attribute 'get_scrape_lang'"
     ]
    },
    {
     "ename": "AttributeError",
     "evalue": "'Detector' object has no attribute 'get_scrape_lang'",
     "output_type": "error",
     "traceback": [
      "\u001b[0;31m---------------------------------------------------------------------------\u001b[0m",
      "\u001b[0;31mAttributeError\u001b[0m                            Traceback (most recent call last)",
      "\u001b[0;32m/home/user/develop/gviz/notebooks/01.5-preprocess-langs.py\u001b[0m in \u001b[0;36m<module>\u001b[0;34m()\u001b[0m\n\u001b[1;32m     41\u001b[0m     \u001b[0mfunc_list\u001b[0m \u001b[0;34m=\u001b[0m \u001b[0;34m[\u001b[0m\u001b[0;34m]\u001b[0m\u001b[0;34m\u001b[0m\u001b[0m\n\u001b[1;32m     42\u001b[0m     \u001b[0;32mfor\u001b[0m \u001b[0mdf\u001b[0m \u001b[0;32min\u001b[0m \u001b[0mreader\u001b[0m\u001b[0;34m:\u001b[0m\u001b[0;34m\u001b[0m\u001b[0m\n\u001b[0;32m---> 43\u001b[0;31m         \u001b[0mf\u001b[0m \u001b[0;34m=\u001b[0m \u001b[0mpool\u001b[0m\u001b[0;34m.\u001b[0m\u001b[0mapply_async\u001b[0m\u001b[0;34m(\u001b[0m\u001b[0mdetector\u001b[0m\u001b[0;34m.\u001b[0m\u001b[0mget_scrape_lang\u001b[0m\u001b[0;34m,\u001b[0m \u001b[0;34m[\u001b[0m\u001b[0mdf\u001b[0m\u001b[0;34m]\u001b[0m\u001b[0;34m)\u001b[0m\u001b[0;34m\u001b[0m\u001b[0m\n\u001b[0m\u001b[1;32m     44\u001b[0m         \u001b[0mfunc_list\u001b[0m\u001b[0;34m.\u001b[0m\u001b[0mappend\u001b[0m\u001b[0;34m(\u001b[0m\u001b[0mf\u001b[0m\u001b[0;34m)\u001b[0m\u001b[0;34m\u001b[0m\u001b[0m\n\u001b[1;32m     45\u001b[0m \u001b[0;34m\u001b[0m\u001b[0m\n",
      "\u001b[0;31mAttributeError\u001b[0m: 'Detector' object has no attribute 'get_scrape_lang'"
     ]
    },
    {
     "name": "stdout",
     "output_type": "stream",
     "text": [
      "1 loop, best of 3: 5.83 s per loop\n"
     ]
    }
   ],
   "source": [
    "# took forever!\n",
    "#lets time it  with multithreading\n",
    "%timeit -n 1 %run 01.5-preprocess-langs.py"
   ]
  },
  {
   "cell_type": "code",
   "execution_count": null,
   "metadata": {
    "collapsed": true
   },
   "outputs": [],
   "source": []
  }
 ],
 "metadata": {
  "kernelspec": {
   "display_name": "Python 3",
   "language": "python",
   "name": "python3"
  },
  "language_info": {
   "codemirror_mode": {
    "name": "ipython",
    "version": 3
   },
   "file_extension": ".py",
   "mimetype": "text/x-python",
   "name": "python",
   "nbconvert_exporter": "python",
   "pygments_lexer": "ipython3",
   "version": "3.6.1"
  }
 },
 "nbformat": 4,
 "nbformat_minor": 2
}
