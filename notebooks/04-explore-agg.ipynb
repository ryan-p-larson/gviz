{
 "cells": [
  {
   "cell_type": "code",
   "execution_count": 1,
   "metadata": {
    "collapsed": true,
    "deletable": true,
    "editable": true
   },
   "outputs": [],
   "source": [
    "import pandas as pd"
   ]
  },
  {
   "cell_type": "code",
   "execution_count": 2,
   "metadata": {
    "collapsed": false,
    "deletable": true,
    "editable": true
   },
   "outputs": [],
   "source": [
    "all_f = '../data/processed/scrape/4-4/all-agg.csv'\n",
    "#all_f = '../data/processed/scrape/4-4/test.tar.bzip2'\n",
    "\n",
    "day_f = '../data/processed/scrape/4-4/day-agg.csv'\n",
    "lang_f = '../data/processed/scrape/4-4/day-lang-agg.csv'\n",
    "\n",
    "\n",
    "all_df = pd.read_csv(all_f)\n",
    "#                     parse_dates=['day'], infer_datetime_format=True)"
   ]
  },
  {
   "cell_type": "code",
   "execution_count": 20,
   "metadata": {
    "collapsed": false
   },
   "outputs": [],
   "source": [
    "# day by day\n",
    "grouped_day = all_df[['day', 'count']].groupby(['day']).agg('sum')\n",
    "grouped_day.to_csv(day_f, index=False)"
   ]
  },
  {
   "cell_type": "code",
   "execution_count": 21,
   "metadata": {
    "collapsed": false
   },
   "outputs": [],
   "source": [
    "# Language by language\n",
    "grouped_lang = all_df[['day', 'language', 'count']].groupby(['day', 'language']).agg('sum')\n",
    "grouped_lang.to_csv(lang_f, index=False)"
   ]
  },
  {
   "cell_type": "markdown",
   "metadata": {},
   "source": [
    "#### User Aggreation\n",
    "\n",
    "All together, the `.csv` file is 1.1 GB. We're going to break it into more manageable chunks. "
   ]
  },
  {
   "cell_type": "code",
   "execution_count": 18,
   "metadata": {
    "collapsed": false,
    "deletable": true,
    "editable": true
   },
   "outputs": [],
   "source": [
    "def get_year(date):\n",
    "    return date[:4]\n",
    "\n",
    "def get_month(date):\n",
    "    return date.split('-')[1]\n",
    "\n",
    "# assign year\n",
    "all_df['year'] = all_df['day'].apply(lambda x: get_year(x))\n",
    "all_df['month'] = all_df['day'].apply(lambda x: get_month(x))"
   ]
  },
  {
   "cell_type": "code",
   "execution_count": 23,
   "metadata": {
    "collapsed": false,
    "deletable": true,
    "editable": true
   },
   "outputs": [
    {
     "data": {
      "text/html": [
       "<div>\n",
       "<table border=\"1\" class=\"dataframe\">\n",
       "  <thead>\n",
       "    <tr style=\"text-align: right;\">\n",
       "      <th></th>\n",
       "      <th>day</th>\n",
       "      <th>language</th>\n",
       "      <th>user</th>\n",
       "      <th>count</th>\n",
       "      <th>year</th>\n",
       "      <th>month</th>\n",
       "    </tr>\n",
       "  </thead>\n",
       "  <tbody>\n",
       "    <tr>\n",
       "      <th>0</th>\n",
       "      <td>2017-02-25</td>\n",
       "      <td>ar</td>\n",
       "      <td>0000_khalaf</td>\n",
       "      <td>11</td>\n",
       "      <td>2017</td>\n",
       "      <td>02</td>\n",
       "    </tr>\n",
       "    <tr>\n",
       "      <th>1</th>\n",
       "      <td>2017-02-25</td>\n",
       "      <td>ar</td>\n",
       "      <td>0001yasir</td>\n",
       "      <td>9</td>\n",
       "      <td>2017</td>\n",
       "      <td>02</td>\n",
       "    </tr>\n",
       "  </tbody>\n",
       "</table>\n",
       "</div>"
      ],
      "text/plain": [
       "          day language         user  count  year month\n",
       "0  2017-02-25       ar  0000_khalaf     11  2017    02\n",
       "1  2017-02-25       ar    0001yasir      9  2017    02"
      ]
     },
     "execution_count": 23,
     "metadata": {},
     "output_type": "execute_result"
    }
   ],
   "source": [
    "# filter\n",
    "df_17 = all_df[all_df.year == '2017']\n",
    "df_17.head(2)"
   ]
  },
  {
   "cell_type": "code",
   "execution_count": 25,
   "metadata": {
    "collapsed": true,
    "deletable": true,
    "editable": true
   },
   "outputs": [],
   "source": [
    "jan = df_17[df_17.month == '01']\n",
    "feb = df_17[df_17.month == '02']"
   ]
  },
  {
   "cell_type": "code",
   "execution_count": 28,
   "metadata": {
    "collapsed": true,
    "deletable": true,
    "editable": true
   },
   "outputs": [],
   "source": [
    "out_f = '../data/processed/scrape/4-4/jan-agg.csv'\n",
    "jan[['day', 'language', 'user', 'count']].to_csv(out_f, index=False)"
   ]
  },
  {
   "cell_type": "code",
   "execution_count": 29,
   "metadata": {
    "collapsed": true,
    "deletable": true,
    "editable": true
   },
   "outputs": [],
   "source": [
    "out_f = '../data/processed/scrape/4-4/feb-agg.csv'\n",
    "feb[['day', 'language', 'user', 'count']].to_csv(out_f, index=False)"
   ]
  },
  {
   "cell_type": "code",
   "execution_count": 31,
   "metadata": {
    "collapsed": false,
    "deletable": true,
    "editable": true
   },
   "outputs": [],
   "source": [
    "mar = df_17[df_17.month == '03']\n",
    "\n",
    "out_f = '../data/processed/scrape/4-4/mar-agg.csv'\n",
    "mar[['day', 'language', 'user', 'count']].to_csv(out_f, index=False)"
   ]
  },
  {
   "cell_type": "code",
   "execution_count": null,
   "metadata": {
    "collapsed": true,
    "deletable": true,
    "editable": true
   },
   "outputs": [],
   "source": []
  }
 ],
 "metadata": {
  "kernelspec": {
   "display_name": "Python 3",
   "language": "python",
   "name": "python3"
  },
  "language_info": {
   "codemirror_mode": {
    "name": "ipython",
    "version": 3
   },
   "file_extension": ".py",
   "mimetype": "text/x-python",
   "name": "python",
   "nbconvert_exporter": "python",
   "pygments_lexer": "ipython3",
   "version": "3.6.1"
  }
 },
 "nbformat": 4,
 "nbformat_minor": 2
}
