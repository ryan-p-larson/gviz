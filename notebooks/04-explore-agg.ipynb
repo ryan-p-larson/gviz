{
 "cells": [
  {
   "cell_type": "code",
   "execution_count": 1,
   "metadata": {
    "collapsed": true
   },
   "outputs": [],
   "source": [
    "import pandas as pd"
   ]
  },
  {
   "cell_type": "code",
   "execution_count": 4,
   "metadata": {
    "collapsed": false
   },
   "outputs": [],
   "source": [
    "all_f = '../data/processed/scrape/4-4/all-agg.csv'\n",
    "#all_f = '../data/processed/scrape/4-4/test.tar.bzip2'\n",
    "\n",
    "all_df = pd.read_csv(all_f, compression='bzip2')\n",
    "#                     parse_dates=['day'], infer_datetime_format=True)"
   ]
  },
  {
   "cell_type": "code",
   "execution_count": 6,
   "metadata": {
    "collapsed": false
   },
   "outputs": [
    {
     "data": {
      "text/plain": [
       "2017-01-29    1801513\n",
       "2017-01-30    1577866\n",
       "2017-01-31    1358099\n",
       "2017-01-28    1331887\n",
       "2017-02-01     894558\n",
       "2017-02-02     772095\n",
       "2017-01-26     696605\n",
       "2017-01-25     694392\n",
       "2017-02-10     670878\n",
       "2017-02-20     652289\n",
       "2017-02-09     645948\n",
       "2017-01-27     600807\n",
       "2017-02-05     581876\n",
       "2017-02-27     579638\n",
       "2017-02-11     577570\n",
       "2017-02-06     564928\n",
       "2017-02-03     561823\n",
       "2017-02-16     552225\n",
       "2017-02-08     545689\n",
       "2017-02-22     541800\n",
       "2017-03-01     540344\n",
       "2017-03-07     539167\n",
       "2017-02-19     537922\n",
       "2017-02-07     528377\n",
       "2017-03-16     526279\n",
       "2017-03-08     523211\n",
       "2017-03-23     518888\n",
       "2017-02-21     516722\n",
       "2017-02-15     514736\n",
       "2017-02-13     513306\n",
       "               ...   \n",
       "2017-01-19     320270\n",
       "2017-01-15     318462\n",
       "2017-01-12     317141\n",
       "2017-01-13     316941\n",
       "2016-12-28     311557\n",
       "2017-01-14     311348\n",
       "2017-04-01     309038\n",
       "2017-01-16     308860\n",
       "2017-01-18     306800\n",
       "2017-01-02     306190\n",
       "2017-01-03     305845\n",
       "2017-01-08     300534\n",
       "2016-12-29     297563\n",
       "2016-12-25     293628\n",
       "2017-01-04     293556\n",
       "2017-04-02     289877\n",
       "2017-04-04     283013\n",
       "2017-01-01     282814\n",
       "2017-01-05     279760\n",
       "2017-01-09     278968\n",
       "2016-12-30     276382\n",
       "2016-12-31     271301\n",
       "2017-01-21     251415\n",
       "2017-01-06     229795\n",
       "2017-03-09     219278\n",
       "2017-01-07     210586\n",
       "2016-12-27     160354\n",
       "2017-01-20     107096\n",
       "2016-12-26     101574\n",
       "2016-12-22      11232\n",
       "Name: day, dtype: int64"
      ]
     },
     "execution_count": 6,
     "metadata": {},
     "output_type": "execute_result"
    }
   ],
   "source": [
    "all_df.day.value_counts()"
   ]
  },
  {
   "cell_type": "code",
   "execution_count": 18,
   "metadata": {
    "collapsed": false
   },
   "outputs": [],
   "source": [
    "def get_year(date):\n",
    "    return date[:4]\n",
    "\n",
    "def get_month(date):\n",
    "    return date.split('-')[1]\n",
    "\n",
    "# assign year\n",
    "all_df['year'] = all_df['day'].apply(lambda x: get_year(x))\n",
    "all_df['month'] = all_df['day'].apply(lambda x: get_month(x))"
   ]
  },
  {
   "cell_type": "code",
   "execution_count": 23,
   "metadata": {
    "collapsed": false
   },
   "outputs": [
    {
     "data": {
      "text/html": [
       "<div>\n",
       "<table border=\"1\" class=\"dataframe\">\n",
       "  <thead>\n",
       "    <tr style=\"text-align: right;\">\n",
       "      <th></th>\n",
       "      <th>day</th>\n",
       "      <th>language</th>\n",
       "      <th>user</th>\n",
       "      <th>count</th>\n",
       "      <th>year</th>\n",
       "      <th>month</th>\n",
       "    </tr>\n",
       "  </thead>\n",
       "  <tbody>\n",
       "    <tr>\n",
       "      <th>0</th>\n",
       "      <td>2017-02-25</td>\n",
       "      <td>ar</td>\n",
       "      <td>0000_khalaf</td>\n",
       "      <td>11</td>\n",
       "      <td>2017</td>\n",
       "      <td>02</td>\n",
       "    </tr>\n",
       "    <tr>\n",
       "      <th>1</th>\n",
       "      <td>2017-02-25</td>\n",
       "      <td>ar</td>\n",
       "      <td>0001yasir</td>\n",
       "      <td>9</td>\n",
       "      <td>2017</td>\n",
       "      <td>02</td>\n",
       "    </tr>\n",
       "  </tbody>\n",
       "</table>\n",
       "</div>"
      ],
      "text/plain": [
       "          day language         user  count  year month\n",
       "0  2017-02-25       ar  0000_khalaf     11  2017    02\n",
       "1  2017-02-25       ar    0001yasir      9  2017    02"
      ]
     },
     "execution_count": 23,
     "metadata": {},
     "output_type": "execute_result"
    }
   ],
   "source": [
    "# filter\n",
    "df_17 = all_df[all_df.year == '2017']\n",
    "df_17.head(2)"
   ]
  },
  {
   "cell_type": "code",
   "execution_count": 25,
   "metadata": {
    "collapsed": true
   },
   "outputs": [],
   "source": [
    "jan = df_17[df_17.month == '01']\n",
    "feb = df_17[df_17.month == '02']"
   ]
  },
  {
   "cell_type": "code",
   "execution_count": 28,
   "metadata": {
    "collapsed": true
   },
   "outputs": [],
   "source": [
    "out_f = '../data/processed/scrape/4-4/jan-agg.csv'\n",
    "jan[['day', 'language', 'user', 'count']].to_csv(out_f, index=False)"
   ]
  },
  {
   "cell_type": "code",
   "execution_count": 29,
   "metadata": {
    "collapsed": true
   },
   "outputs": [],
   "source": [
    "out_f = '../data/processed/scrape/4-4/feb-agg.csv'\n",
    "feb[['day', 'language', 'user', 'count']].to_csv(out_f, index=False)"
   ]
  },
  {
   "cell_type": "code",
   "execution_count": 31,
   "metadata": {
    "collapsed": false
   },
   "outputs": [],
   "source": [
    "mar = df_17[df_17.month == '03']\n",
    "\n",
    "out_f = '../data/processed/scrape/4-4/mar-agg.csv'\n",
    "mar[['day', 'language', 'user', 'count']].to_csv(out_f, index=False)"
   ]
  },
  {
   "cell_type": "code",
   "execution_count": null,
   "metadata": {
    "collapsed": true
   },
   "outputs": [],
   "source": []
  }
 ],
 "metadata": {
  "kernelspec": {
   "display_name": "Python 3",
   "language": "python",
   "name": "python3"
  },
  "language_info": {
   "codemirror_mode": {
    "name": "ipython",
    "version": 3
   },
   "file_extension": ".py",
   "mimetype": "text/x-python",
   "name": "python",
   "nbconvert_exporter": "python",
   "pygments_lexer": "ipython3",
   "version": "3.6.1"
  }
 },
 "nbformat": 4,
 "nbformat_minor": 2
}
