{
 "cells": [
  {
   "cell_type": "code",
   "execution_count": 1,
   "metadata": {
    "collapsed": false
   },
   "outputs": [],
   "source": [
    "# libraries\n",
    "import pandas as pd\n",
    "\n",
    "from matplotlib import pyplot as plt\n",
    "import seaborn as sns"
   ]
  },
  {
   "cell_type": "code",
   "execution_count": 15,
   "metadata": {
    "collapsed": true
   },
   "outputs": [],
   "source": [
    "# options\n",
    "\n",
    "%matplotlib inline \n",
    "\n",
    "pd.set_option('precision', 2)\n",
    "pd.set_option('display.float_format', lambda x: '%.2f' % x)\n",
    "\n",
    "sns.set_context('notebook')\n",
    "sns.set_style('ticks')"
   ]
  },
  {
   "cell_type": "code",
   "execution_count": 3,
   "metadata": {
    "collapsed": true
   },
   "outputs": [],
   "source": [
    "# directories"
   ]
  },
  {
   "cell_type": "markdown",
   "metadata": {},
   "source": [
    "#### Log"
   ]
  },
  {
   "cell_type": "code",
   "execution_count": 4,
   "metadata": {
    "collapsed": false
   },
   "outputs": [
    {
     "data": {
      "text/html": [
       "<div>\n",
       "<table border=\"1\" class=\"dataframe\">\n",
       "  <thead>\n",
       "    <tr style=\"text-align: right;\">\n",
       "      <th></th>\n",
       "      <th>clean</th>\n",
       "      <th>eng</th>\n",
       "      <th>f_name</th>\n",
       "      <th>gps</th>\n",
       "      <th>label</th>\n",
       "      <th>message</th>\n",
       "      <th>orig</th>\n",
       "      <th>stem</th>\n",
       "      <th>time</th>\n",
       "    </tr>\n",
       "  </thead>\n",
       "  <tbody>\n",
       "    <tr>\n",
       "      <th>0</th>\n",
       "      <td>141850.00</td>\n",
       "      <td>141850.00</td>\n",
       "      <td>../data/external/scrape/tweets_immigrant_34315...</td>\n",
       "      <td>885.00</td>\n",
       "      <td>1483.00</td>\n",
       "      <td>274215.00</td>\n",
       "      <td>274900.00</td>\n",
       "      <td>141849.00</td>\n",
       "      <td>15.76</td>\n",
       "    </tr>\n",
       "    <tr>\n",
       "      <th>1</th>\n",
       "      <td>180172.00</td>\n",
       "      <td>180172.00</td>\n",
       "      <td>../data/external/scrape/tweets_immigrant_34316...</td>\n",
       "      <td>2328.00</td>\n",
       "      <td>2341.00</td>\n",
       "      <td>374678.00</td>\n",
       "      <td>375600.00</td>\n",
       "      <td>180170.00</td>\n",
       "      <td>19.38</td>\n",
       "    </tr>\n",
       "  </tbody>\n",
       "</table>\n",
       "</div>"
      ],
      "text/plain": [
       "      clean       eng                                             f_name  \\\n",
       "0 141850.00 141850.00  ../data/external/scrape/tweets_immigrant_34315...   \n",
       "1 180172.00 180172.00  ../data/external/scrape/tweets_immigrant_34316...   \n",
       "\n",
       "      gps   label   message      orig      stem  time  \n",
       "0  885.00 1483.00 274215.00 274900.00 141849.00 15.76  \n",
       "1 2328.00 2341.00 374678.00 375600.00 180170.00 19.38  "
      ]
     },
     "execution_count": 4,
     "metadata": {},
     "output_type": "execute_result"
    }
   ],
   "source": [
    "log_f = '../data/processed/scrape/3-31/log.csv'\n",
    "log_df = pd.read_csv(log_f)\n",
    "\n",
    "log_df.head(2)"
   ]
  },
  {
   "cell_type": "code",
   "execution_count": 5,
   "metadata": {
    "collapsed": false
   },
   "outputs": [
    {
     "data": {
      "text/html": [
       "<div>\n",
       "<table border=\"1\" class=\"dataframe\">\n",
       "  <thead>\n",
       "    <tr style=\"text-align: right;\">\n",
       "      <th></th>\n",
       "      <th>eng</th>\n",
       "      <th>stem</th>\n",
       "      <th>label</th>\n",
       "      <th>perc_+</th>\n",
       "      <th>gps</th>\n",
       "      <th>perc_gps</th>\n",
       "    </tr>\n",
       "  </thead>\n",
       "  <tbody>\n",
       "    <tr>\n",
       "      <th>count</th>\n",
       "      <td>199.00</td>\n",
       "      <td>199.00</td>\n",
       "      <td>199.00</td>\n",
       "      <td>199.00</td>\n",
       "      <td>199.00</td>\n",
       "      <td>199.00</td>\n",
       "    </tr>\n",
       "    <tr>\n",
       "      <th>mean</th>\n",
       "      <td>322352.70</td>\n",
       "      <td>322351.73</td>\n",
       "      <td>2609.33</td>\n",
       "      <td>0.01</td>\n",
       "      <td>2586.21</td>\n",
       "      <td>0.99</td>\n",
       "    </tr>\n",
       "    <tr>\n",
       "      <th>std</th>\n",
       "      <td>228602.40</td>\n",
       "      <td>228602.29</td>\n",
       "      <td>3218.72</td>\n",
       "      <td>0.00</td>\n",
       "      <td>3223.01</td>\n",
       "      <td>0.08</td>\n",
       "    </tr>\n",
       "    <tr>\n",
       "      <th>min</th>\n",
       "      <td>12535.00</td>\n",
       "      <td>12535.00</td>\n",
       "      <td>114.00</td>\n",
       "      <td>0.00</td>\n",
       "      <td>114.00</td>\n",
       "      <td>0.46</td>\n",
       "    </tr>\n",
       "    <tr>\n",
       "      <th>25%</th>\n",
       "      <td>198913.00</td>\n",
       "      <td>198913.00</td>\n",
       "      <td>1163.00</td>\n",
       "      <td>0.00</td>\n",
       "      <td>1142.50</td>\n",
       "      <td>1.00</td>\n",
       "    </tr>\n",
       "    <tr>\n",
       "      <th>50%</th>\n",
       "      <td>262152.00</td>\n",
       "      <td>262152.00</td>\n",
       "      <td>1599.00</td>\n",
       "      <td>0.01</td>\n",
       "      <td>1597.00</td>\n",
       "      <td>1.00</td>\n",
       "    </tr>\n",
       "    <tr>\n",
       "      <th>75%</th>\n",
       "      <td>367090.00</td>\n",
       "      <td>367089.00</td>\n",
       "      <td>2605.50</td>\n",
       "      <td>0.01</td>\n",
       "      <td>2592.50</td>\n",
       "      <td>1.00</td>\n",
       "    </tr>\n",
       "    <tr>\n",
       "      <th>max</th>\n",
       "      <td>1647936.00</td>\n",
       "      <td>1647935.00</td>\n",
       "      <td>20848.00</td>\n",
       "      <td>0.04</td>\n",
       "      <td>20848.00</td>\n",
       "      <td>1.00</td>\n",
       "    </tr>\n",
       "  </tbody>\n",
       "</table>\n",
       "</div>"
      ],
      "text/plain": [
       "             eng       stem    label  perc_+      gps  perc_gps\n",
       "count     199.00     199.00   199.00  199.00   199.00    199.00\n",
       "mean   322352.70  322351.73  2609.33    0.01  2586.21      0.99\n",
       "std    228602.40  228602.29  3218.72    0.00  3223.01      0.08\n",
       "min     12535.00   12535.00   114.00    0.00   114.00      0.46\n",
       "25%    198913.00  198913.00  1163.00    0.00  1142.50      1.00\n",
       "50%    262152.00  262152.00  1599.00    0.01  1597.00      1.00\n",
       "75%    367090.00  367089.00  2605.50    0.01  2592.50      1.00\n",
       "max   1647936.00 1647935.00 20848.00    0.04 20848.00      1.00"
      ]
     },
     "execution_count": 5,
     "metadata": {},
     "output_type": "execute_result"
    }
   ],
   "source": [
    "# How many of the tweets that we fed into the classifier were positive?\n",
    "log_df['perc_+'] = log_df.label / log_df.stem\n",
    "\n",
    "# How many of the positively classified users had GPS coordinated?\n",
    "log_df['perc_gps'] = log_df.gps / log_df.label\n",
    "\n",
    "log_df[['eng', 'stem', 'label', 'perc_+', 'gps', 'perc_gps']].describe()"
   ]
  },
  {
   "cell_type": "markdown",
   "metadata": {},
   "source": [
    "---\n",
    "\n",
    "#### Hate Tweets"
   ]
  },
  {
   "cell_type": "code",
   "execution_count": 6,
   "metadata": {
    "collapsed": false
   },
   "outputs": [
    {
     "name": "stdout",
     "output_type": "stream",
     "text": [
      "514655 tweets\n"
     ]
    },
    {
     "data": {
      "text/html": [
       "<div>\n",
       "<table border=\"1\" class=\"dataframe\">\n",
       "  <thead>\n",
       "    <tr style=\"text-align: right;\">\n",
       "      <th></th>\n",
       "      <th>username</th>\n",
       "      <th>longitude</th>\n",
       "      <th>latitude</th>\n",
       "      <th>date</th>\n",
       "      <th>message</th>\n",
       "      <th>tweetID</th>\n",
       "      <th>hashtag1</th>\n",
       "      <th>hashtag2</th>\n",
       "      <th>hashtag3</th>\n",
       "      <th>hashtag4</th>\n",
       "      <th>hashtag5</th>\n",
       "      <th>language</th>\n",
       "      <th>clean</th>\n",
       "      <th>stem</th>\n",
       "      <th>label</th>\n",
       "    </tr>\n",
       "  </thead>\n",
       "  <tbody>\n",
       "    <tr>\n",
       "      <th>0</th>\n",
       "      <td>SoCaliMilitia1</td>\n",
       "      <td>3.30</td>\n",
       "      <td>6.47</td>\n",
       "      <td>Sun Jan 22 14:59:58 CST 2017</td>\n",
       "      <td>This is the (Sharia shit) law  supports. Fuck ...</td>\n",
       "      <td>823274026248257536.00</td>\n",
       "      <td>WomensMarch</td>\n",
       "      <td>NaN</td>\n",
       "      <td>NaN</td>\n",
       "      <td>NaN</td>\n",
       "      <td>NaN</td>\n",
       "      <td>en</td>\n",
       "      <td>This is the Sharia shit law supports Fuck Isla...</td>\n",
       "      <td>thi the sharia shit law support fuck islam fuc...</td>\n",
       "      <td>1</td>\n",
       "    </tr>\n",
       "    <tr>\n",
       "      <th>1</th>\n",
       "      <td>swterry91</td>\n",
       "      <td>-77.04</td>\n",
       "      <td>38.90</td>\n",
       "      <td>Sun Jan 22 15:00:01 CST 2017</td>\n",
       "      <td>'Berlin: Anti-Trump non-Muslim feminists chant...</td>\n",
       "      <td>823274041607880704.00</td>\n",
       "      <td>tcot</td>\n",
       "      <td>NaN</td>\n",
       "      <td>NaN</td>\n",
       "      <td>NaN</td>\n",
       "      <td>NaN</td>\n",
       "      <td>en</td>\n",
       "      <td>Berlin Anti Trump non Muslim feminists chant A...</td>\n",
       "      <td>berlin anti trump non muslim feminist chant al...</td>\n",
       "      <td>1</td>\n",
       "    </tr>\n",
       "  </tbody>\n",
       "</table>\n",
       "</div>"
      ],
      "text/plain": [
       "         username  longitude  latitude                          date  \\\n",
       "0  SoCaliMilitia1       3.30      6.47  Sun Jan 22 14:59:58 CST 2017   \n",
       "1       swterry91     -77.04     38.90  Sun Jan 22 15:00:01 CST 2017   \n",
       "\n",
       "                                             message               tweetID  \\\n",
       "0  This is the (Sharia shit) law  supports. Fuck ... 823274026248257536.00   \n",
       "1  'Berlin: Anti-Trump non-Muslim feminists chant... 823274041607880704.00   \n",
       "\n",
       "      hashtag1 hashtag2 hashtag3 hashtag4 hashtag5 language  \\\n",
       "0  WomensMarch      NaN      NaN      NaN      NaN       en   \n",
       "1         tcot      NaN      NaN      NaN      NaN       en   \n",
       "\n",
       "                                               clean  \\\n",
       "0  This is the Sharia shit law supports Fuck Isla...   \n",
       "1  Berlin Anti Trump non Muslim feminists chant A...   \n",
       "\n",
       "                                                stem  label  \n",
       "0  thi the sharia shit law support fuck islam fuc...      1  \n",
       "1  berlin anti trump non muslim feminist chant al...      1  "
      ]
     },
     "execution_count": 6,
     "metadata": {},
     "output_type": "execute_result"
    }
   ],
   "source": [
    "tweet_df = pd.read_csv('../data/processed/scrape/3-31/scrape-3-31.csv')\n",
    "\n",
    "print (\"{} tweets\".format(tweet_df.shape[0]))\n",
    "tweet_df.head(2)"
   ]
  },
  {
   "cell_type": "markdown",
   "metadata": {},
   "source": [
    "#### Hashtags"
   ]
  },
  {
   "cell_type": "code",
   "execution_count": 12,
   "metadata": {
    "collapsed": true
   },
   "outputs": [],
   "source": [
    "cols_hash = ['hashtag1', 'hashtag2', 'hashtag3', 'hashtag4', 'hashtag5']"
   ]
  },
  {
   "cell_type": "code",
   "execution_count": 19,
   "metadata": {
    "collapsed": false
   },
   "outputs": [],
   "source": [
    "hash_1 = tweet_df['hashtag1'].str.lower().value_counts()\n",
    "hash_2 = tweet_df['hashtag2'].str.lower().value_counts()\n",
    "hash_3 = tweet_df['hashtag3'].str.lower().value_counts()\n",
    "hash_4 = tweet_df['hashtag4'].str.lower().value_counts()\n",
    "hash_5 = tweet_df['hashtag5'].str.lower().value_counts()"
   ]
  },
  {
   "cell_type": "code",
   "execution_count": 23,
   "metadata": {
    "collapsed": false,
    "scrolled": false
   },
   "outputs": [
    {
     "name": "stderr",
     "output_type": "stream",
     "text": [
      "/home/rlrson/anaconda3/envs/gviz/lib/python3.6/site-packages/matplotlib/font_manager.py:1297: UserWarning: findfont: Font family ['sans-serif'] not found. Falling back to DejaVu Sans\n",
      "  (prop.get_family(), self.defaultFamily[fontext]))\n"
     ]
    },
    {
     "data": {
      "image/png": "[encoded data removed]",
      "text/plain": [
       "<matplotlib.figure.Figure at 0x7f0063c79da0>"
      ]
     },
     "metadata": {},
     "output_type": "display_data"
    },
    {
     "data": {
      "image/png": "[encoded data removed]",
      "text/plain": [
       "<matplotlib.figure.Figure at 0x7f0063cb1400>"
      ]
     },
     "metadata": {},
     "output_type": "display_data"
    },
    {
     "data": {
      "image/png": "[encoded data removed]",
      "text/plain": [
       "<matplotlib.figure.Figure at 0x7f0065e67ba8>"
      ]
     },
     "metadata": {},
     "output_type": "display_data"
    },
    {
     "data": {
      "image/png": "[encoded data removed]",
      "text/plain": [
       "<matplotlib.figure.Figure at 0x7f00659dfdd8>"
      ]
     },
     "metadata": {},
     "output_type": "display_data"
    },
    {
     "data": {
      "image/png": "[encoded data removed]",
      "text/plain": [
       "<matplotlib.figure.Figure at 0x7f00659f6a90>"
      ]
     },
     "metadata": {},
     "output_type": "display_data"
    }
   ],
   "source": [
    "for df in [hash_1, hash_2, hash_3, hash_4, hash_5]:\n",
    "    plt.figure(figsize=(5,3))\n",
    "    df.head(10).sort_values(ascending=True).plot.barh()\n",
    "    sns.despine()\n",
    "    #plt.show()"
   ]
  },
  {
   "cell_type": "code",
   "execution_count": null,
   "metadata": {
    "collapsed": true
   },
   "outputs": [],
   "source": []
  }
 ],
 "metadata": {
  "kernelspec": {
   "display_name": "Python 3",
   "language": "python",
   "name": "python3"
  },
  "language_info": {
   "codemirror_mode": {
    "name": "ipython",
    "version": 3
   },
   "file_extension": ".py",
   "mimetype": "text/x-python",
   "name": "python",
   "nbconvert_exporter": "python",
   "pygments_lexer": "ipython3",
   "version": "3.6.1"
  }
 },
 "nbformat": 4,
 "nbformat_minor": 2
}
