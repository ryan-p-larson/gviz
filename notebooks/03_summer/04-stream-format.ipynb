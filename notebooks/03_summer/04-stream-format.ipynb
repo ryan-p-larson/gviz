{
 "cells": [
  {
   "attachments": {},
   "cell_type": "markdown",
   "metadata": {},
   "source": [
    "# Stream Formatting\n",
    "\n",
    "Make changes to the raw tweets so that we can actually do our work. Refer to the [Twitter documentation](https://dev.twitter.com/streaming/reference/get/statuses/sample) for details.\n",
    "\n",
    "<br>\n",
    "**Cols to keep:**\n",
    "- username \n",
    "- longitude\t\n",
    "- latitude \n",
    "- date\n",
    "- message\n",
    "- tweetID\n",
    "- userID\n",
    "- retweet\n",
    "- followersCount\n",
    "- friendsCount\n",
    "- joinDay\n",
    "- favouritesCount\n",
    "- language\n",
    "- statusesCount\n",
    "\n",
    "<br>\n",
    "**Cols to change/create:**\n",
    "\n",
    "| Column | Old | New | Notes |\n",
    "|---|---|---|---|\n",
    "| `week` | | '2016-01-08' | %YYYY-%m-%d |\n",
    "| `date` | Thu Dec 22 17:36:32 CST 2016 | 2014-11-16 23:47:00 |\n",
    "| `point` | lat, lon | [`x`, `y`] | |\n",
    "| `message` | \"RT : ðŸ†˜En un programa de 'debate' Ã¡rabe plantean asÃ­ 'pacÃ­ficamente' quÃ© hacer con los apÃ³statas que abandonan el islam..â€¦\" **//** RT : 🆘En un programa de 'debate' árabe plantean así 'pacíficamente' qué hacer con los apóstatas que abandonan el islam..… | ...formatted... | proper encoding, rm emojis, etc |\n",
    "| `hashtags` | `message` | ['one', 'two', ...] | List of all the hashtags (strs.split startswith('#')) |  "
   ]
  },
  {
   "cell_type": "code",
   "execution_count": null,
   "metadata": {
    "collapsed": true
   },
   "outputs": [],
   "source": []
  }
 ],
 "metadata": {
  "kernelspec": {
   "display_name": "Python 3",
   "language": "python",
   "name": "python3"
  },
  "language_info": {
   "codemirror_mode": {
    "name": "ipython",
    "version": 3
   },
   "file_extension": ".py",
   "mimetype": "text/x-python",
   "name": "python",
   "nbconvert_exporter": "python",
   "pygments_lexer": "ipython3",
   "version": "3.6.1"
  }
 },
 "nbformat": 4,
 "nbformat_minor": 2
}
