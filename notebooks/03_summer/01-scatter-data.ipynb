{
 "cells": [
  {
   "cell_type": "markdown",
   "metadata": {},
   "source": [
    "# Work\n",
    "\n",
    "All of the work for the geoviz paper."
   ]
  },
  {
   "cell_type": "code",
   "execution_count": 2,
   "metadata": {},
   "outputs": [],
   "source": [
    "import pandas as pd\n",
    "%run utilities.py"
   ]
  },
  {
   "cell_type": "code",
   "execution_count": 12,
   "metadata": {},
   "outputs": [
    {
     "name": "stdout",
     "output_type": "stream",
     "text": [
      " \u001b[0m\u001b[01;32maccounts.csv\u001b[0m*\r\n",
      "\u001b[01;32m'Conover_et_al_2011_Political polarization on twitter.pdf'\u001b[0m*\r\n",
      "\u001b[01;32m'Conover_et_al_2012_Partisan asymmetries in online political activity.pdf'\u001b[0m*\r\n",
      " \u001b[34;42mcountyID\u001b[0m/\r\n",
      " \u001b[34;42msql\u001b[0m/\r\n",
      " \u001b[01;32mtop10000_mostmentioned_alltimes.csv\u001b[0m*\r\n",
      " \u001b[01;32mtop10000_mostmentioned_dayafter.csv\u001b[0m*\r\n",
      " \u001b[01;32mtop10000_mostmentioned_daybefore.csv\u001b[0m*\r\n",
      " \u001b[01;32mtop10000_mostmentioned_monthafter.csv\u001b[0m*\r\n",
      " \u001b[01;32mtop10000_mostmentioned_monthbefore.csv\u001b[0m*\r\n",
      " \u001b[01;32mtop10000_mostmentioned_weekafter.csv\u001b[0m*\r\n",
      " \u001b[01;32mtop10000_mostmentioned_weekbefore.csv\u001b[0m*\r\n",
      " \u001b[01;32mtop10000_mostretweeted_alltimes.csv\u001b[0m*\r\n",
      " \u001b[01;32mtop10000_mostretweeted_dayafter.csv\u001b[0m*\r\n",
      " \u001b[01;32mtop10000_mostretweeted_daybefore.csv\u001b[0m*\r\n",
      " \u001b[01;32mtop10000_mostretweeted_monthafter.csv\u001b[0m*\r\n",
      " \u001b[01;32mtop10000_mostretweeted_monthbefore.csv\u001b[0m*\r\n",
      " \u001b[01;32mtop10000_mostretweeted_weekafter.csv\u001b[0m*\r\n",
      " \u001b[01;32mtop10000_mostretweeted_weekbefore.csv\u001b[0m*\r\n",
      " \u001b[01;32mtop100_with_categories.csv\u001b[0m*\r\n",
      " \u001b[01;32mtrumptweets.csv\u001b[0m*\r\n",
      " \u001b[01;32mtweetstop100bryce.csv\u001b[0m*\r\n",
      " \u001b[01;32mtweets_top100opinionleaders.csv\u001b[0m*\r\n"
     ]
    }
   ],
   "source": [
    "%ls ../../data/external/caglar/"
   ]
  },
  {
   "cell_type": "markdown",
   "metadata": {
    "collapsed": true
   },
   "source": [
    "### Scatter Plot\n",
    "\n",
    "Merging the top retweeted tweets with their author's categories."
   ]
  },
  {
   "cell_type": "code",
   "execution_count": 3,
   "metadata": {
    "collapsed": true
   },
   "outputs": [],
   "source": [
    "tweets = name_file_path('caglar/tweets_top100opinionleaders.csv', external_data_dir)\n",
    "cats = name_file_path('caglar/top100_with_categories.csv', external_data_dir)\n",
    "\n",
    "tweets_df = pd.read_csv(tweets)\n",
    "cats_df = pd.read_csv(cats)"
   ]
  },
  {
   "cell_type": "code",
   "execution_count": 4,
   "metadata": {},
   "outputs": [
    {
     "data": {
      "text/html": [
       "<div>\n",
       "<style>\n",
       "    .dataframe thead tr:only-child th {\n",
       "        text-align: right;\n",
       "    }\n",
       "\n",
       "    .dataframe thead th {\n",
       "        text-align: left;\n",
       "    }\n",
       "\n",
       "    .dataframe tbody tr th {\n",
       "        vertical-align: top;\n",
       "    }\n",
       "</style>\n",
       "<table border=\"1\" class=\"dataframe\">\n",
       "  <thead>\n",
       "    <tr style=\"text-align: right;\">\n",
       "      <th></th>\n",
       "      <th>min</th>\n",
       "      <th>tweet</th>\n",
       "      <th>count</th>\n",
       "      <th>min.1</th>\n",
       "    </tr>\n",
       "  </thead>\n",
       "  <tbody>\n",
       "    <tr>\n",
       "      <th>4008</th>\n",
       "      <td>USARedOrchestra</td>\n",
       "      <td>RT : No Muslim Syrian refugee has killed a sin...</td>\n",
       "      <td>29023</td>\n",
       "      <td>2017-01-27</td>\n",
       "    </tr>\n",
       "    <tr>\n",
       "      <th>6324</th>\n",
       "      <td>CleverTitleTK</td>\n",
       "      <td>RT : Repeat: Senator Schumer's great-grandmoth...</td>\n",
       "      <td>22055</td>\n",
       "      <td>2017-01-30</td>\n",
       "    </tr>\n",
       "  </tbody>\n",
       "</table>\n",
       "</div>"
      ],
      "text/plain": [
       "                  min                                              tweet  \\\n",
       "4008  USARedOrchestra  RT : No Muslim Syrian refugee has killed a sin...   \n",
       "6324    CleverTitleTK  RT : Repeat: Senator Schumer's great-grandmoth...   \n",
       "\n",
       "      count       min.1  \n",
       "4008  29023  2017-01-27  \n",
       "6324  22055  2017-01-30  "
      ]
     },
     "execution_count": 4,
     "metadata": {},
     "output_type": "execute_result"
    }
   ],
   "source": [
    "tweets_df.sort_values(by='count', ascending=False).head(2)"
   ]
  },
  {
   "cell_type": "code",
   "execution_count": 5,
   "metadata": {},
   "outputs": [
    {
     "data": {
      "text/html": [
       "<div>\n",
       "<style>\n",
       "    .dataframe thead tr:only-child th {\n",
       "        text-align: right;\n",
       "    }\n",
       "\n",
       "    .dataframe thead th {\n",
       "        text-align: left;\n",
       "    }\n",
       "\n",
       "    .dataframe tbody tr th {\n",
       "        vertical-align: top;\n",
       "    }\n",
       "</style>\n",
       "<table border=\"1\" class=\"dataframe\">\n",
       "  <thead>\n",
       "    <tr style=\"text-align: right;\">\n",
       "      <th></th>\n",
       "      <th>fromuser</th>\n",
       "      <th>count</th>\n",
       "      <th>category</th>\n",
       "    </tr>\n",
       "  </thead>\n",
       "  <tbody>\n",
       "    <tr>\n",
       "      <th>0</th>\n",
       "      <td>JimAxelrod</td>\n",
       "      <td>11174</td>\n",
       "      <td>journalist</td>\n",
       "    </tr>\n",
       "    <tr>\n",
       "      <th>1</th>\n",
       "      <td>netanyahu</td>\n",
       "      <td>10451</td>\n",
       "      <td>politician</td>\n",
       "    </tr>\n",
       "  </tbody>\n",
       "</table>\n",
       "</div>"
      ],
      "text/plain": [
       "     fromuser  count    category\n",
       "0  JimAxelrod  11174  journalist\n",
       "1   netanyahu  10451  politician"
      ]
     },
     "execution_count": 5,
     "metadata": {},
     "output_type": "execute_result"
    }
   ],
   "source": [
    "tweets_df.columns = ['user', 'message', 'count', 'date']\n",
    "cats_df.head(2)"
   ]
  },
  {
   "cell_type": "code",
   "execution_count": 6,
   "metadata": {
    "collapsed": true
   },
   "outputs": [],
   "source": [
    "cats_df = cats_df[['fromuser', 'category']]\n",
    "cats_df.columns = ['user', 'category']"
   ]
  },
  {
   "cell_type": "code",
   "execution_count": 7,
   "metadata": {},
   "outputs": [
    {
     "data": {
      "text/html": [
       "<div>\n",
       "<style>\n",
       "    .dataframe thead tr:only-child th {\n",
       "        text-align: right;\n",
       "    }\n",
       "\n",
       "    .dataframe thead th {\n",
       "        text-align: left;\n",
       "    }\n",
       "\n",
       "    .dataframe tbody tr th {\n",
       "        vertical-align: top;\n",
       "    }\n",
       "</style>\n",
       "<table border=\"1\" class=\"dataframe\">\n",
       "  <thead>\n",
       "    <tr style=\"text-align: right;\">\n",
       "      <th></th>\n",
       "      <th>user</th>\n",
       "      <th>message</th>\n",
       "      <th>count</th>\n",
       "      <th>date</th>\n",
       "      <th>category</th>\n",
       "    </tr>\n",
       "  </thead>\n",
       "  <tbody>\n",
       "    <tr>\n",
       "      <th>0</th>\n",
       "      <td>ajplus</td>\n",
       "      <td>RT : After Pearl Harbor; Japanese-Americans we...</td>\n",
       "      <td>1</td>\n",
       "      <td>2016-12-22</td>\n",
       "      <td>NaN</td>\n",
       "    </tr>\n",
       "    <tr>\n",
       "      <th>1</th>\n",
       "      <td>FoxNews</td>\n",
       "      <td>RT : .: “We’ve prosecuted 580 people in Americ...</td>\n",
       "      <td>1</td>\n",
       "      <td>2016-12-22</td>\n",
       "      <td>NaN</td>\n",
       "    </tr>\n",
       "  </tbody>\n",
       "</table>\n",
       "</div>"
      ],
      "text/plain": [
       "      user                                            message  count  \\\n",
       "0   ajplus  RT : After Pearl Harbor; Japanese-Americans we...      1   \n",
       "1  FoxNews  RT : .: “We’ve prosecuted 580 people in Americ...      1   \n",
       "\n",
       "         date category  \n",
       "0  2016-12-22      NaN  \n",
       "1  2016-12-22      NaN  "
      ]
     },
     "execution_count": 7,
     "metadata": {},
     "output_type": "execute_result"
    }
   ],
   "source": [
    "scatter_df = pd.merge(tweets_df, cats_df, left_on='user', right_on='user', how='left')\n",
    "scatter_df.head(2)"
   ]
  },
  {
   "cell_type": "code",
   "execution_count": 11,
   "metadata": {},
   "outputs": [
    {
     "name": "stderr",
     "output_type": "stream",
     "text": [
      "/home/user/.anaconda3/envs/geopy/lib/python3.6/site-packages/pandas/core/frame.py:891: UserWarning: DataFrame columns are not unique, some columns will be omitted.\n",
      "  \"columns will be omitted.\", UserWarning)\n"
     ]
    }
   ],
   "source": [
    "user_indexed = scatter_df.set_index('user')\n",
    "users = scatter_df.user.unique().tolist()\n",
    "scatter_dict = {}\n",
    "\n",
    "for user in users:\n",
    "    scatter_dict[user] = user_indexed.loc[user].T.to_dict().values()"
   ]
  },
  {
   "cell_type": "code",
   "execution_count": 35,
   "metadata": {},
   "outputs": [],
   "source": [
    "scatter_df.to_csv('../../test.csv', index=False)"
   ]
  },
  {
   "cell_type": "code",
   "execution_count": 12,
   "metadata": {},
   "outputs": [
    {
     "data": {
      "text/plain": [
       "398"
      ]
     },
     "execution_count": 12,
     "metadata": {},
     "output_type": "execute_result"
    }
   ],
   "source": [
    "# number of \n",
    "len(scatter_df[scatter_df.category.isnull() == False])"
   ]
  },
  {
   "cell_type": "markdown",
   "metadata": {
    "collapsed": true
   },
   "source": [
    "---\n",
    "\n",
    "Another dataset: `tweetstop100bryce.csv`"
   ]
  },
  {
   "cell_type": "code",
   "execution_count": 13,
   "metadata": {},
   "outputs": [
    {
     "data": {
      "text/html": [
       "<div>\n",
       "<style>\n",
       "    .dataframe thead tr:only-child th {\n",
       "        text-align: right;\n",
       "    }\n",
       "\n",
       "    .dataframe thead th {\n",
       "        text-align: left;\n",
       "    }\n",
       "\n",
       "    .dataframe tbody tr th {\n",
       "        vertical-align: top;\n",
       "    }\n",
       "</style>\n",
       "<table border=\"1\" class=\"dataframe\">\n",
       "  <thead>\n",
       "    <tr style=\"text-align: right;\">\n",
       "      <th></th>\n",
       "      <th>min</th>\n",
       "      <th>tweet</th>\n",
       "      <th>count</th>\n",
       "      <th>min.1</th>\n",
       "    </tr>\n",
       "  </thead>\n",
       "  <tbody>\n",
       "    <tr>\n",
       "      <th>0</th>\n",
       "      <td>mequemequeJ</td>\n",
       "      <td>RT : この記事（）を読む限り、米国籍を含めた二重国籍者はセーフなようです。ただ、こちらの...</td>\n",
       "      <td>4</td>\n",
       "      <td>2017-01-28</td>\n",
       "    </tr>\n",
       "    <tr>\n",
       "      <th>1</th>\n",
       "      <td>rcallimachi</td>\n",
       "      <td>RT : 11. But the label - 'Romanian' and 'refug...</td>\n",
       "      <td>132</td>\n",
       "      <td>2017-01-28</td>\n",
       "    </tr>\n",
       "    <tr>\n",
       "      <th>2</th>\n",
       "      <td>HaroldItz</td>\n",
       "      <td>RT : 1/28 PM: Your regular reminder that Trump...</td>\n",
       "      <td>5</td>\n",
       "      <td>2017-01-28</td>\n",
       "    </tr>\n",
       "    <tr>\n",
       "      <th>3</th>\n",
       "      <td>Christiana1987</td>\n",
       "      <td>RT : 1) duh 2) He literally walked around &amp; pr...</td>\n",
       "      <td>1</td>\n",
       "      <td>2017-01-28</td>\n",
       "    </tr>\n",
       "    <tr>\n",
       "      <th>4</th>\n",
       "      <td>peterdaou</td>\n",
       "      <td>RT : 1. For very personal context on Trump's r...</td>\n",
       "      <td>1150</td>\n",
       "      <td>2017-01-28</td>\n",
       "    </tr>\n",
       "  </tbody>\n",
       "</table>\n",
       "</div>"
      ],
      "text/plain": [
       "              min                                              tweet  count  \\\n",
       "0     mequemequeJ  RT : この記事（）を読む限り、米国籍を含めた二重国籍者はセーフなようです。ただ、こちらの...      4   \n",
       "1     rcallimachi  RT : 11. But the label - 'Romanian' and 'refug...    132   \n",
       "2       HaroldItz  RT : 1/28 PM: Your regular reminder that Trump...      5   \n",
       "3  Christiana1987  RT : 1) duh 2) He literally walked around & pr...      1   \n",
       "4       peterdaou  RT : 1. For very personal context on Trump's r...   1150   \n",
       "\n",
       "        min.1  \n",
       "0  2017-01-28  \n",
       "1  2017-01-28  \n",
       "2  2017-01-28  \n",
       "3  2017-01-28  \n",
       "4  2017-01-28  "
      ]
     },
     "execution_count": 13,
     "metadata": {},
     "output_type": "execute_result"
    }
   ],
   "source": [
    "second_f = name_file_path('tweetstop100bryce.csv', external_cag_dir)\n",
    "second = pd.read_csv(second_f)\n",
    "\n",
    "second.head()"
   ]
  },
  {
   "cell_type": "code",
   "execution_count": 14,
   "metadata": {
    "collapsed": true
   },
   "outputs": [],
   "source": [
    "second.columns = ['user', 'message', 'count', 'date']\n",
    "second_scatter = pd.merge(tweets_df, cats_df, left_on='user', right_on='user', how='left')"
   ]
  },
  {
   "cell_type": "code",
   "execution_count": 15,
   "metadata": {},
   "outputs": [
    {
     "data": {
      "text/html": [
       "<div>\n",
       "<style>\n",
       "    .dataframe thead tr:only-child th {\n",
       "        text-align: right;\n",
       "    }\n",
       "\n",
       "    .dataframe thead th {\n",
       "        text-align: left;\n",
       "    }\n",
       "\n",
       "    .dataframe tbody tr th {\n",
       "        vertical-align: top;\n",
       "    }\n",
       "</style>\n",
       "<table border=\"1\" class=\"dataframe\">\n",
       "  <thead>\n",
       "    <tr style=\"text-align: right;\">\n",
       "      <th></th>\n",
       "      <th>user</th>\n",
       "      <th>message</th>\n",
       "      <th>count</th>\n",
       "      <th>date</th>\n",
       "      <th>category</th>\n",
       "    </tr>\n",
       "  </thead>\n",
       "  <tbody>\n",
       "    <tr>\n",
       "      <th>0</th>\n",
       "      <td>ajplus</td>\n",
       "      <td>RT : After Pearl Harbor; Japanese-Americans we...</td>\n",
       "      <td>1</td>\n",
       "      <td>2016-12-22</td>\n",
       "      <td>NaN</td>\n",
       "    </tr>\n",
       "    <tr>\n",
       "      <th>1</th>\n",
       "      <td>FoxNews</td>\n",
       "      <td>RT : .: “We’ve prosecuted 580 people in Americ...</td>\n",
       "      <td>1</td>\n",
       "      <td>2016-12-22</td>\n",
       "      <td>NaN</td>\n",
       "    </tr>\n",
       "    <tr>\n",
       "      <th>2</th>\n",
       "      <td>bfraser747</td>\n",
       "      <td>RT : 💥💥💥 AMAZING VIDEO  Watch  ask  to MOVE FO...</td>\n",
       "      <td>4</td>\n",
       "      <td>2016-12-22</td>\n",
       "      <td>NaN</td>\n",
       "    </tr>\n",
       "    <tr>\n",
       "      <th>3</th>\n",
       "      <td>trump2016fan</td>\n",
       "      <td>RT :  was right! Muslim Refugee dad arrested f...</td>\n",
       "      <td>3</td>\n",
       "      <td>2016-12-22</td>\n",
       "      <td>NaN</td>\n",
       "    </tr>\n",
       "    <tr>\n",
       "      <th>4</th>\n",
       "      <td>trump2016fan</td>\n",
       "      <td>RT : Austrian Town of 1;600 Drowns in  Muslim ...</td>\n",
       "      <td>1</td>\n",
       "      <td>2016-12-22</td>\n",
       "      <td>NaN</td>\n",
       "    </tr>\n",
       "  </tbody>\n",
       "</table>\n",
       "</div>"
      ],
      "text/plain": [
       "           user                                            message  count  \\\n",
       "0        ajplus  RT : After Pearl Harbor; Japanese-Americans we...      1   \n",
       "1       FoxNews  RT : .: “We’ve prosecuted 580 people in Americ...      1   \n",
       "2    bfraser747  RT : 💥💥💥 AMAZING VIDEO  Watch  ask  to MOVE FO...      4   \n",
       "3  trump2016fan  RT :  was right! Muslim Refugee dad arrested f...      3   \n",
       "4  trump2016fan  RT : Austrian Town of 1;600 Drowns in  Muslim ...      1   \n",
       "\n",
       "         date category  \n",
       "0  2016-12-22      NaN  \n",
       "1  2016-12-22      NaN  \n",
       "2  2016-12-22      NaN  \n",
       "3  2016-12-22      NaN  \n",
       "4  2016-12-22      NaN  "
      ]
     },
     "execution_count": 15,
     "metadata": {},
     "output_type": "execute_result"
    }
   ],
   "source": [
    "second_scatter.head()"
   ]
  },
  {
   "cell_type": "code",
   "execution_count": 17,
   "metadata": {},
   "outputs": [
    {
     "data": {
      "text/plain": [
       "398"
      ]
     },
     "execution_count": 17,
     "metadata": {},
     "output_type": "execute_result"
    }
   ],
   "source": [
    "len(second_scatter[second_scatter.category.isnull() == False])"
   ]
  },
  {
   "cell_type": "code",
   "execution_count": null,
   "metadata": {
    "collapsed": true
   },
   "outputs": [],
   "source": []
  }
 ],
 "metadata": {
  "kernelspec": {
   "display_name": "Python 3",
   "language": "python",
   "name": "python3"
  },
  "language_info": {
   "codemirror_mode": {
    "name": "ipython",
    "version": 3
   },
   "file_extension": ".py",
   "mimetype": "text/x-python",
   "name": "python",
   "nbconvert_exporter": "python",
   "pygments_lexer": "ipython3",
   "version": "3.6.1"
  }
 },
 "nbformat": 4,
 "nbformat_minor": 2
}
