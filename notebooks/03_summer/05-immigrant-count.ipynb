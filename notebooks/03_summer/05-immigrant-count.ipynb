{
 "cells": [
  {
   "cell_type": "markdown",
   "metadata": {},
   "source": [
    "# Tweet # Counts\n",
    "\n",
    "Time series, counts by week.\n",
    "\n",
    "\n",
    "#### Libraries + DB"
   ]
  },
  {
   "cell_type": "code",
   "execution_count": 1,
   "metadata": {
    "collapsed": true
   },
   "outputs": [],
   "source": [
    "%run utilities.py\n",
    "%run ../../src/secret_key.py\n",
    "\n",
    "# for hashtag count summation\n",
    "import numpy as np\n",
    "\n",
    "import psycopg2 as pg\n",
    "import pandas.io.sql as psql\n",
    "\n",
    "from matplotlib import pyplot as plt\n",
    "%matplotlib inline"
   ]
  },
  {
   "cell_type": "code",
   "execution_count": 2,
   "metadata": {
    "collapsed": true
   },
   "outputs": [],
   "source": [
    "## get connected to the database\n",
    "conn_str = \"dbname='immigration' user='rlrson' password={}\".format(pw)\n",
    "conn = pg.connect(conn_str)"
   ]
  },
  {
   "cell_type": "markdown",
   "metadata": {},
   "source": [
    "#### Time Periods\n",
    "\n",
    "Caglar has broken them down into before/after the 'epoch' date. Lets pull them in."
   ]
  },
  {
   "cell_type": "code",
   "execution_count": 3,
   "metadata": {},
   "outputs": [
    {
     "data": {
      "text/html": [
       "<div>\n",
       "<style>\n",
       "    .dataframe thead tr:only-child th {\n",
       "        text-align: right;\n",
       "    }\n",
       "\n",
       "    .dataframe thead th {\n",
       "        text-align: left;\n",
       "    }\n",
       "\n",
       "    .dataframe tbody tr th {\n",
       "        vertical-align: top;\n",
       "    }\n",
       "</style>\n",
       "<table border=\"1\" class=\"dataframe\">\n",
       "  <thead>\n",
       "    <tr style=\"text-align: right;\">\n",
       "      <th></th>\n",
       "      <th>id</th>\n",
       "      <th>startinterval</th>\n",
       "      <th>endinterval</th>\n",
       "    </tr>\n",
       "  </thead>\n",
       "  <tbody>\n",
       "    <tr>\n",
       "      <th>0</th>\n",
       "      <td>1</td>\n",
       "      <td>2016-12-27 10:00:00+00:00</td>\n",
       "      <td>2017-01-27 10:00:00+00:00</td>\n",
       "    </tr>\n",
       "    <tr>\n",
       "      <th>1</th>\n",
       "      <td>2</td>\n",
       "      <td>2017-01-28 10:00:00+00:00</td>\n",
       "      <td>2017-02-27 10:00:00+00:00</td>\n",
       "    </tr>\n",
       "    <tr>\n",
       "      <th>2</th>\n",
       "      <td>3</td>\n",
       "      <td>2017-01-21 10:00:00+00:00</td>\n",
       "      <td>2017-01-27 10:00:00+00:00</td>\n",
       "    </tr>\n",
       "    <tr>\n",
       "      <th>3</th>\n",
       "      <td>4</td>\n",
       "      <td>2017-01-28 10:00:00+00:00</td>\n",
       "      <td>2017-02-03 10:00:00+00:00</td>\n",
       "    </tr>\n",
       "    <tr>\n",
       "      <th>4</th>\n",
       "      <td>5</td>\n",
       "      <td>2017-01-26 10:00:00+00:00</td>\n",
       "      <td>2017-01-27 10:00:00+00:00</td>\n",
       "    </tr>\n",
       "    <tr>\n",
       "      <th>5</th>\n",
       "      <td>6</td>\n",
       "      <td>2017-01-28 10:00:00+00:00</td>\n",
       "      <td>2017-01-29 10:00:00+00:00</td>\n",
       "    </tr>\n",
       "  </tbody>\n",
       "</table>\n",
       "</div>"
      ],
      "text/plain": [
       "   id             startinterval               endinterval\n",
       "0   1 2016-12-27 10:00:00+00:00 2017-01-27 10:00:00+00:00\n",
       "1   2 2017-01-28 10:00:00+00:00 2017-02-27 10:00:00+00:00\n",
       "2   3 2017-01-21 10:00:00+00:00 2017-01-27 10:00:00+00:00\n",
       "3   4 2017-01-28 10:00:00+00:00 2017-02-03 10:00:00+00:00\n",
       "4   5 2017-01-26 10:00:00+00:00 2017-01-27 10:00:00+00:00\n",
       "5   6 2017-01-28 10:00:00+00:00 2017-01-29 10:00:00+00:00"
      ]
     },
     "execution_count": 3,
     "metadata": {},
     "output_type": "execute_result"
    }
   ],
   "source": [
    "time_periods = pd.read_sql(\"SELECT * FROM timeinterval;\", con=conn)\n",
    "time_periods"
   ]
  },
  {
   "cell_type": "code",
   "execution_count": 4,
   "metadata": {},
   "outputs": [
    {
     "data": {
      "text/plain": [
       "id                             int64\n",
       "startinterval    datetime64[ns, UTC]\n",
       "endinterval      datetime64[ns, UTC]\n",
       "dtype: object"
      ]
     },
     "execution_count": 4,
     "metadata": {},
     "output_type": "execute_result"
    }
   ],
   "source": [
    "time_periods.dtypes"
   ]
  },
  {
   "cell_type": "code",
   "execution_count": 5,
   "metadata": {
    "collapsed": true
   },
   "outputs": [],
   "source": [
    "# set variables so we can specify a beginning/end for our SQL queries\n",
    "start = time_periods.iloc[0]['startinterval'].tz_convert(None)\n",
    "end = time_periods.iloc[1]['endinterval'].tz_convert(None)"
   ]
  },
  {
   "cell_type": "markdown",
   "metadata": {},
   "source": [
    "#### Week Categorization\n",
    "\n",
    "We need to create a mapping that will return the week number for us. We'll start at the epoch and work our way backwards week by week. After a month we'll do 'after' the epoch."
   ]
  },
  {
   "cell_type": "code",
   "execution_count": 6,
   "metadata": {
    "collapsed": true
   },
   "outputs": [],
   "source": [
    "# set the time variables\n",
    "# epoch_start - (delta_week * 4) >> Timestamp('2016-12-30 10:00:00')\n",
    "# start >> Timestamp('2016-12-27 10:00:00+0000', tz='UTC')\n",
    "\n",
    "# Epoch\n",
    "epoch_start = pd.to_datetime('2017-01-27 10:00:00+00:00', utc=True).tz_convert(None)\n",
    "epoch_end = pd.to_datetime('2017-01-28 10:00:00+00:00', utc=True).tz_convert(None)\n",
    "\n",
    "# delta\n",
    "delta_week = pd.Timedelta('7 days')\n",
    "\n",
    "# before\n",
    "four_before = epoch_start - (delta_week * 4)\n",
    "three_before = epoch_start - (delta_week * 3)\n",
    "two_before = epoch_start - (delta_week * 2)\n",
    "one_before = epoch_start - (delta_week * 1)\n",
    "\n",
    "# after\n",
    "four_after = epoch_end + (delta_week * 4)\n",
    "three_after = epoch_end + (delta_week * 3)\n",
    "two_after = epoch_end + (delta_week * 2)\n",
    "one_after = epoch_end + (delta_week * 1)\n",
    "\n",
    "\n",
    "def get_week_number(week):\n",
    "    try:\n",
    "        week = pd.to_datetime(week, infer_datetime_format=True)\n",
    "    \n",
    "        # catch, before/after?\n",
    "        if (week < start) or (week > end):\n",
    "            return None\n",
    "\n",
    "        if (week < four_before):\n",
    "            return -5\n",
    "        elif (week < three_before):\n",
    "            return -4\n",
    "        elif (week < two_before):\n",
    "            return -3\n",
    "        elif (week < one_before):\n",
    "            return -2\n",
    "        elif (week < epoch_start):\n",
    "            return -1\n",
    "        elif (week < epoch_end):\n",
    "            return 0\n",
    "        elif (week < one_after):\n",
    "            return 1\n",
    "        elif (week < two_after):\n",
    "            return 2\n",
    "        elif (week < three_after):\n",
    "            return 3\n",
    "        elif (week < four_after):\n",
    "            return 4\n",
    "        else:\n",
    "            return 5\n",
    "    except Exception as e:\n",
    "        print (e, week)\n",
    "        return None"
   ]
  },
  {
   "cell_type": "markdown",
   "metadata": {},
   "source": [
    "#### Tweets\n",
    "\n",
    "We need a count of tweets from every county, for every week (8: 4-before/after). The `tweet` table has tweetid, tweet, date, userid, id, lon, lat, cntyid."
   ]
  },
  {
   "cell_type": "code",
   "execution_count": 7,
   "metadata": {},
   "outputs": [
    {
     "data": {
      "text/html": [
       "<div>\n",
       "<style>\n",
       "    .dataframe thead tr:only-child th {\n",
       "        text-align: right;\n",
       "    }\n",
       "\n",
       "    .dataframe thead th {\n",
       "        text-align: left;\n",
       "    }\n",
       "\n",
       "    .dataframe tbody tr th {\n",
       "        vertical-align: top;\n",
       "    }\n",
       "</style>\n",
       "<table border=\"1\" class=\"dataframe\">\n",
       "  <thead>\n",
       "    <tr style=\"text-align: right;\">\n",
       "      <th></th>\n",
       "      <th>tweetid</th>\n",
       "      <th>date</th>\n",
       "      <th>tweet</th>\n",
       "    </tr>\n",
       "  </thead>\n",
       "  <tbody>\n",
       "    <tr>\n",
       "      <th>0</th>\n",
       "      <td>812090242366701568</td>\n",
       "      <td>2016-12-22</td>\n",
       "      <td>Obama threw a wrench in Trump's plans for a Mu...</td>\n",
       "    </tr>\n",
       "    <tr>\n",
       "      <th>1</th>\n",
       "      <td>812090289800232961</td>\n",
       "      <td>2016-12-22</td>\n",
       "      <td>RT : Ministro alemán:”debemos deportar a cient...</td>\n",
       "    </tr>\n",
       "    <tr>\n",
       "      <th>2</th>\n",
       "      <td>812090333085466624</td>\n",
       "      <td>2016-12-22</td>\n",
       "      <td>Obama just made it harder for Trump to create ...</td>\n",
       "    </tr>\n",
       "    <tr>\n",
       "      <th>3</th>\n",
       "      <td>812090374722355200</td>\n",
       "      <td>2016-12-22</td>\n",
       "      <td>RT :  Legal Group: Obama Dismantling US Regist...</td>\n",
       "    </tr>\n",
       "    <tr>\n",
       "      <th>4</th>\n",
       "      <td>812090414928953348</td>\n",
       "      <td>2016-12-22</td>\n",
       "      <td>Ormas Islam Berencana Bentuk Front Anti Narkoba</td>\n",
       "    </tr>\n",
       "    <tr>\n",
       "      <th>5</th>\n",
       "      <td>812090456569954304</td>\n",
       "      <td>2016-12-22</td>\n",
       "      <td>ربِّ أسألك خير ما في هذا اليوم وخير ما بعده ♻️</td>\n",
       "    </tr>\n",
       "    <tr>\n",
       "      <th>6</th>\n",
       "      <td>812090495547670530</td>\n",
       "      <td>2016-12-22</td>\n",
       "      <td>اللهم لا سهل إلا ما جعلته سهلاً وأنت تجعل الحز...</td>\n",
       "    </tr>\n",
       "    <tr>\n",
       "      <th>7</th>\n",
       "      <td>812090532755345409</td>\n",
       "      <td>2016-12-22</td>\n",
       "      <td>اللهم لا سهل إلا ما جعلته سهلاً وأنت تجعل الحز...</td>\n",
       "    </tr>\n",
       "    <tr>\n",
       "      <th>8</th>\n",
       "      <td>812090571888193536</td>\n",
       "      <td>2016-12-22</td>\n",
       "      <td>أذكار الأذان:يدعو لنفسه بين الأذان والإقامة فإ...</td>\n",
       "    </tr>\n",
       "    <tr>\n",
       "      <th>9</th>\n",
       "      <td>812090611914440705</td>\n",
       "      <td>2016-12-22</td>\n",
       "      <td>Bayu Hermawan: Ormas Islam Berencana Bentuk Fr...</td>\n",
       "    </tr>\n",
       "  </tbody>\n",
       "</table>\n",
       "</div>"
      ],
      "text/plain": [
       "              tweetid        date  \\\n",
       "0  812090242366701568  2016-12-22   \n",
       "1  812090289800232961  2016-12-22   \n",
       "2  812090333085466624  2016-12-22   \n",
       "3  812090374722355200  2016-12-22   \n",
       "4  812090414928953348  2016-12-22   \n",
       "5  812090456569954304  2016-12-22   \n",
       "6  812090495547670530  2016-12-22   \n",
       "7  812090532755345409  2016-12-22   \n",
       "8  812090571888193536  2016-12-22   \n",
       "9  812090611914440705  2016-12-22   \n",
       "\n",
       "                                               tweet  \n",
       "0  Obama threw a wrench in Trump's plans for a Mu...  \n",
       "1  RT : Ministro alemán:”debemos deportar a cient...  \n",
       "2  Obama just made it harder for Trump to create ...  \n",
       "3  RT :  Legal Group: Obama Dismantling US Regist...  \n",
       "4    Ormas Islam Berencana Bentuk Front Anti Narkoba  \n",
       "5     ربِّ أسألك خير ما في هذا اليوم وخير ما بعده ♻️  \n",
       "6  اللهم لا سهل إلا ما جعلته سهلاً وأنت تجعل الحز...  \n",
       "7  اللهم لا سهل إلا ما جعلته سهلاً وأنت تجعل الحز...  \n",
       "8  أذكار الأذان:يدعو لنفسه بين الأذان والإقامة فإ...  \n",
       "9  Bayu Hermawan: Ormas Islam Berencana Bentuk Fr...  "
      ]
     },
     "execution_count": 7,
     "metadata": {},
     "output_type": "execute_result"
    }
   ],
   "source": [
    "query_test = \"SELECT tweetID, date::date, tweet  FROM tweet LIMIT 10;\"\n",
    "test_df = pd.read_sql(query_test, con=conn)\n",
    "\n",
    "test_df.head(10)"
   ]
  },
  {
   "cell_type": "code",
   "execution_count": 22,
   "metadata": {},
   "outputs": [
    {
     "data": {
      "text/html": [
       "<div>\n",
       "<style>\n",
       "    .dataframe thead tr:only-child th {\n",
       "        text-align: right;\n",
       "    }\n",
       "\n",
       "    .dataframe thead th {\n",
       "        text-align: left;\n",
       "    }\n",
       "\n",
       "    .dataframe tbody tr th {\n",
       "        vertical-align: top;\n",
       "    }\n",
       "</style>\n",
       "<table border=\"1\" class=\"dataframe\">\n",
       "  <thead>\n",
       "    <tr style=\"text-align: right;\">\n",
       "      <th></th>\n",
       "      <th>date</th>\n",
       "      <th>tweet</th>\n",
       "    </tr>\n",
       "  </thead>\n",
       "  <tbody>\n",
       "    <tr>\n",
       "      <th>0</th>\n",
       "      <td>2016-12-24</td>\n",
       "      <td>يا حي يا قيوم برحمتك أستغيث أصلح لي شأني كُله  ♻️</td>\n",
       "    </tr>\n",
       "    <tr>\n",
       "      <th>1</th>\n",
       "      <td>2016-12-24</td>\n",
       "      <td>اللهم قني عذابك يوم تبعث عبادك ♻️</td>\n",
       "    </tr>\n",
       "  </tbody>\n",
       "</table>\n",
       "</div>"
      ],
      "text/plain": [
       "         date                                              tweet\n",
       "0  2016-12-24  يا حي يا قيوم برحمتك أستغيث أصلح لي شأني كُله  ♻️\n",
       "1  2016-12-24                  اللهم قني عذابك يوم تبعث عبادك ♻️"
      ]
     },
     "execution_count": 22,
     "metadata": {},
     "output_type": "execute_result"
    }
   ],
   "source": [
    "tweet_query = \"SELECT date::date, tweet FROM tweet LIMIT 75000;\"\n",
    "tweet_df = pd.read_sql(tweet_query, con=conn)\n",
    "\n",
    "tweet_df.head(2)"
   ]
  },
  {
   "cell_type": "markdown",
   "metadata": {},
   "source": [
    "### Keywords"
   ]
  },
  {
   "cell_type": "code",
   "execution_count": 10,
   "metadata": {
    "collapsed": true
   },
   "outputs": [],
   "source": [
    "# https://stackoverflow.com/questions/6331497/an-elegant-way-to-get-hashtags-out-of-a-string-in-python\n",
    "def get_keyword(text, keyword):\n",
    "    try:\n",
    "        return 1 if keyword in text else 0\n",
    "    except Exception as e:\n",
    "        print (e, text)\n",
    "        return None\n",
    "    \n",
    "def get_adj(text):\n",
    "    return get_keyword(text, 'immigrant')\n",
    "def get_verb(text):\n",
    "    return get_keyword(text, 'immigration')"
   ]
  },
  {
   "cell_type": "code",
   "execution_count": 14,
   "metadata": {},
   "outputs": [
    {
     "data": {
      "text/html": [
       "<div>\n",
       "<style>\n",
       "    .dataframe thead tr:only-child th {\n",
       "        text-align: right;\n",
       "    }\n",
       "\n",
       "    .dataframe thead th {\n",
       "        text-align: left;\n",
       "    }\n",
       "\n",
       "    .dataframe tbody tr th {\n",
       "        vertical-align: top;\n",
       "    }\n",
       "</style>\n",
       "<table border=\"1\" class=\"dataframe\">\n",
       "  <thead>\n",
       "    <tr style=\"text-align: right;\">\n",
       "      <th></th>\n",
       "      <th>date</th>\n",
       "      <th>tweet</th>\n",
       "      <th>adj</th>\n",
       "      <th>verb</th>\n",
       "      <th>cnt</th>\n",
       "    </tr>\n",
       "  </thead>\n",
       "  <tbody>\n",
       "    <tr>\n",
       "      <th>0</th>\n",
       "      <td>2016-12-22</td>\n",
       "      <td>Obama threw a wrench in Trump's plans for a Mu...</td>\n",
       "      <td>0</td>\n",
       "      <td>0</td>\n",
       "      <td>1</td>\n",
       "    </tr>\n",
       "    <tr>\n",
       "      <th>1</th>\n",
       "      <td>2016-12-22</td>\n",
       "      <td>RT : Ministro alemán:”debemos deportar a cient...</td>\n",
       "      <td>0</td>\n",
       "      <td>0</td>\n",
       "      <td>1</td>\n",
       "    </tr>\n",
       "    <tr>\n",
       "      <th>2</th>\n",
       "      <td>2016-12-22</td>\n",
       "      <td>Obama just made it harder for Trump to create ...</td>\n",
       "      <td>0</td>\n",
       "      <td>0</td>\n",
       "      <td>1</td>\n",
       "    </tr>\n",
       "    <tr>\n",
       "      <th>3</th>\n",
       "      <td>2016-12-22</td>\n",
       "      <td>RT :  Legal Group: Obama Dismantling US Regist...</td>\n",
       "      <td>0</td>\n",
       "      <td>0</td>\n",
       "      <td>1</td>\n",
       "    </tr>\n",
       "    <tr>\n",
       "      <th>4</th>\n",
       "      <td>2016-12-22</td>\n",
       "      <td>Ormas Islam Berencana Bentuk Front Anti Narkoba</td>\n",
       "      <td>0</td>\n",
       "      <td>0</td>\n",
       "      <td>1</td>\n",
       "    </tr>\n",
       "  </tbody>\n",
       "</table>\n",
       "</div>"
      ],
      "text/plain": [
       "         date                                              tweet  adj  verb  \\\n",
       "0  2016-12-22  Obama threw a wrench in Trump's plans for a Mu...    0     0   \n",
       "1  2016-12-22  RT : Ministro alemán:”debemos deportar a cient...    0     0   \n",
       "2  2016-12-22  Obama just made it harder for Trump to create ...    0     0   \n",
       "3  2016-12-22  RT :  Legal Group: Obama Dismantling US Regist...    0     0   \n",
       "4  2016-12-22    Ormas Islam Berencana Bentuk Front Anti Narkoba    0     0   \n",
       "\n",
       "   cnt  \n",
       "0    1  \n",
       "1    1  \n",
       "2    1  \n",
       "3    1  \n",
       "4    1  "
      ]
     },
     "execution_count": 14,
     "metadata": {},
     "output_type": "execute_result"
    }
   ],
   "source": [
    "tweet_df['immigrant'] = parallelize_series(tweet_df.tweet.values, get_adj)\n",
    "tweet_df['immigration'] = parallelize_series(tweet_df.tweet.values, get_verb)\n",
    "tweet_df['cnt'] = 1\n",
    "\n",
    "tweet_df.head()"
   ]
  },
  {
   "cell_type": "code",
   "execution_count": 16,
   "metadata": {},
   "outputs": [
    {
     "data": {
      "text/html": [
       "<div>\n",
       "<style>\n",
       "    .dataframe thead tr:only-child th {\n",
       "        text-align: right;\n",
       "    }\n",
       "\n",
       "    .dataframe thead th {\n",
       "        text-align: left;\n",
       "    }\n",
       "\n",
       "    .dataframe tbody tr th {\n",
       "        vertical-align: top;\n",
       "    }\n",
       "</style>\n",
       "<table border=\"1\" class=\"dataframe\">\n",
       "  <thead>\n",
       "    <tr style=\"text-align: right;\">\n",
       "      <th></th>\n",
       "      <th>adj</th>\n",
       "      <th>verb</th>\n",
       "      <th>cnt</th>\n",
       "    </tr>\n",
       "    <tr>\n",
       "      <th>date</th>\n",
       "      <th></th>\n",
       "      <th></th>\n",
       "      <th></th>\n",
       "    </tr>\n",
       "  </thead>\n",
       "  <tbody>\n",
       "    <tr>\n",
       "      <th>2016-12-22</th>\n",
       "      <td>159</td>\n",
       "      <td>173</td>\n",
       "      <td>5106</td>\n",
       "    </tr>\n",
       "    <tr>\n",
       "      <th>2016-12-23</th>\n",
       "      <td>733</td>\n",
       "      <td>917</td>\n",
       "      <td>50434</td>\n",
       "    </tr>\n",
       "    <tr>\n",
       "      <th>2016-12-24</th>\n",
       "      <td>170</td>\n",
       "      <td>286</td>\n",
       "      <td>19349</td>\n",
       "    </tr>\n",
       "    <tr>\n",
       "      <th>2016-12-25</th>\n",
       "      <td>0</td>\n",
       "      <td>0</td>\n",
       "      <td>19</td>\n",
       "    </tr>\n",
       "    <tr>\n",
       "      <th>2016-12-26</th>\n",
       "      <td>0</td>\n",
       "      <td>0</td>\n",
       "      <td>32</td>\n",
       "    </tr>\n",
       "  </tbody>\n",
       "</table>\n",
       "</div>"
      ],
      "text/plain": [
       "            adj  verb    cnt\n",
       "date                        \n",
       "2016-12-22  159   173   5106\n",
       "2016-12-23  733   917  50434\n",
       "2016-12-24  170   286  19349\n",
       "2016-12-25    0     0     19\n",
       "2016-12-26    0     0     32"
      ]
     },
     "execution_count": 16,
     "metadata": {},
     "output_type": "execute_result"
    }
   ],
   "source": [
    "test_day = tweet_df[['date', 'adj', 'verb', 'cnt']].groupby('date').agg(sum)\n",
    "test_day.head()"
   ]
  },
  {
   "cell_type": "markdown",
   "metadata": {},
   "source": [
    "#### Parallelize\n",
    "\n",
    "This is going to take forever unless we do."
   ]
  },
  {
   "cell_type": "code",
   "execution_count": 19,
   "metadata": {
    "collapsed": true
   },
   "outputs": [],
   "source": [
    "from multiprocessing import Pool  # faster\n",
    "def parallelize_series(series, func):\n",
    "    pool = Pool(6)\n",
    "\n",
    "    df = pool.map(func, series)\n",
    "\n",
    "    pool.close()\n",
    "    pool.join()\n",
    "    return df"
   ]
  },
  {
   "cell_type": "markdown",
   "metadata": {},
   "source": [
    "#### DataFrame Construction\n",
    "\n",
    "Putting together everything we've done so far:\n",
    "1. Read in the tweets\n",
    "2. Add three variables, contains(immigrant), contains(immigration), 1 (for total #)\n",
    "3. groupby date, sum. \n",
    "4. reset index to make it a normal DF\n",
    "5. return DF"
   ]
  },
  {
   "cell_type": "code",
   "execution_count": 29,
   "metadata": {},
   "outputs": [
    {
     "data": {
      "text/html": [
       "<div>\n",
       "<style>\n",
       "    .dataframe thead tr:only-child th {\n",
       "        text-align: right;\n",
       "    }\n",
       "\n",
       "    .dataframe thead th {\n",
       "        text-align: left;\n",
       "    }\n",
       "\n",
       "    .dataframe tbody tr th {\n",
       "        vertical-align: top;\n",
       "    }\n",
       "</style>\n",
       "<table border=\"1\" class=\"dataframe\">\n",
       "  <thead>\n",
       "    <tr style=\"text-align: right;\">\n",
       "      <th></th>\n",
       "      <th>date</th>\n",
       "      <th>immigrant</th>\n",
       "      <th>immigration</th>\n",
       "      <th>total</th>\n",
       "    </tr>\n",
       "  </thead>\n",
       "  <tbody>\n",
       "    <tr>\n",
       "      <th>0</th>\n",
       "      <td>2016-12-24</td>\n",
       "      <td>152</td>\n",
       "      <td>144</td>\n",
       "      <td>20106</td>\n",
       "    </tr>\n",
       "    <tr>\n",
       "      <th>1</th>\n",
       "      <td>2016-12-25</td>\n",
       "      <td>235</td>\n",
       "      <td>235</td>\n",
       "      <td>30896</td>\n",
       "    </tr>\n",
       "    <tr>\n",
       "      <th>2</th>\n",
       "      <td>2016-12-26</td>\n",
       "      <td>20</td>\n",
       "      <td>46</td>\n",
       "      <td>3450</td>\n",
       "    </tr>\n",
       "    <tr>\n",
       "      <th>3</th>\n",
       "      <td>2016-12-27</td>\n",
       "      <td>176</td>\n",
       "      <td>515</td>\n",
       "      <td>20540</td>\n",
       "    </tr>\n",
       "    <tr>\n",
       "      <th>4</th>\n",
       "      <td>2016-12-28</td>\n",
       "      <td>0</td>\n",
       "      <td>0</td>\n",
       "      <td>8</td>\n",
       "    </tr>\n",
       "  </tbody>\n",
       "</table>\n",
       "</div>"
      ],
      "text/plain": [
       "         date  immigrant  immigration  total\n",
       "0  2016-12-24        152          144  20106\n",
       "1  2016-12-25        235          235  30896\n",
       "2  2016-12-26         20           46   3450\n",
       "3  2016-12-27        176          515  20540\n",
       "4  2016-12-28          0            0      8"
      ]
     },
     "execution_count": 29,
     "metadata": {},
     "output_type": "execute_result"
    }
   ],
   "source": [
    "def count_tweets(tweets):\n",
    "    tweets['immigrant'] = parallelize_series(tweets.tweet.values, get_adj)\n",
    "    tweets['immigration'] = parallelize_series(tweets.tweet.values, get_verb)\n",
    "    tweets['total'] = 1\n",
    "\n",
    "    count_df = tweets[['date', 'immigrant', 'immigration', 'total']].groupby('date').agg(sum)\n",
    "    count_df.reset_index(inplace=True)\n",
    "    \n",
    "    return count_df\n",
    "\n",
    "count_tweets(tweet_df)"
   ]
  },
  {
   "cell_type": "markdown",
   "metadata": {},
   "source": [
    "#### Actual Counts!!!"
   ]
  },
  {
   "cell_type": "code",
   "execution_count": 30,
   "metadata": {
    "collapsed": true
   },
   "outputs": [],
   "source": [
    "# for real this time\n",
    "full_query = \"SELECT date::date, tweet FROM tweet;\"\n",
    "\n",
    "day_counts = pd.DataFrame()\n",
    "for chunk in pd.read_sql(full_query, con=conn, chunksize=50000):\n",
    "    formatted = count_tweets(chunk)\n",
    "    day_counts = day_counts.append(formatted)"
   ]
  },
  {
   "cell_type": "code",
   "execution_count": 31,
   "metadata": {},
   "outputs": [
    {
     "data": {
      "text/html": [
       "<div>\n",
       "<style>\n",
       "    .dataframe thead tr:only-child th {\n",
       "        text-align: right;\n",
       "    }\n",
       "\n",
       "    .dataframe thead th {\n",
       "        text-align: left;\n",
       "    }\n",
       "\n",
       "    .dataframe tbody tr th {\n",
       "        vertical-align: top;\n",
       "    }\n",
       "</style>\n",
       "<table border=\"1\" class=\"dataframe\">\n",
       "  <thead>\n",
       "    <tr style=\"text-align: right;\">\n",
       "      <th></th>\n",
       "      <th>date</th>\n",
       "      <th>immigrant</th>\n",
       "      <th>immigration</th>\n",
       "      <th>total</th>\n",
       "    </tr>\n",
       "  </thead>\n",
       "  <tbody>\n",
       "    <tr>\n",
       "      <th>0</th>\n",
       "      <td>2016-12-30</td>\n",
       "      <td>122</td>\n",
       "      <td>255</td>\n",
       "      <td>13871</td>\n",
       "    </tr>\n",
       "    <tr>\n",
       "      <th>1</th>\n",
       "      <td>2016-12-31</td>\n",
       "      <td>198</td>\n",
       "      <td>335</td>\n",
       "      <td>22794</td>\n",
       "    </tr>\n",
       "    <tr>\n",
       "      <th>2</th>\n",
       "      <td>2017-01-01</td>\n",
       "      <td>61</td>\n",
       "      <td>186</td>\n",
       "      <td>13311</td>\n",
       "    </tr>\n",
       "    <tr>\n",
       "      <th>3</th>\n",
       "      <td>2017-01-02</td>\n",
       "      <td>0</td>\n",
       "      <td>1</td>\n",
       "      <td>24</td>\n",
       "    </tr>\n",
       "    <tr>\n",
       "      <th>0</th>\n",
       "      <td>2017-01-01</td>\n",
       "      <td>127</td>\n",
       "      <td>418</td>\n",
       "      <td>19571</td>\n",
       "    </tr>\n",
       "  </tbody>\n",
       "</table>\n",
       "</div>"
      ],
      "text/plain": [
       "         date  immigrant  immigration  total\n",
       "0  2016-12-30        122          255  13871\n",
       "1  2016-12-31        198          335  22794\n",
       "2  2017-01-01         61          186  13311\n",
       "3  2017-01-02          0            1     24\n",
       "0  2017-01-01        127          418  19571"
      ]
     },
     "execution_count": 31,
     "metadata": {},
     "output_type": "execute_result"
    }
   ],
   "source": [
    "day_counts.head()"
   ]
  },
  {
   "cell_type": "code",
   "execution_count": 33,
   "metadata": {},
   "outputs": [
    {
     "data": {
      "text/html": [
       "<div>\n",
       "<style>\n",
       "    .dataframe thead tr:only-child th {\n",
       "        text-align: right;\n",
       "    }\n",
       "\n",
       "    .dataframe thead th {\n",
       "        text-align: left;\n",
       "    }\n",
       "\n",
       "    .dataframe tbody tr th {\n",
       "        vertical-align: top;\n",
       "    }\n",
       "</style>\n",
       "<table border=\"1\" class=\"dataframe\">\n",
       "  <thead>\n",
       "    <tr style=\"text-align: right;\">\n",
       "      <th></th>\n",
       "      <th>date</th>\n",
       "      <th>immigrant</th>\n",
       "      <th>immigration</th>\n",
       "      <th>total</th>\n",
       "    </tr>\n",
       "  </thead>\n",
       "  <tbody>\n",
       "    <tr>\n",
       "      <th>0</th>\n",
       "      <td>2016-12-22</td>\n",
       "      <td>159</td>\n",
       "      <td>173</td>\n",
       "      <td>5106</td>\n",
       "    </tr>\n",
       "    <tr>\n",
       "      <th>1</th>\n",
       "      <td>2016-12-23</td>\n",
       "      <td>733</td>\n",
       "      <td>917</td>\n",
       "      <td>50434</td>\n",
       "    </tr>\n",
       "    <tr>\n",
       "      <th>2</th>\n",
       "      <td>2016-12-24</td>\n",
       "      <td>318</td>\n",
       "      <td>426</td>\n",
       "      <td>39156</td>\n",
       "    </tr>\n",
       "    <tr>\n",
       "      <th>3</th>\n",
       "      <td>2016-12-25</td>\n",
       "      <td>235</td>\n",
       "      <td>235</td>\n",
       "      <td>30915</td>\n",
       "    </tr>\n",
       "    <tr>\n",
       "      <th>4</th>\n",
       "      <td>2016-12-26</td>\n",
       "      <td>20</td>\n",
       "      <td>46</td>\n",
       "      <td>3482</td>\n",
       "    </tr>\n",
       "  </tbody>\n",
       "</table>\n",
       "</div>"
      ],
      "text/plain": [
       "         date  immigrant  immigration  total\n",
       "0  2016-12-22        159          173   5106\n",
       "1  2016-12-23        733          917  50434\n",
       "2  2016-12-24        318          426  39156\n",
       "3  2016-12-25        235          235  30915\n",
       "4  2016-12-26         20           46   3482"
      ]
     },
     "execution_count": 33,
     "metadata": {},
     "output_type": "execute_result"
    }
   ],
   "source": [
    "final = day_counts.groupby(['date']).agg(sum)\n",
    "final = final.reset_index()\n",
    "\n",
    "final.head()"
   ]
  },
  {
   "cell_type": "code",
   "execution_count": 40,
   "metadata": {},
   "outputs": [
    {
     "data": {
      "text/html": [
       "<div>\n",
       "<style>\n",
       "    .dataframe thead tr:only-child th {\n",
       "        text-align: right;\n",
       "    }\n",
       "\n",
       "    .dataframe thead th {\n",
       "        text-align: left;\n",
       "    }\n",
       "\n",
       "    .dataframe tbody tr th {\n",
       "        vertical-align: top;\n",
       "    }\n",
       "</style>\n",
       "<table border=\"1\" class=\"dataframe\">\n",
       "  <thead>\n",
       "    <tr style=\"text-align: right;\">\n",
       "      <th></th>\n",
       "      <th>date</th>\n",
       "      <th>immigrant</th>\n",
       "      <th>immigration</th>\n",
       "      <th>total</th>\n",
       "      <th>week</th>\n",
       "    </tr>\n",
       "  </thead>\n",
       "  <tbody>\n",
       "    <tr>\n",
       "      <th>0</th>\n",
       "      <td>2016-12-22</td>\n",
       "      <td>159</td>\n",
       "      <td>173</td>\n",
       "      <td>5106</td>\n",
       "      <td>NaN</td>\n",
       "    </tr>\n",
       "    <tr>\n",
       "      <th>1</th>\n",
       "      <td>2016-12-23</td>\n",
       "      <td>733</td>\n",
       "      <td>917</td>\n",
       "      <td>50434</td>\n",
       "      <td>NaN</td>\n",
       "    </tr>\n",
       "    <tr>\n",
       "      <th>2</th>\n",
       "      <td>2016-12-24</td>\n",
       "      <td>318</td>\n",
       "      <td>426</td>\n",
       "      <td>39156</td>\n",
       "      <td>NaN</td>\n",
       "    </tr>\n",
       "    <tr>\n",
       "      <th>3</th>\n",
       "      <td>2016-12-25</td>\n",
       "      <td>235</td>\n",
       "      <td>235</td>\n",
       "      <td>30915</td>\n",
       "      <td>NaN</td>\n",
       "    </tr>\n",
       "    <tr>\n",
       "      <th>4</th>\n",
       "      <td>2016-12-26</td>\n",
       "      <td>20</td>\n",
       "      <td>46</td>\n",
       "      <td>3482</td>\n",
       "      <td>NaN</td>\n",
       "    </tr>\n",
       "  </tbody>\n",
       "</table>\n",
       "</div>"
      ],
      "text/plain": [
       "         date  immigrant  immigration  total  week\n",
       "0  2016-12-22        159          173   5106   NaN\n",
       "1  2016-12-23        733          917  50434   NaN\n",
       "2  2016-12-24        318          426  39156   NaN\n",
       "3  2016-12-25        235          235  30915   NaN\n",
       "4  2016-12-26         20           46   3482   NaN"
      ]
     },
     "execution_count": 40,
     "metadata": {},
     "output_type": "execute_result"
    }
   ],
   "source": [
    "final['week'] = final.date.map(get_week_number)\n",
    "final.head()"
   ]
  },
  {
   "cell_type": "code",
   "execution_count": 41,
   "metadata": {
    "collapsed": true
   },
   "outputs": [],
   "source": [
    "# drop rows without weeks \n",
    "final = final[final['week'].isnull() == False]"
   ]
  },
  {
   "cell_type": "code",
   "execution_count": 42,
   "metadata": {
    "collapsed": true
   },
   "outputs": [],
   "source": [
    "# finally write these out\n",
    "f = name_file_path('term-date-counts.csv', processed_web_dir)\n",
    "final.to_csv(f, index=False)"
   ]
  },
  {
   "cell_type": "markdown",
   "metadata": {},
   "source": [
    "---"
   ]
  },
  {
   "cell_type": "code",
   "execution_count": 43,
   "metadata": {
    "collapsed": true
   },
   "outputs": [],
   "source": [
    "conn.close()"
   ]
  },
  {
   "cell_type": "code",
   "execution_count": 44,
   "metadata": {},
   "outputs": [
    {
     "data": {
      "text/html": [
       "<style>.container { width:85% !important; }</style>"
      ],
      "text/plain": [
       "<IPython.core.display.HTML object>"
      ]
     },
     "metadata": {},
     "output_type": "display_data"
    }
   ],
   "source": [
    "# Wide cells\n",
    "from IPython.core.display import display, HTML\n",
    "display(HTML(\"<style>.container { width:85% !important; }</style>\"))\n",
    "\n",
    "# number of text characters per column\n",
    "pd.set_option('max_colwidth', 140)"
   ]
  },
  {
   "cell_type": "code",
   "execution_count": null,
   "metadata": {
    "collapsed": true
   },
   "outputs": [],
   "source": []
  }
 ],
 "metadata": {
  "kernelspec": {
   "display_name": "Python 3",
   "language": "python",
   "name": "python3"
  },
  "language_info": {
   "codemirror_mode": {
    "name": "ipython",
    "version": 3
   },
   "file_extension": ".py",
   "mimetype": "text/x-python",
   "name": "python",
   "nbconvert_exporter": "python",
   "pygments_lexer": "ipython3",
   "version": "3.5.3"
  }
 },
 "nbformat": 4,
 "nbformat_minor": 2
}
