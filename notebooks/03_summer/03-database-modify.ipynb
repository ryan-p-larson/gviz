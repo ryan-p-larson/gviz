{
 "cells": [
  {
   "cell_type": "markdown",
   "metadata": {
    "collapsed": true
   },
   "source": [
    "# Modify Database\n",
    "\n",
    "Create meaningful relational database schemas from the flat/consolidated database.\n",
    "\n",
    "```\n",
    "df.to_sql(\"table_name\", conn, if_exists=\"replace/append\")        # write\n",
    "pd.read_sql_query(\"select * from table_name limit 1;\", conn)     # read\n",
    "```"
   ]
  },
  {
   "cell_type": "code",
   "execution_count": 1,
   "metadata": {
    "collapsed": true
   },
   "outputs": [],
   "source": [
    "# Libraries\n",
    "\n",
    "%run utilities.py\n",
    "import sqlite3"
   ]
  },
  {
   "cell_type": "markdown",
   "metadata": {},
   "source": [
    "**Schemas & Queries**"
   ]
  },
  {
   "cell_type": "code",
   "execution_count": null,
   "metadata": {
    "collapsed": true
   },
   "outputs": [],
   "source": [
    "tweets_schema = \"\"\"CREATE TABLE IF NOT EXISTS Tweets(\n",
    "  tweetID INTEGER REFERENCES Raw(tweetID),\n",
    "  message TEXT,\n",
    "  retweet INTEGER,\n",
    "  longitude REAL,\n",
    "  latitude REAL,\n",
    "  date TEXT\n",
    ");\"\"\".replace('\\n', '')\n",
    "\n",
    "users_schema = \"\"\"CREATE TABLE IF NOT EXISTS Users(\n",
    "  username TEXT REFERENCES Raw(username),\n",
    "  tweetID INTEGER\n",
    ");\"\"\".replace('\\n', '')\n",
    "\n",
    "CREATE TABLE Raw (\n",
    "\tusername text,\n",
    "\tlongitude float,\n",
    "\tlatitude float,\n",
    "\tdate datetime,\n",
    "\tweek date,\n",
    "\ttweetID integer,\n",
    "\tuserID integer,\n",
    "\tretweet integer,\n",
    "\tfollowersCount integer,\n",
    "\tjoinDay date,\n",
    "\tfavouritesCount integer,\n",
    "\tlanguage text,\n",
    "\tstatusesCount integer,\n",
    "\tmessage text\n",
    ");\n",
    "\n",
    "CREATE TABLE Tweets (\n",
    "\ttweetID integer REFERENCES Raw(tweetID),\n",
    "\tretweet integer,\n",
    "\tmessage integer,\n",
    "\tdate date,\n",
    "\tweek date\n",
    ");\n",
    "\n",
    "CREATE TABLE Users (\n",
    "\tuserID integer,\n",
    "\tusername text\n",
    ");\n",
    "\n",
    "CREATE TABLE User_Tweets (\n",
    "\tuserID binary,\n",
    "\ttweetID integer\n",
    ");\n",
    "\n",
    "CREATE TABLE Weeks (\n",
    "\tweek date,\n",
    "\ttweetID integer\n",
    ");\n"
   ]
  },
  {
   "cell_type": "code",
   "execution_count": 2,
   "metadata": {
    "collapsed": true
   },
   "outputs": [],
   "source": [
    "# start\n",
    "conn = sqlite3.connect(tweet_db_f)\n",
    "cur = conn.cursor()"
   ]
  },
  {
   "cell_type": "code",
   "execution_count": 8,
   "metadata": {
    "collapsed": true
   },
   "outputs": [],
   "source": [
    "# insert schemas here\n",
    "#\n",
    "#\n",
    "#"
   ]
  },
  {
   "cell_type": "code",
   "execution_count": 3,
   "metadata": {},
   "outputs": [
    {
     "data": {
      "text/html": [
       "<div>\n",
       "<style>\n",
       "    .dataframe thead tr:only-child th {\n",
       "        text-align: right;\n",
       "    }\n",
       "\n",
       "    .dataframe thead th {\n",
       "        text-align: left;\n",
       "    }\n",
       "\n",
       "    .dataframe tbody tr th {\n",
       "        vertical-align: top;\n",
       "    }\n",
       "</style>\n",
       "<table border=\"1\" class=\"dataframe\">\n",
       "  <thead>\n",
       "    <tr style=\"text-align: right;\">\n",
       "      <th></th>\n",
       "      <th>tweetID</th>\n",
       "      <th>date</th>\n",
       "      <th>week</th>\n",
       "      <th>username</th>\n",
       "      <th>message</th>\n",
       "      <th>retweet</th>\n",
       "      <th>longitude</th>\n",
       "      <th>latitude</th>\n",
       "      <th>followersCount</th>\n",
       "      <th>friendsCount</th>\n",
       "      <th>joinDay</th>\n",
       "      <th>favouritesCount</th>\n",
       "      <th>language</th>\n",
       "      <th>statusesCount</th>\n",
       "    </tr>\n",
       "  </thead>\n",
       "  <tbody>\n",
       "    <tr>\n",
       "      <th>0</th>\n",
       "      <td>812080810010574848</td>\n",
       "      <td>Thu Dec 22 17:42:07 CST 2016</td>\n",
       "      <td>Dec-22-2016</td>\n",
       "      <td>althafallathif</td>\n",
       "      <td>@ourlifeisdakwah  ・・・ Lima Fase Peradaban Isla...</td>\n",
       "      <td></td>\n",
       "      <td>114.627525</td>\n",
       "      <td>-3.351165</td>\n",
       "      <td>14</td>\n",
       "      <td>38</td>\n",
       "      <td>17067</td>\n",
       "      <td>13</td>\n",
       "      <td>id</td>\n",
       "      <td>77</td>\n",
       "    </tr>\n",
       "    <tr>\n",
       "      <th>1</th>\n",
       "      <td>812080849239810048</td>\n",
       "      <td>Thu Dec 22 17:42:16 CST 2016</td>\n",
       "      <td>Dec-22-2016</td>\n",
       "      <td>RJazz117</td>\n",
       "      <td>PrisonPlanetTV: RT PrisonPlanet: Muslim YouTub...</td>\n",
       "      <td></td>\n",
       "      <td>114.627525</td>\n",
       "      <td>-3.351165</td>\n",
       "      <td>79</td>\n",
       "      <td>53</td>\n",
       "      <td>14269</td>\n",
       "      <td>10</td>\n",
       "      <td>en</td>\n",
       "      <td>6067</td>\n",
       "    </tr>\n",
       "    <tr>\n",
       "      <th>2</th>\n",
       "      <td>812080889463242752</td>\n",
       "      <td>Thu Dec 22 17:42:26 CST 2016</td>\n",
       "      <td>Dec-22-2016</td>\n",
       "      <td>ReignsFreedom</td>\n",
       "      <td>RT : French Mayor Facing Charges For Saying 91...</td>\n",
       "      <td>1</td>\n",
       "      <td>114.627525</td>\n",
       "      <td>-3.351165</td>\n",
       "      <td>23805</td>\n",
       "      <td>10312</td>\n",
       "      <td>15882</td>\n",
       "      <td>50383</td>\n",
       "      <td>en</td>\n",
       "      <td>53260</td>\n",
       "    </tr>\n",
       "    <tr>\n",
       "      <th>3</th>\n",
       "      <td>812080932194840576</td>\n",
       "      <td>Thu Dec 22 17:42:36 CST 2016</td>\n",
       "      <td>Dec-22-2016</td>\n",
       "      <td>ahmed99059</td>\n",
       "      <td>ربِّ أسألك خير ما في هذا اليوم وخير ما بعده ♻️</td>\n",
       "      <td></td>\n",
       "      <td>114.627525</td>\n",
       "      <td>-3.351165</td>\n",
       "      <td>205</td>\n",
       "      <td>374</td>\n",
       "      <td>15532</td>\n",
       "      <td>75</td>\n",
       "      <td>ar</td>\n",
       "      <td>11769</td>\n",
       "    </tr>\n",
       "    <tr>\n",
       "      <th>4</th>\n",
       "      <td>812080972854423552</td>\n",
       "      <td>Thu Dec 22 17:42:46 CST 2016</td>\n",
       "      <td>Dec-22-2016</td>\n",
       "      <td>NaifNaser34</td>\n",
       "      <td>اللهم لا سهل إلا ما جعلته سهلاً وأنت تجعل الحز...</td>\n",
       "      <td></td>\n",
       "      <td>114.627525</td>\n",
       "      <td>-3.351165</td>\n",
       "      <td>1531</td>\n",
       "      <td>1525</td>\n",
       "      <td>15797</td>\n",
       "      <td>368</td>\n",
       "      <td>ar</td>\n",
       "      <td>25397</td>\n",
       "    </tr>\n",
       "  </tbody>\n",
       "</table>\n",
       "</div>"
      ],
      "text/plain": [
       "              tweetID                          date         week  \\\n",
       "0  812080810010574848  Thu Dec 22 17:42:07 CST 2016  Dec-22-2016   \n",
       "1  812080849239810048  Thu Dec 22 17:42:16 CST 2016  Dec-22-2016   \n",
       "2  812080889463242752  Thu Dec 22 17:42:26 CST 2016  Dec-22-2016   \n",
       "3  812080932194840576  Thu Dec 22 17:42:36 CST 2016  Dec-22-2016   \n",
       "4  812080972854423552  Thu Dec 22 17:42:46 CST 2016  Dec-22-2016   \n",
       "\n",
       "         username                                            message retweet  \\\n",
       "0  althafallathif  @ourlifeisdakwah  ・・・ Lima Fase Peradaban Isla...           \n",
       "1        RJazz117  PrisonPlanetTV: RT PrisonPlanet: Muslim YouTub...           \n",
       "2   ReignsFreedom  RT : French Mayor Facing Charges For Saying 91...       1   \n",
       "3      ahmed99059     ربِّ أسألك خير ما في هذا اليوم وخير ما بعده ♻️           \n",
       "4     NaifNaser34  اللهم لا سهل إلا ما جعلته سهلاً وأنت تجعل الحز...           \n",
       "\n",
       "    longitude  latitude  followersCount  friendsCount joinDay  \\\n",
       "0  114.627525 -3.351165              14            38   17067   \n",
       "1  114.627525 -3.351165              79            53   14269   \n",
       "2  114.627525 -3.351165           23805         10312   15882   \n",
       "3  114.627525 -3.351165             205           374   15532   \n",
       "4  114.627525 -3.351165            1531          1525   15797   \n",
       "\n",
       "   favouritesCount language  statusesCount  \n",
       "0               13       id             77  \n",
       "1               10       en           6067  \n",
       "2            50383       en          53260  \n",
       "3               75       ar          11769  \n",
       "4              368       ar          25397  "
      ]
     },
     "execution_count": 3,
     "metadata": {},
     "output_type": "execute_result"
    }
   ],
   "source": [
    "# Populate database tables with queries\n",
    "tweets_df = pd.read_sql_query(\"select * from Raw;\", conn)\n",
    "tweets_df.head(2)"
   ]
  },
  {
   "cell_type": "code",
   "execution_count": 9,
   "metadata": {},
   "outputs": [
    {
     "ename": "KeyError",
     "evalue": "\"['userID'] not in index\"",
     "output_type": "error",
     "traceback": [
      "\u001b[1;31m---------------------------------------------------------------------------\u001b[0m",
      "\u001b[1;31mKeyError\u001b[0m                                  Traceback (most recent call last)",
      "\u001b[1;32m<ipython-input-9-d7217f502cfc>\u001b[0m in \u001b[0;36m<module>\u001b[1;34m()\u001b[0m\n\u001b[0;32m      1\u001b[0m \u001b[1;31m# create tables that reflect our schema\u001b[0m\u001b[1;33m\u001b[0m\u001b[1;33m\u001b[0m\u001b[0m\n\u001b[1;32m----> 2\u001b[1;33m \u001b[0musers\u001b[0m \u001b[1;33m=\u001b[0m \u001b[0mtweets_df\u001b[0m\u001b[1;33m[\u001b[0m\u001b[1;33m[\u001b[0m\u001b[1;34m'username'\u001b[0m\u001b[1;33m,\u001b[0m \u001b[1;34m'userID'\u001b[0m\u001b[1;33m,\u001b[0m \u001b[1;34m'tweetID'\u001b[0m\u001b[1;33m]\u001b[0m\u001b[1;33m]\u001b[0m\u001b[1;33m.\u001b[0m\u001b[0mset_index\u001b[0m\u001b[1;33m(\u001b[0m\u001b[1;34m'userID'\u001b[0m\u001b[1;33m)\u001b[0m\u001b[1;33m\u001b[0m\u001b[0m\n\u001b[0m",
      "\u001b[1;32mC:\\Users\\rlrson\\AppData\\Local\\conda\\conda\\envs\\gviz\\lib\\site-packages\\pandas\\core\\frame.py\u001b[0m in \u001b[0;36m__getitem__\u001b[1;34m(self, key)\u001b[0m\n\u001b[0;32m   2054\u001b[0m         \u001b[1;32mif\u001b[0m \u001b[0misinstance\u001b[0m\u001b[1;33m(\u001b[0m\u001b[0mkey\u001b[0m\u001b[1;33m,\u001b[0m \u001b[1;33m(\u001b[0m\u001b[0mSeries\u001b[0m\u001b[1;33m,\u001b[0m \u001b[0mnp\u001b[0m\u001b[1;33m.\u001b[0m\u001b[0mndarray\u001b[0m\u001b[1;33m,\u001b[0m \u001b[0mIndex\u001b[0m\u001b[1;33m,\u001b[0m \u001b[0mlist\u001b[0m\u001b[1;33m)\u001b[0m\u001b[1;33m)\u001b[0m\u001b[1;33m:\u001b[0m\u001b[1;33m\u001b[0m\u001b[0m\n\u001b[0;32m   2055\u001b[0m             \u001b[1;31m# either boolean or fancy integer index\u001b[0m\u001b[1;33m\u001b[0m\u001b[1;33m\u001b[0m\u001b[0m\n\u001b[1;32m-> 2056\u001b[1;33m             \u001b[1;32mreturn\u001b[0m \u001b[0mself\u001b[0m\u001b[1;33m.\u001b[0m\u001b[0m_getitem_array\u001b[0m\u001b[1;33m(\u001b[0m\u001b[0mkey\u001b[0m\u001b[1;33m)\u001b[0m\u001b[1;33m\u001b[0m\u001b[0m\n\u001b[0m\u001b[0;32m   2057\u001b[0m         \u001b[1;32melif\u001b[0m \u001b[0misinstance\u001b[0m\u001b[1;33m(\u001b[0m\u001b[0mkey\u001b[0m\u001b[1;33m,\u001b[0m \u001b[0mDataFrame\u001b[0m\u001b[1;33m)\u001b[0m\u001b[1;33m:\u001b[0m\u001b[1;33m\u001b[0m\u001b[0m\n\u001b[0;32m   2058\u001b[0m             \u001b[1;32mreturn\u001b[0m \u001b[0mself\u001b[0m\u001b[1;33m.\u001b[0m\u001b[0m_getitem_frame\u001b[0m\u001b[1;33m(\u001b[0m\u001b[0mkey\u001b[0m\u001b[1;33m)\u001b[0m\u001b[1;33m\u001b[0m\u001b[0m\n",
      "\u001b[1;32mC:\\Users\\rlrson\\AppData\\Local\\conda\\conda\\envs\\gviz\\lib\\site-packages\\pandas\\core\\frame.py\u001b[0m in \u001b[0;36m_getitem_array\u001b[1;34m(self, key)\u001b[0m\n\u001b[0;32m   2098\u001b[0m             \u001b[1;32mreturn\u001b[0m \u001b[0mself\u001b[0m\u001b[1;33m.\u001b[0m\u001b[0mtake\u001b[0m\u001b[1;33m(\u001b[0m\u001b[0mindexer\u001b[0m\u001b[1;33m,\u001b[0m \u001b[0maxis\u001b[0m\u001b[1;33m=\u001b[0m\u001b[1;36m0\u001b[0m\u001b[1;33m,\u001b[0m \u001b[0mconvert\u001b[0m\u001b[1;33m=\u001b[0m\u001b[1;32mFalse\u001b[0m\u001b[1;33m)\u001b[0m\u001b[1;33m\u001b[0m\u001b[0m\n\u001b[0;32m   2099\u001b[0m         \u001b[1;32melse\u001b[0m\u001b[1;33m:\u001b[0m\u001b[1;33m\u001b[0m\u001b[0m\n\u001b[1;32m-> 2100\u001b[1;33m             \u001b[0mindexer\u001b[0m \u001b[1;33m=\u001b[0m \u001b[0mself\u001b[0m\u001b[1;33m.\u001b[0m\u001b[0mloc\u001b[0m\u001b[1;33m.\u001b[0m\u001b[0m_convert_to_indexer\u001b[0m\u001b[1;33m(\u001b[0m\u001b[0mkey\u001b[0m\u001b[1;33m,\u001b[0m \u001b[0maxis\u001b[0m\u001b[1;33m=\u001b[0m\u001b[1;36m1\u001b[0m\u001b[1;33m)\u001b[0m\u001b[1;33m\u001b[0m\u001b[0m\n\u001b[0m\u001b[0;32m   2101\u001b[0m             \u001b[1;32mreturn\u001b[0m \u001b[0mself\u001b[0m\u001b[1;33m.\u001b[0m\u001b[0mtake\u001b[0m\u001b[1;33m(\u001b[0m\u001b[0mindexer\u001b[0m\u001b[1;33m,\u001b[0m \u001b[0maxis\u001b[0m\u001b[1;33m=\u001b[0m\u001b[1;36m1\u001b[0m\u001b[1;33m,\u001b[0m \u001b[0mconvert\u001b[0m\u001b[1;33m=\u001b[0m\u001b[1;32mTrue\u001b[0m\u001b[1;33m)\u001b[0m\u001b[1;33m\u001b[0m\u001b[0m\n\u001b[0;32m   2102\u001b[0m \u001b[1;33m\u001b[0m\u001b[0m\n",
      "\u001b[1;32mC:\\Users\\rlrson\\AppData\\Local\\conda\\conda\\envs\\gviz\\lib\\site-packages\\pandas\\core\\indexing.py\u001b[0m in \u001b[0;36m_convert_to_indexer\u001b[1;34m(self, obj, axis, is_setter)\u001b[0m\n\u001b[0;32m   1229\u001b[0m                 \u001b[0mmask\u001b[0m \u001b[1;33m=\u001b[0m \u001b[0mcheck\u001b[0m \u001b[1;33m==\u001b[0m \u001b[1;33m-\u001b[0m\u001b[1;36m1\u001b[0m\u001b[1;33m\u001b[0m\u001b[0m\n\u001b[0;32m   1230\u001b[0m                 \u001b[1;32mif\u001b[0m \u001b[0mmask\u001b[0m\u001b[1;33m.\u001b[0m\u001b[0many\u001b[0m\u001b[1;33m(\u001b[0m\u001b[1;33m)\u001b[0m\u001b[1;33m:\u001b[0m\u001b[1;33m\u001b[0m\u001b[0m\n\u001b[1;32m-> 1231\u001b[1;33m                     \u001b[1;32mraise\u001b[0m \u001b[0mKeyError\u001b[0m\u001b[1;33m(\u001b[0m\u001b[1;34m'%s not in index'\u001b[0m \u001b[1;33m%\u001b[0m \u001b[0mobjarr\u001b[0m\u001b[1;33m[\u001b[0m\u001b[0mmask\u001b[0m\u001b[1;33m]\u001b[0m\u001b[1;33m)\u001b[0m\u001b[1;33m\u001b[0m\u001b[0m\n\u001b[0m\u001b[0;32m   1232\u001b[0m \u001b[1;33m\u001b[0m\u001b[0m\n\u001b[0;32m   1233\u001b[0m                 \u001b[1;32mreturn\u001b[0m \u001b[0m_values_from_object\u001b[0m\u001b[1;33m(\u001b[0m\u001b[0mindexer\u001b[0m\u001b[1;33m)\u001b[0m\u001b[1;33m\u001b[0m\u001b[0m\n",
      "\u001b[1;31mKeyError\u001b[0m: \"['userID'] not in index\""
     ]
    }
   ],
   "source": [
    "# create tables that reflect our schema\n",
    "users = tweets_df[['username', 'tweetID']].set_index('userID')"
   ]
  },
  {
   "cell_type": "code",
   "execution_count": null,
   "metadata": {
    "collapsed": true
   },
   "outputs": [],
   "source": []
  },
  {
   "cell_type": "code",
   "execution_count": null,
   "metadata": {
    "collapsed": true
   },
   "outputs": [],
   "source": []
  },
  {
   "cell_type": "code",
   "execution_count": null,
   "metadata": {
    "collapsed": true
   },
   "outputs": [],
   "source": []
  },
  {
   "cell_type": "code",
   "execution_count": 10,
   "metadata": {
    "collapsed": true
   },
   "outputs": [],
   "source": [
    "conn.close()"
   ]
  },
  {
   "cell_type": "code",
   "execution_count": null,
   "metadata": {
    "collapsed": true
   },
   "outputs": [],
   "source": []
  }
 ],
 "metadata": {
  "kernelspec": {
   "display_name": "Python 3",
   "language": "python",
   "name": "python3"
  }
 },
 "nbformat": 4,
 "nbformat_minor": 2
}
