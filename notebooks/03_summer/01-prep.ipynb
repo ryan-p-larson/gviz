{
 "cells": [
  {
   "cell_type": "markdown",
   "metadata": {},
   "source": [
    "# Charts Cartogram work"
   ]
  },
  {
   "cell_type": "code",
   "execution_count": 1,
   "metadata": {
    "collapsed": true
   },
   "outputs": [],
   "source": [
    "import pandas as pd"
   ]
  },
  {
   "cell_type": "code",
   "execution_count": 3,
   "metadata": {
    "collapsed": true
   },
   "outputs": [],
   "source": [
    "# tile layouts from http://code.minnpost.com/aranger/\n",
    "orig = [[2,0,\"AK\"],[12,0,\"ME\"],[7,1,\"WI\"],[11,1,\"VT\"],[12,1,\"NH\"],[2,2,\"WA\"],[3,2,\"ID\"],[4,2,\"MT\"],\n",
    "        [5,2,\"ND\"],[6,2,\"MN\"],[7,2,\"IL\"],[8,2,\"MI\"],[10,2,\"NY\"],[11,2,\"MA\"],[2,3,\"OR\"],[3,3,\"NV\"],\n",
    "        [4,3,\"WY\"],[5,3,\"SD\"],[6,3,\"IA\"],[7,3,\"IN\"],[8,3,\"OH\"],[9,3,\"PA\"],[10,3,\"NJ\"],[11,3,\"CT\"],\n",
    "        [12,3,\"RI\"],[2,4,\"CA\"],[3,4,\"UT\"],[4,4,\"CO\"],[5,4,\"NE\"],[6,4,\"MO\"],[7,4,\"KY\"],[8,4,\"WV\"],\n",
    "        [9,4,\"VA\"],[10,4,\"MD\"],[11,4,\"DE\"],[3,5,\"AZ\"],[4,5,\"NM\"],[5,5,\"KS\"],[6,5,\"AR\"],[7,5,\"TN\"],\n",
    "        [8,5,\"NC\"],[9,5,\"SC\"],[10,5,\"DC\"],[5,6,\"OK\"],[6,6,\"LA\"],[7,6,\"MS\"],[8,6,\"AL\"],[9,6,\"GA\"],\n",
    "        [2,7,\"HI\"],[5,7,\"TX\"],[10,7,\"FL\"]]\n",
    "\n",
    "def move_tile(tile, x, y):\n",
    "    tile[0] = tile[0] + x\n",
    "    tile[1] = tile[1] + y\n",
    "    return tile"
   ]
  },
  {
   "cell_type": "code",
   "execution_count": 4,
   "metadata": {
    "collapsed": true
   },
   "outputs": [],
   "source": [
    "# 960x500, 12 worked for best height.\n",
    "# >> 500:12 :: 960:23\n",
    "\n",
    "# adjust with respect to above\n",
    "modified = [move_tile(x, 4, 2) for x in orig]"
   ]
  },
  {
   "cell_type": "code",
   "execution_count": 6,
   "metadata": {},
   "outputs": [],
   "source": [
    "pd.DataFrame(modified).to_csv('data/processed/web/state-tiles.csv', index=False, header=['x', 'y', 'state'])"
   ]
  },
  {
   "cell_type": "code",
   "execution_count": null,
   "metadata": {
    "collapsed": true
   },
   "outputs": [],
   "source": []
  }
 ],
 "metadata": {
  "kernelspec": {
   "display_name": "Python 3",
   "language": "python",
   "name": "python3"
  },
  "language_info": {
   "codemirror_mode": {
    "name": "ipython",
    "version": 3
   },
   "file_extension": ".py",
   "mimetype": "text/x-python",
   "name": "python",
   "nbconvert_exporter": "python",
   "pygments_lexer": "ipython3",
   "version": "3.6.1"
  }
 },
 "nbformat": 4,
 "nbformat_minor": 2
}
