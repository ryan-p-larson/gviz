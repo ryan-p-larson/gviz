{
 "cells": [
  {
   "cell_type": "markdown",
   "metadata": {},
   "source": [
    "# Work\n",
    "\n",
    "All of the work for the geoviz paper."
   ]
  },
  {
   "cell_type": "code",
   "execution_count": 3,
   "metadata": {
    "collapsed": true
   },
   "outputs": [],
   "source": [
    "import pandas as pd\n",
    "%run utilities.py"
   ]
  },
  {
   "cell_type": "markdown",
   "metadata": {},
   "source": [
    "### Charts Cartogram work"
   ]
  },
  {
   "cell_type": "code",
   "execution_count": 3,
   "metadata": {
    "collapsed": true
   },
   "outputs": [],
   "source": [
    "# tile layouts from http://code.minnpost.com/aranger/\n",
    "orig = [[2,0,\"AK\"],[12,0,\"ME\"],[7,1,\"WI\"],[11,1,\"VT\"],[12,1,\"NH\"],[2,2,\"WA\"],[3,2,\"ID\"],[4,2,\"MT\"],\n",
    "        [5,2,\"ND\"],[6,2,\"MN\"],[7,2,\"IL\"],[8,2,\"MI\"],[10,2,\"NY\"],[11,2,\"MA\"],[2,3,\"OR\"],[3,3,\"NV\"],\n",
    "        [4,3,\"WY\"],[5,3,\"SD\"],[6,3,\"IA\"],[7,3,\"IN\"],[8,3,\"OH\"],[9,3,\"PA\"],[10,3,\"NJ\"],[11,3,\"CT\"],\n",
    "        [12,3,\"RI\"],[2,4,\"CA\"],[3,4,\"UT\"],[4,4,\"CO\"],[5,4,\"NE\"],[6,4,\"MO\"],[7,4,\"KY\"],[8,4,\"WV\"],\n",
    "        [9,4,\"VA\"],[10,4,\"MD\"],[11,4,\"DE\"],[3,5,\"AZ\"],[4,5,\"NM\"],[5,5,\"KS\"],[6,5,\"AR\"],[7,5,\"TN\"],\n",
    "        [8,5,\"NC\"],[9,5,\"SC\"],[10,5,\"DC\"],[5,6,\"OK\"],[6,6,\"LA\"],[7,6,\"MS\"],[8,6,\"AL\"],[9,6,\"GA\"],\n",
    "        [2,7,\"HI\"],[5,7,\"TX\"],[10,7,\"FL\"]]\n",
    "\n",
    "def move_tile(tile, x, y):\n",
    "    tile[0] = tile[0] + x\n",
    "    tile[1] = tile[1] + y\n",
    "    return tile"
   ]
  },
  {
   "cell_type": "code",
   "execution_count": 4,
   "metadata": {
    "collapsed": true
   },
   "outputs": [],
   "source": [
    "# 960x500, 12 worked for best height.\n",
    "# >> 500:12 :: 960:23\n",
    "\n",
    "# adjust with respect to above\n",
    "modified = [move_tile(x, 4, 2) for x in orig]"
   ]
  },
  {
   "cell_type": "code",
   "execution_count": 6,
   "metadata": {
    "collapsed": true
   },
   "outputs": [],
   "source": [
    "pd.DataFrame(modified).to_csv('data/processed/web/state-tiles.csv', index=False, header=['x', 'y', 'state'])"
   ]
  },
  {
   "cell_type": "code",
   "execution_count": 2,
   "metadata": {},
   "outputs": [
    {
     "name": "stdout",
     "output_type": "stream",
     "text": [
      " accounts.csv\r\n",
      "'Conover_et_al_2011_Political polarization on twitter.pdf'\r\n",
      "'Conover_et_al_2012_Partisan asymmetries in online political activity.pdf'\r\n",
      " top10000_mostmentioned_alltimes.csv\r\n",
      " top10000_mostmentioned_dayafter.csv\r\n",
      " top10000_mostmentioned_daybefore.csv\r\n",
      " top10000_mostmentioned_monthafter.csv\r\n",
      " top10000_mostmentioned_monthbefore.csv\r\n",
      " top10000_mostmentioned_weekafter.csv\r\n",
      " top10000_mostmentioned_weekbefore.csv\r\n",
      " top10000_mostretweeted_alltimes.csv\r\n",
      " top10000_mostretweeted_dayafter.csv\r\n",
      " top10000_mostretweeted_daybefore.csv\r\n",
      " top10000_mostretweeted_monthafter.csv\r\n",
      " top10000_mostretweeted_monthbefore.csv\r\n",
      " top10000_mostretweeted_weekafter.csv\r\n",
      " top10000_mostretweeted_weekbefore.csv\r\n",
      " top100_with_categories.csv\r\n",
      " trumptweets.csv\r\n",
      " tweetstop100bryce.csv\r\n",
      " tweets_top100opinionleaders.csv\r\n"
     ]
    }
   ],
   "source": [
    "%ls ../../data/external/caglar/"
   ]
  },
  {
   "cell_type": "markdown",
   "metadata": {
    "collapsed": true
   },
   "source": [
    "### Scatter Plot\n",
    "\n",
    "Merging the top retweeted tweets with their author's categories."
   ]
  },
  {
   "cell_type": "code",
   "execution_count": 52,
   "metadata": {},
   "outputs": [],
   "source": [
    "tweets = name_file_path('caglar/tweets_top100opinionleaders.csv', external_data_dir)\n",
    "cats = name_file_path('caglar/top100_with_categories.csv', external_data_dir)\n",
    "\n",
    "tweets_df = pd.read_csv(tweets)\n",
    "cats_df = pd.read_csv(cats)"
   ]
  },
  {
   "cell_type": "code",
   "execution_count": 53,
   "metadata": {},
   "outputs": [
    {
     "data": {
      "text/html": [
       "<div>\n",
       "<table border=\"1\" class=\"dataframe\">\n",
       "  <thead>\n",
       "    <tr style=\"text-align: right;\">\n",
       "      <th></th>\n",
       "      <th>min</th>\n",
       "      <th>tweet</th>\n",
       "      <th>count</th>\n",
       "      <th>min.1</th>\n",
       "    </tr>\n",
       "  </thead>\n",
       "  <tbody>\n",
       "    <tr>\n",
       "      <th>4008</th>\n",
       "      <td>USARedOrchestra</td>\n",
       "      <td>RT : No Muslim Syrian refugee has killed a sin...</td>\n",
       "      <td>29023</td>\n",
       "      <td>2017-01-27</td>\n",
       "    </tr>\n",
       "    <tr>\n",
       "      <th>6324</th>\n",
       "      <td>CleverTitleTK</td>\n",
       "      <td>RT : Repeat: Senator Schumer's great-grandmoth...</td>\n",
       "      <td>22055</td>\n",
       "      <td>2017-01-30</td>\n",
       "    </tr>\n",
       "  </tbody>\n",
       "</table>\n",
       "</div>"
      ],
      "text/plain": [
       "                  min                                              tweet  \\\n",
       "4008  USARedOrchestra  RT : No Muslim Syrian refugee has killed a sin...   \n",
       "6324    CleverTitleTK  RT : Repeat: Senator Schumer's great-grandmoth...   \n",
       "\n",
       "      count       min.1  \n",
       "4008  29023  2017-01-27  \n",
       "6324  22055  2017-01-30  "
      ]
     },
     "execution_count": 53,
     "metadata": {},
     "output_type": "execute_result"
    }
   ],
   "source": [
    "tweets_df.sort_values(by='count', ascending=False).head(2)"
   ]
  },
  {
   "cell_type": "code",
   "execution_count": 54,
   "metadata": {},
   "outputs": [
    {
     "data": {
      "text/html": [
       "<div>\n",
       "<table border=\"1\" class=\"dataframe\">\n",
       "  <thead>\n",
       "    <tr style=\"text-align: right;\">\n",
       "      <th></th>\n",
       "      <th>fromuser</th>\n",
       "      <th>count</th>\n",
       "      <th>category</th>\n",
       "    </tr>\n",
       "  </thead>\n",
       "  <tbody>\n",
       "    <tr>\n",
       "      <th>0</th>\n",
       "      <td>JimAxelrod</td>\n",
       "      <td>11174</td>\n",
       "      <td>journalist</td>\n",
       "    </tr>\n",
       "    <tr>\n",
       "      <th>1</th>\n",
       "      <td>netanyahu</td>\n",
       "      <td>10451</td>\n",
       "      <td>politician</td>\n",
       "    </tr>\n",
       "  </tbody>\n",
       "</table>\n",
       "</div>"
      ],
      "text/plain": [
       "     fromuser  count    category\n",
       "0  JimAxelrod  11174  journalist\n",
       "1   netanyahu  10451  politician"
      ]
     },
     "execution_count": 54,
     "metadata": {},
     "output_type": "execute_result"
    }
   ],
   "source": [
    "tweets_df.columns = ['user', 'message', 'count', 'date']\n",
    "cats_df.head(2)"
   ]
  },
  {
   "cell_type": "code",
   "execution_count": 56,
   "metadata": {},
   "outputs": [],
   "source": [
    "cats_df = cats_df[['fromuser', 'category']]\n",
    "cats_df.columns = ['user', 'category']"
   ]
  },
  {
   "cell_type": "code",
   "execution_count": 124,
   "metadata": {},
   "outputs": [
    {
     "data": {
      "text/html": [
       "<div>\n",
       "<table border=\"1\" class=\"dataframe\">\n",
       "  <thead>\n",
       "    <tr style=\"text-align: right;\">\n",
       "      <th></th>\n",
       "      <th>user</th>\n",
       "      <th>message</th>\n",
       "      <th>count</th>\n",
       "      <th>date</th>\n",
       "      <th>category</th>\n",
       "    </tr>\n",
       "  </thead>\n",
       "  <tbody>\n",
       "    <tr>\n",
       "      <th>0</th>\n",
       "      <td>Sia</td>\n",
       "      <td>RT : Trying to give  a taste of life as a quee...</td>\n",
       "      <td>2</td>\n",
       "      <td>2017-01-01</td>\n",
       "      <td>celebrity</td>\n",
       "    </tr>\n",
       "    <tr>\n",
       "      <th>1</th>\n",
       "      <td>Sia</td>\n",
       "      <td>RT : help our queer &amp; immigrant friends. send ...</td>\n",
       "      <td>9338</td>\n",
       "      <td>2017-01-28</td>\n",
       "      <td>celebrity</td>\n",
       "    </tr>\n",
       "  </tbody>\n",
       "</table>\n",
       "</div>"
      ],
      "text/plain": [
       "  user                                            message  count        date  \\\n",
       "0  Sia  RT : Trying to give  a taste of life as a quee...      2  2017-01-01   \n",
       "1  Sia  RT : help our queer & immigrant friends. send ...   9338  2017-01-28   \n",
       "\n",
       "    category  \n",
       "0  celebrity  \n",
       "1  celebrity  "
      ]
     },
     "execution_count": 124,
     "metadata": {},
     "output_type": "execute_result"
    }
   ],
   "source": [
    "scatter_df = pd.merge(tweets_df, cats_df, left_on='user', right_on='user')\n",
    "scatter_df.head(2)"
   ]
  },
  {
   "cell_type": "code",
   "execution_count": 125,
   "metadata": {},
   "outputs": [],
   "source": [
    "scatter_df.set_index('user').to_csv('test.csv')"
   ]
  },
  {
   "cell_type": "code",
   "execution_count": null,
   "metadata": {
    "collapsed": true
   },
   "outputs": [],
   "source": []
  }
 ],
 "metadata": {
  "kernelspec": {
   "display_name": "Python 3",
   "language": "python",
   "name": "python3"
  },
  "language_info": {
   "codemirror_mode": {
    "name": "ipython",
    "version": 3
   },
   "file_extension": ".py",
   "mimetype": "text/x-python",
   "name": "python",
   "nbconvert_exporter": "python",
   "pygments_lexer": "ipython3",
   "version": "3.6.1"
  }
 },
 "nbformat": 4,
 "nbformat_minor": 2
}
