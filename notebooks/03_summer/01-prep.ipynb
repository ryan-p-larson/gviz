{
 "cells": [
  {
   "cell_type": "markdown",
   "metadata": {
    "deletable": true,
    "editable": true
   },
   "source": [
    "# Work\n",
    "\n",
    "All of the work for the geoviz paper."
   ]
  },
  {
   "cell_type": "code",
   "execution_count": 1,
   "metadata": {
    "collapsed": true,
    "deletable": true,
    "editable": true
   },
   "outputs": [],
   "source": [
    "import pandas as pd\n",
    "%run utilities.py"
   ]
  },
  {
   "cell_type": "markdown",
   "metadata": {
    "deletable": true,
    "editable": true
   },
   "source": [
    "### Charts Cartogram work"
   ]
  },
  {
   "cell_type": "code",
   "execution_count": 3,
   "metadata": {
    "collapsed": true,
    "deletable": true,
    "editable": true
   },
   "outputs": [],
   "source": [
    "# tile layouts from http://code.minnpost.com/aranger/\n",
    "orig = [[2,0,\"AK\"],[12,0,\"ME\"],[7,1,\"WI\"],[11,1,\"VT\"],[12,1,\"NH\"],[2,2,\"WA\"],[3,2,\"ID\"],[4,2,\"MT\"],\n",
    "        [5,2,\"ND\"],[6,2,\"MN\"],[7,2,\"IL\"],[8,2,\"MI\"],[10,2,\"NY\"],[11,2,\"MA\"],[2,3,\"OR\"],[3,3,\"NV\"],\n",
    "        [4,3,\"WY\"],[5,3,\"SD\"],[6,3,\"IA\"],[7,3,\"IN\"],[8,3,\"OH\"],[9,3,\"PA\"],[10,3,\"NJ\"],[11,3,\"CT\"],\n",
    "        [12,3,\"RI\"],[2,4,\"CA\"],[3,4,\"UT\"],[4,4,\"CO\"],[5,4,\"NE\"],[6,4,\"MO\"],[7,4,\"KY\"],[8,4,\"WV\"],\n",
    "        [9,4,\"VA\"],[10,4,\"MD\"],[11,4,\"DE\"],[3,5,\"AZ\"],[4,5,\"NM\"],[5,5,\"KS\"],[6,5,\"AR\"],[7,5,\"TN\"],\n",
    "        [8,5,\"NC\"],[9,5,\"SC\"],[10,5,\"DC\"],[5,6,\"OK\"],[6,6,\"LA\"],[7,6,\"MS\"],[8,6,\"AL\"],[9,6,\"GA\"],\n",
    "        [2,7,\"HI\"],[5,7,\"TX\"],[10,7,\"FL\"]]\n",
    "\n",
    "def move_tile(tile, x, y):\n",
    "    tile[0] = tile[0] + x\n",
    "    tile[1] = tile[1] + y\n",
    "    return tile"
   ]
  },
  {
   "cell_type": "code",
   "execution_count": 4,
   "metadata": {
    "collapsed": true,
    "deletable": true,
    "editable": true
   },
   "outputs": [],
   "source": [
    "# 960x500, 12 worked for best height.\n",
    "# >> 500:12 :: 960:23\n",
    "\n",
    "# adjust with respect to above\n",
    "modified = [move_tile(x, 4, 2) for x in orig]"
   ]
  },
  {
   "cell_type": "code",
   "execution_count": 6,
   "metadata": {
    "collapsed": true,
    "deletable": true,
    "editable": true
   },
   "outputs": [],
   "source": [
    "pd.DataFrame(modified).to_csv('data/processed/web/state-tiles.csv', index=False, header=['x', 'y', 'state'])"
   ]
  },
  {
   "cell_type": "code",
   "execution_count": 3,
   "metadata": {
    "collapsed": false,
    "deletable": true,
    "editable": true
   },
   "outputs": [
    {
     "name": "stdout",
     "output_type": "stream",
     "text": [
      " Volume in drive H is rlrson\n",
      " Volume Serial Number is 8000-0458\n",
      "\n",
      " Directory of H:\\Develop\\gviz.new\\data\\external\\caglar\n",
      "\n",
      "05/30/2017  04:41 PM    <DIR>          .\n",
      "05/26/2017  12:27 PM    <DIR>          ..\n",
      "05/26/2017  10:34 AM           163,450 accounts.csv\n",
      "05/26/2017  03:33 PM         2,819,494 Conover_et_al_2011_Political polarization on twitter.pdf\n",
      "05/26/2017  03:33 PM         3,061,254 Conover_et_al_2012_Partisan asymmetries in online political activity.pdf\n",
      "05/30/2017  10:47 AM    <DIR>          maps\n",
      "05/28/2017  02:22 PM             4,810 numberofuserspercounty.csv\n",
      "05/28/2017  06:04 PM            52,882 retweetslatlon.csv\n",
      "05/30/2017  10:47 AM    <DIR>          sql\n",
      "05/30/2017  04:28 PM             2,715 top100_with_categories.csv\n",
      "05/25/2017  09:49 PM           181,015 top10000_mostmentioned_alltimes.csv\n",
      "05/26/2017  03:32 PM           173,123 top10000_mostmentioned_dayafter.csv\n",
      "05/26/2017  03:31 PM           170,050 top10000_mostmentioned_daybefore.csv\n",
      "05/26/2017  03:28 PM           181,790 top10000_mostmentioned_monthafter.csv\n",
      "05/26/2017  03:19 PM           180,455 top10000_mostmentioned_monthbefore.csv\n",
      "05/26/2017  03:31 PM           180,005 top10000_mostmentioned_weekafter.csv\n",
      "05/26/2017  03:29 PM           173,876 top10000_mostmentioned_weekbefore.csv\n",
      "05/25/2017  09:53 PM           188,360 top10000_mostretweeted_alltimes.csv\n",
      "05/26/2017  03:18 PM           177,935 top10000_mostretweeted_dayafter.csv\n",
      "05/26/2017  03:17 PM           170,816 top10000_mostretweeted_daybefore.csv\n",
      "05/26/2017  03:16 PM           187,116 top10000_mostretweeted_monthafter.csv\n",
      "05/26/2017  03:14 PM           180,528 top10000_mostretweeted_monthbefore.csv\n",
      "05/26/2017  03:17 PM           183,548 top10000_mostretweeted_weekafter.csv\n",
      "05/26/2017  03:17 PM           175,709 top10000_mostretweeted_weekbefore.csv\n",
      "05/26/2017  09:34 PM            17,666 trumptweets.csv\n",
      "05/30/2017  10:45 AM         2,013,575 tweets_top100opinionleaders.csv\n",
      "05/30/2017  03:22 PM           183,046 tweetstop100bryce.csv\n",
      "              23 File(s)     10,823,218 bytes\n",
      "               4 Dir(s)  13,716,373,504 bytes free\n"
     ]
    }
   ],
   "source": [
    "%ls ..\\..\\data\\external\\caglar\\"
   ]
  },
  {
   "cell_type": "markdown",
   "metadata": {
    "collapsed": true,
    "deletable": true,
    "editable": true
   },
   "source": [
    "### Scatter Plot\n",
    "\n",
    "Merging the top retweeted tweets with their author's categories."
   ]
  },
  {
   "cell_type": "code",
   "execution_count": 4,
   "metadata": {
    "collapsed": true,
    "deletable": true,
    "editable": true
   },
   "outputs": [],
   "source": [
    "tweets = name_file_path('caglar/tweets_top100opinionleaders.csv', external_data_dir)\n",
    "cats = name_file_path('caglar/top100_with_categories.csv', external_data_dir)\n",
    "\n",
    "tweets_df = pd.read_csv(tweets)\n",
    "cats_df = pd.read_csv(cats)"
   ]
  },
  {
   "cell_type": "code",
   "execution_count": 5,
   "metadata": {
    "collapsed": false,
    "deletable": true,
    "editable": true
   },
   "outputs": [
    {
     "data": {
      "text/html": [
       "<div>\n",
       "<style>\n",
       "    .dataframe thead tr:only-child th {\n",
       "        text-align: right;\n",
       "    }\n",
       "\n",
       "    .dataframe thead th {\n",
       "        text-align: left;\n",
       "    }\n",
       "\n",
       "    .dataframe tbody tr th {\n",
       "        vertical-align: top;\n",
       "    }\n",
       "</style>\n",
       "<table border=\"1\" class=\"dataframe\">\n",
       "  <thead>\n",
       "    <tr style=\"text-align: right;\">\n",
       "      <th></th>\n",
       "      <th>min</th>\n",
       "      <th>tweet</th>\n",
       "      <th>count</th>\n",
       "      <th>min.1</th>\n",
       "    </tr>\n",
       "  </thead>\n",
       "  <tbody>\n",
       "    <tr>\n",
       "      <th>4008</th>\n",
       "      <td>USARedOrchestra</td>\n",
       "      <td>RT : No Muslim Syrian refugee has killed a sin...</td>\n",
       "      <td>29023</td>\n",
       "      <td>2017-01-27</td>\n",
       "    </tr>\n",
       "    <tr>\n",
       "      <th>6324</th>\n",
       "      <td>CleverTitleTK</td>\n",
       "      <td>RT : Repeat: Senator Schumer's great-grandmoth...</td>\n",
       "      <td>22055</td>\n",
       "      <td>2017-01-30</td>\n",
       "    </tr>\n",
       "  </tbody>\n",
       "</table>\n",
       "</div>"
      ],
      "text/plain": [
       "                  min                                              tweet  \\\n",
       "4008  USARedOrchestra  RT : No Muslim Syrian refugee has killed a sin...   \n",
       "6324    CleverTitleTK  RT : Repeat: Senator Schumer's great-grandmoth...   \n",
       "\n",
       "      count       min.1  \n",
       "4008  29023  2017-01-27  \n",
       "6324  22055  2017-01-30  "
      ]
     },
     "execution_count": 5,
     "metadata": {},
     "output_type": "execute_result"
    }
   ],
   "source": [
    "tweets_df.sort_values(by='count', ascending=False).head(2)"
   ]
  },
  {
   "cell_type": "code",
   "execution_count": 6,
   "metadata": {
    "collapsed": false,
    "deletable": true,
    "editable": true
   },
   "outputs": [
    {
     "data": {
      "text/html": [
       "<div>\n",
       "<style>\n",
       "    .dataframe thead tr:only-child th {\n",
       "        text-align: right;\n",
       "    }\n",
       "\n",
       "    .dataframe thead th {\n",
       "        text-align: left;\n",
       "    }\n",
       "\n",
       "    .dataframe tbody tr th {\n",
       "        vertical-align: top;\n",
       "    }\n",
       "</style>\n",
       "<table border=\"1\" class=\"dataframe\">\n",
       "  <thead>\n",
       "    <tr style=\"text-align: right;\">\n",
       "      <th></th>\n",
       "      <th>fromuser</th>\n",
       "      <th>count</th>\n",
       "      <th>category</th>\n",
       "    </tr>\n",
       "  </thead>\n",
       "  <tbody>\n",
       "    <tr>\n",
       "      <th>0</th>\n",
       "      <td>JimAxelrod</td>\n",
       "      <td>11174</td>\n",
       "      <td>journalist</td>\n",
       "    </tr>\n",
       "    <tr>\n",
       "      <th>1</th>\n",
       "      <td>netanyahu</td>\n",
       "      <td>10451</td>\n",
       "      <td>politician</td>\n",
       "    </tr>\n",
       "  </tbody>\n",
       "</table>\n",
       "</div>"
      ],
      "text/plain": [
       "     fromuser  count    category\n",
       "0  JimAxelrod  11174  journalist\n",
       "1   netanyahu  10451  politician"
      ]
     },
     "execution_count": 6,
     "metadata": {},
     "output_type": "execute_result"
    }
   ],
   "source": [
    "tweets_df.columns = ['user', 'message', 'count', 'date']\n",
    "cats_df.head(2)"
   ]
  },
  {
   "cell_type": "code",
   "execution_count": 7,
   "metadata": {
    "collapsed": true,
    "deletable": true,
    "editable": true
   },
   "outputs": [],
   "source": [
    "cats_df = cats_df[['fromuser', 'category']]\n",
    "cats_df.columns = ['user', 'category']"
   ]
  },
  {
   "cell_type": "code",
   "execution_count": 10,
   "metadata": {
    "collapsed": false,
    "deletable": true,
    "editable": true
   },
   "outputs": [
    {
     "data": {
      "text/html": [
       "<div>\n",
       "<style>\n",
       "    .dataframe thead tr:only-child th {\n",
       "        text-align: right;\n",
       "    }\n",
       "\n",
       "    .dataframe thead th {\n",
       "        text-align: left;\n",
       "    }\n",
       "\n",
       "    .dataframe tbody tr th {\n",
       "        vertical-align: top;\n",
       "    }\n",
       "</style>\n",
       "<table border=\"1\" class=\"dataframe\">\n",
       "  <thead>\n",
       "    <tr style=\"text-align: right;\">\n",
       "      <th></th>\n",
       "      <th>user</th>\n",
       "      <th>message</th>\n",
       "      <th>count</th>\n",
       "      <th>date</th>\n",
       "      <th>category</th>\n",
       "    </tr>\n",
       "  </thead>\n",
       "  <tbody>\n",
       "    <tr>\n",
       "      <th>0</th>\n",
       "      <td>ajplus</td>\n",
       "      <td>RT : After Pearl Harbor; Japanese-Americans we...</td>\n",
       "      <td>1</td>\n",
       "      <td>2016-12-22</td>\n",
       "      <td>NaN</td>\n",
       "    </tr>\n",
       "    <tr>\n",
       "      <th>1</th>\n",
       "      <td>FoxNews</td>\n",
       "      <td>RT : .: “We’ve prosecuted 580 people in Americ...</td>\n",
       "      <td>1</td>\n",
       "      <td>2016-12-22</td>\n",
       "      <td>NaN</td>\n",
       "    </tr>\n",
       "  </tbody>\n",
       "</table>\n",
       "</div>"
      ],
      "text/plain": [
       "      user                                            message  count  \\\n",
       "0   ajplus  RT : After Pearl Harbor; Japanese-Americans we...      1   \n",
       "1  FoxNews  RT : .: “We’ve prosecuted 580 people in Americ...      1   \n",
       "\n",
       "         date category  \n",
       "0  2016-12-22      NaN  \n",
       "1  2016-12-22      NaN  "
      ]
     },
     "execution_count": 10,
     "metadata": {},
     "output_type": "execute_result"
    }
   ],
   "source": [
    "scatter_df = pd.merge(tweets_df, cats_df, left_on='user', right_on='user', how='left')\n",
    "scatter_df.head(2)"
   ]
  },
  {
   "cell_type": "code",
   "execution_count": 33,
   "metadata": {
    "collapsed": false
   },
   "outputs": [
    {
     "name": "stderr",
     "output_type": "stream",
     "text": [
      "C:\\Anaconda3\\envs\\gviz\\lib\\site-packages\\pandas\\core\\frame.py:891: UserWarning: DataFrame columns are not unique, some columns will be omitted.\n",
      "  \"columns will be omitted.\", UserWarning)\n"
     ]
    }
   ],
   "source": [
    "user_indexed = scatter_df.set_index('user')\n",
    "users = scatter_df.user.unique().tolist()\n",
    "scatter_dict = {}\n",
    "\n",
    "for user in users:\n",
    "    scatter_dict[user] = test.loc[user].T.to_dict().values()"
   ]
  },
  {
   "cell_type": "code",
   "execution_count": 35,
   "metadata": {
    "collapsed": false
   },
   "outputs": [],
   "source": [
    "scatter_df.to_csv('../../test.csv', index=False)"
   ]
  },
  {
   "cell_type": "code",
   "execution_count": 12,
   "metadata": {
    "collapsed": false,
    "deletable": true,
    "editable": true
   },
   "outputs": [
    {
     "data": {
      "text/plain": [
       "398"
      ]
     },
     "execution_count": 12,
     "metadata": {},
     "output_type": "execute_result"
    }
   ],
   "source": [
    "# number of \n",
    "len(scatter_df[scatter_df.category.isnull() == False])"
   ]
  },
  {
   "cell_type": "code",
   "execution_count": null,
   "metadata": {
    "collapsed": true
   },
   "outputs": [],
   "source": []
  }
 ],
 "metadata": {
  "kernelspec": {
   "display_name": "Python 3",
   "language": "python",
   "name": "python3"
  },
  "language_info": {
   "codemirror_mode": {
    "name": "ipython",
    "version": 3
   },
   "file_extension": ".py",
   "mimetype": "text/x-python",
   "name": "python",
   "nbconvert_exporter": "python",
   "pygments_lexer": "ipython3",
   "version": "3.5.3"
  }
 },
 "nbformat": 4,
 "nbformat_minor": 2
}
