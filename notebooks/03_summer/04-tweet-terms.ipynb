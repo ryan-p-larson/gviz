{
 "cells": [
  {
   "cell_type": "markdown",
   "metadata": {},
   "source": [
    "# Tweet # Counts\n",
    "\n",
    "Time series, counts by week.\n",
    "\n",
    "\n",
    "#### Libraries + DB"
   ]
  },
  {
   "cell_type": "code",
   "execution_count": 1,
   "metadata": {},
   "outputs": [
    {
     "name": "stderr",
     "output_type": "stream",
     "text": [
      "ERROR:root:File `'../../src/secret_key.py'` not found.\n"
     ]
    }
   ],
   "source": [
    "%run utilities.py\n",
    "%run ../../src/secret_key.py\n",
    "\n",
    "import psycopg2 as pg\n",
    "import pandas.io.sql as psql\n",
    "\n",
    "from matplotlib import pyplot as plt\n",
    "%matplotlib inline"
   ]
  },
  {
   "cell_type": "code",
   "execution_count": 2,
   "metadata": {
    "collapsed": true
   },
   "outputs": [],
   "source": [
    "## get connected to the database\n",
    "#connection = pg.connect(\"dbname=mydatabase user=postgres\")\n",
    "#dataframe = psql.frame_query(\"SELECT id, price FROM stock_price\", connection)\n",
    "#conn = psycopg2.connect(\"dbname='template1' user='dbuser' host='localhost' password='dbpass'\")\n",
    "\n",
    "conn_str = \"dbname='immigration' user='rlrson' password={}\".format(pw)\n",
    "conn = pg.connect(conn_str)"
   ]
  },
  {
   "cell_type": "markdown",
   "metadata": {},
   "source": [
    "#### Time Periods\n",
    "\n",
    "Caglar has broken them down into before/after the 'epoch' date. Lets pull them in."
   ]
  },
  {
   "cell_type": "code",
   "execution_count": 3,
   "metadata": {},
   "outputs": [
    {
     "data": {
      "text/html": [
       "<div>\n",
       "<style>\n",
       "    .dataframe thead tr:only-child th {\n",
       "        text-align: right;\n",
       "    }\n",
       "\n",
       "    .dataframe thead th {\n",
       "        text-align: left;\n",
       "    }\n",
       "\n",
       "    .dataframe tbody tr th {\n",
       "        vertical-align: top;\n",
       "    }\n",
       "</style>\n",
       "<table border=\"1\" class=\"dataframe\">\n",
       "  <thead>\n",
       "    <tr style=\"text-align: right;\">\n",
       "      <th></th>\n",
       "      <th>id</th>\n",
       "      <th>startinterval</th>\n",
       "      <th>endinterval</th>\n",
       "    </tr>\n",
       "  </thead>\n",
       "  <tbody>\n",
       "    <tr>\n",
       "      <th>0</th>\n",
       "      <td>1</td>\n",
       "      <td>2016-12-27 10:00:00+00:00</td>\n",
       "      <td>2017-01-27 10:00:00+00:00</td>\n",
       "    </tr>\n",
       "    <tr>\n",
       "      <th>1</th>\n",
       "      <td>2</td>\n",
       "      <td>2017-01-28 10:00:00+00:00</td>\n",
       "      <td>2017-02-27 10:00:00+00:00</td>\n",
       "    </tr>\n",
       "    <tr>\n",
       "      <th>2</th>\n",
       "      <td>3</td>\n",
       "      <td>2017-01-21 10:00:00+00:00</td>\n",
       "      <td>2017-01-27 10:00:00+00:00</td>\n",
       "    </tr>\n",
       "    <tr>\n",
       "      <th>3</th>\n",
       "      <td>4</td>\n",
       "      <td>2017-01-28 10:00:00+00:00</td>\n",
       "      <td>2017-02-03 10:00:00+00:00</td>\n",
       "    </tr>\n",
       "    <tr>\n",
       "      <th>4</th>\n",
       "      <td>5</td>\n",
       "      <td>2017-01-26 10:00:00+00:00</td>\n",
       "      <td>2017-01-27 10:00:00+00:00</td>\n",
       "    </tr>\n",
       "    <tr>\n",
       "      <th>5</th>\n",
       "      <td>6</td>\n",
       "      <td>2017-01-28 10:00:00+00:00</td>\n",
       "      <td>2017-01-29 10:00:00+00:00</td>\n",
       "    </tr>\n",
       "  </tbody>\n",
       "</table>\n",
       "</div>"
      ],
      "text/plain": [
       "   id             startinterval               endinterval\n",
       "0   1 2016-12-27 10:00:00+00:00 2017-01-27 10:00:00+00:00\n",
       "1   2 2017-01-28 10:00:00+00:00 2017-02-27 10:00:00+00:00\n",
       "2   3 2017-01-21 10:00:00+00:00 2017-01-27 10:00:00+00:00\n",
       "3   4 2017-01-28 10:00:00+00:00 2017-02-03 10:00:00+00:00\n",
       "4   5 2017-01-26 10:00:00+00:00 2017-01-27 10:00:00+00:00\n",
       "5   6 2017-01-28 10:00:00+00:00 2017-01-29 10:00:00+00:00"
      ]
     },
     "execution_count": 3,
     "metadata": {},
     "output_type": "execute_result"
    }
   ],
   "source": [
    "time_periods = pd.read_sql(\"SELECT * FROM timeinterval;\", con=conn)\n",
    "time_periods"
   ]
  },
  {
   "cell_type": "code",
   "execution_count": 4,
   "metadata": {},
   "outputs": [
    {
     "data": {
      "text/plain": [
       "id                             int64\n",
       "startinterval    datetime64[ns, UTC]\n",
       "endinterval      datetime64[ns, UTC]\n",
       "dtype: object"
      ]
     },
     "execution_count": 4,
     "metadata": {},
     "output_type": "execute_result"
    }
   ],
   "source": [
    "time_periods.dtypes"
   ]
  },
  {
   "cell_type": "code",
   "execution_count": 5,
   "metadata": {
    "collapsed": true
   },
   "outputs": [],
   "source": [
    "# set variables so we can specify a beginning/end for our SQL queries\n",
    "start = time_periods.iloc[0]['startinterval'].tz_convert(None)\n",
    "end = time_periods.iloc[1]['endinterval'].tz_convert(None)"
   ]
  },
  {
   "cell_type": "markdown",
   "metadata": {},
   "source": [
    "#### County IDs\n",
    "\n",
    "From Caglar:\n",
    "> It looks like I parsed the internal id as cntyid. Internal id comes from the order of the counties in the shape file (dbf). You can create a new field to fix the issue."
   ]
  },
  {
   "cell_type": "code",
   "execution_count": 6,
   "metadata": {
    "collapsed": true
   },
   "outputs": [],
   "source": [
    "import geopandas as gpd\n",
    "\n",
    "us_counties_f = name_file_path('caglar/countyID/us_cnty_wgs84latlon.shp', external_data_dir)"
   ]
  },
  {
   "cell_type": "code",
   "execution_count": 7,
   "metadata": {},
   "outputs": [
    {
     "data": {
      "text/html": [
       "<div>\n",
       "<style>\n",
       "    .dataframe thead tr:only-child th {\n",
       "        text-align: right;\n",
       "    }\n",
       "\n",
       "    .dataframe thead th {\n",
       "        text-align: left;\n",
       "    }\n",
       "\n",
       "    .dataframe tbody tr th {\n",
       "        vertical-align: top;\n",
       "    }\n",
       "</style>\n",
       "<table border=\"1\" class=\"dataframe\">\n",
       "  <thead>\n",
       "    <tr style=\"text-align: right;\">\n",
       "      <th></th>\n",
       "      <th>NEWSTCNTY</th>\n",
       "      <th>geometry</th>\n",
       "      <th>id</th>\n",
       "    </tr>\n",
       "  </thead>\n",
       "  <tbody>\n",
       "    <tr>\n",
       "      <th>0</th>\n",
       "      <td>01001</td>\n",
       "      <td>POLYGON ((-86.41314149216106 32.70725681089197...</td>\n",
       "      <td>1001</td>\n",
       "    </tr>\n",
       "    <tr>\n",
       "      <th>1</th>\n",
       "      <td>01003</td>\n",
       "      <td>POLYGON ((-87.61590072233568 31.24428493497927...</td>\n",
       "      <td>1003</td>\n",
       "    </tr>\n",
       "    <tr>\n",
       "      <th>2</th>\n",
       "      <td>01005</td>\n",
       "      <td>POLYGON ((-85.05610018188545 32.06289786163329...</td>\n",
       "      <td>1005</td>\n",
       "    </tr>\n",
       "    <tr>\n",
       "      <th>3</th>\n",
       "      <td>01007</td>\n",
       "      <td>POLYGON ((-87.02685453058996 33.24634461782348...</td>\n",
       "      <td>1007</td>\n",
       "    </tr>\n",
       "    <tr>\n",
       "      <th>4</th>\n",
       "      <td>01009</td>\n",
       "      <td>POLYGON ((-86.3035171854426 34.09900150822232,...</td>\n",
       "      <td>1009</td>\n",
       "    </tr>\n",
       "  </tbody>\n",
       "</table>\n",
       "</div>"
      ],
      "text/plain": [
       "  NEWSTCNTY                                           geometry    id\n",
       "0     01001  POLYGON ((-86.41314149216106 32.70725681089197...  1001\n",
       "1     01003  POLYGON ((-87.61590072233568 31.24428493497927...  1003\n",
       "2     01005  POLYGON ((-85.05610018188545 32.06289786163329...  1005\n",
       "3     01007  POLYGON ((-87.02685453058996 33.24634461782348...  1007\n",
       "4     01009  POLYGON ((-86.3035171854426 34.09900150822232,...  1009"
      ]
     },
     "execution_count": 7,
     "metadata": {},
     "output_type": "execute_result"
    }
   ],
   "source": [
    "us_counties = gpd.read_file(us_counties_f)\n",
    "us_counties.head()"
   ]
  },
  {
   "cell_type": "code",
   "execution_count": 8,
   "metadata": {
    "collapsed": true
   },
   "outputs": [],
   "source": [
    "us_counties['id'] = us_counties.index\n",
    "#us_counties['id'] = us_counties.id.map(lambda x: str(x))\n",
    "us_counties.set_index('id', inplace=True)"
   ]
  },
  {
   "cell_type": "code",
   "execution_count": 9,
   "metadata": {},
   "outputs": [
    {
     "data": {
      "text/plain": [
       "<matplotlib.axes._subplots.AxesSubplot at 0x7fc1f4f29eb8>"
      ]
     },
     "execution_count": 9,
     "metadata": {},
     "output_type": "execute_result"
    },
    {
     "data": {
      "image/png": "[encoded data removed]",
      "text/plain": [
       "<matplotlib.figure.Figure at 0x7fc1febe77f0>"
      ]
     },
     "metadata": {},
     "output_type": "display_data"
    }
   ],
   "source": [
    "us_counties.plot()"
   ]
  },
  {
   "cell_type": "code",
   "execution_count": 10,
   "metadata": {
    "collapsed": true
   },
   "outputs": [],
   "source": [
    "def lookup_county(table_id, counties):\n",
    "    \"\"\"\n",
    "    Simple Function to lookup a county's FIPS code. \n",
    "    \"\"\"\n",
    "    return counties.iloc[table_id]['NEWSTCNTY']"
   ]
  },
  {
   "cell_type": "code",
   "execution_count": 11,
   "metadata": {},
   "outputs": [
    {
     "data": {
      "text/plain": [
       "'06053'"
      ]
     },
     "execution_count": 11,
     "metadata": {},
     "output_type": "execute_result"
    }
   ],
   "source": [
    "# test the lookup\n",
    "lookup_county(183, us_counties)"
   ]
  },
  {
   "cell_type": "markdown",
   "metadata": {
    "collapsed": true
   },
   "source": [
    "#### County/State Crosswalk \n",
    "\n",
    "Adding State name to counties. Download the file from the internet, and load it into a dataframe."
   ]
  },
  {
   "cell_type": "code",
   "execution_count": 12,
   "metadata": {},
   "outputs": [
    {
     "data": {
      "text/html": [
       "<div>\n",
       "<style>\n",
       "    .dataframe thead tr:only-child th {\n",
       "        text-align: right;\n",
       "    }\n",
       "\n",
       "    .dataframe thead th {\n",
       "        text-align: left;\n",
       "    }\n",
       "\n",
       "    .dataframe tbody tr th {\n",
       "        vertical-align: top;\n",
       "    }\n",
       "</style>\n",
       "<table border=\"1\" class=\"dataframe\">\n",
       "  <thead>\n",
       "    <tr style=\"text-align: right;\">\n",
       "      <th></th>\n",
       "      <th>abbrv</th>\n",
       "      <th>STATE</th>\n",
       "      <th>STATEFP</th>\n",
       "      <th>COUNTYFP</th>\n",
       "      <th>COUNTYNAME</th>\n",
       "    </tr>\n",
       "  </thead>\n",
       "  <tbody>\n",
       "    <tr>\n",
       "      <th>0</th>\n",
       "      <td>AL</td>\n",
       "      <td>01</td>\n",
       "      <td>001</td>\n",
       "      <td>Autauga County</td>\n",
       "      <td>H1</td>\n",
       "    </tr>\n",
       "    <tr>\n",
       "      <th>1</th>\n",
       "      <td>AL</td>\n",
       "      <td>01</td>\n",
       "      <td>003</td>\n",
       "      <td>Baldwin County</td>\n",
       "      <td>H1</td>\n",
       "    </tr>\n",
       "    <tr>\n",
       "      <th>2</th>\n",
       "      <td>AL</td>\n",
       "      <td>01</td>\n",
       "      <td>005</td>\n",
       "      <td>Barbour County</td>\n",
       "      <td>H1</td>\n",
       "    </tr>\n",
       "    <tr>\n",
       "      <th>3</th>\n",
       "      <td>AL</td>\n",
       "      <td>01</td>\n",
       "      <td>007</td>\n",
       "      <td>Bibb County</td>\n",
       "      <td>H1</td>\n",
       "    </tr>\n",
       "    <tr>\n",
       "      <th>4</th>\n",
       "      <td>AL</td>\n",
       "      <td>01</td>\n",
       "      <td>009</td>\n",
       "      <td>Blount County</td>\n",
       "      <td>H1</td>\n",
       "    </tr>\n",
       "  </tbody>\n",
       "</table>\n",
       "</div>"
      ],
      "text/plain": [
       "  abbrv STATE STATEFP        COUNTYFP COUNTYNAME\n",
       "0    AL    01     001  Autauga County         H1\n",
       "1    AL    01     003  Baldwin County         H1\n",
       "2    AL    01     005  Barbour County         H1\n",
       "3    AL    01     007     Bibb County         H1\n",
       "4    AL    01     009   Blount County         H1"
      ]
     },
     "execution_count": 12,
     "metadata": {},
     "output_type": "execute_result"
    }
   ],
   "source": [
    "census_cols = ['abbrv', 'STATE', 'STATEFP', 'COUNTYFP', 'COUNTYNAME']\n",
    "dtypes = {'STATE': 'str', 'STATEFP':'str'}\n",
    "cnty_st_xwalk = pd.read_csv('https://www2.census.gov/geo/docs/reference/codes/files/national_county.txt',\n",
    "                          names=census_cols,\n",
    "                          dtype=dtypes)\n",
    "cnty_st_xwalk.head()"
   ]
  },
  {
   "cell_type": "code",
   "execution_count": 13,
   "metadata": {
    "collapsed": true
   },
   "outputs": [],
   "source": [
    "cnty_st_xwalk['FIPS'] = cnty_st_xwalk['STATE'] + cnty_st_xwalk['STATEFP']\n",
    "cnty_st_xwalk.set_index('FIPS', inplace=True)"
   ]
  },
  {
   "cell_type": "code",
   "execution_count": 14,
   "metadata": {
    "collapsed": true
   },
   "outputs": [],
   "source": [
    "def lookup_state(FIPS, states):\n",
    "    \"\"\"\n",
    "    Simple Function to lookup a county's State abbrv. \n",
    "    \"\"\"\n",
    "    return states.loc[FIPS]['abbrv']"
   ]
  },
  {
   "cell_type": "code",
   "execution_count": 15,
   "metadata": {},
   "outputs": [
    {
     "data": {
      "text/plain": [
       "'CA'"
      ]
     },
     "execution_count": 15,
     "metadata": {},
     "output_type": "execute_result"
    }
   ],
   "source": [
    "# test the lookup\n",
    "lookup_state('06053', cnty_st_xwalk)"
   ]
  },
  {
   "cell_type": "markdown",
   "metadata": {},
   "source": [
    "#### Tweets\n",
    "\n",
    "We need a count of tweets from every county, for every week (8: 4-before/after). The `tweet` table has tweetid, tweet, date, userid, id, lon, lat, cntyid."
   ]
  },
  {
   "cell_type": "code",
   "execution_count": 16,
   "metadata": {},
   "outputs": [
    {
     "data": {
      "text/html": [
       "<div>\n",
       "<style>\n",
       "    .dataframe thead tr:only-child th {\n",
       "        text-align: right;\n",
       "    }\n",
       "\n",
       "    .dataframe thead th {\n",
       "        text-align: left;\n",
       "    }\n",
       "\n",
       "    .dataframe tbody tr th {\n",
       "        vertical-align: top;\n",
       "    }\n",
       "</style>\n",
       "<table border=\"1\" class=\"dataframe\">\n",
       "  <thead>\n",
       "    <tr style=\"text-align: right;\">\n",
       "      <th></th>\n",
       "      <th>date</th>\n",
       "      <th>userid</th>\n",
       "      <th>lon</th>\n",
       "      <th>lat</th>\n",
       "      <th>cntyid</th>\n",
       "    </tr>\n",
       "  </thead>\n",
       "  <tbody>\n",
       "    <tr>\n",
       "      <th>0</th>\n",
       "      <td>Sun Dec 25 21:45:36 CST 2016</td>\n",
       "      <td>344933751</td>\n",
       "      <td>-84.174260</td>\n",
       "      <td>34.535420</td>\n",
       "      <td>398</td>\n",
       "    </tr>\n",
       "    <tr>\n",
       "      <th>1</th>\n",
       "      <td>Sun Dec 25 21:45:38 CST 2016</td>\n",
       "      <td>2754020013</td>\n",
       "      <td>-82.687256</td>\n",
       "      <td>27.801315</td>\n",
       "      <td>341</td>\n",
       "    </tr>\n",
       "    <tr>\n",
       "      <th>2</th>\n",
       "      <td>Sun Dec 25 21:45:41 CST 2016</td>\n",
       "      <td>185912082</td>\n",
       "      <td>-94.596870</td>\n",
       "      <td>38.941310</td>\n",
       "      <td>1495</td>\n",
       "    </tr>\n",
       "    <tr>\n",
       "      <th>3</th>\n",
       "      <td>Sun Dec 25 21:45:45 CST 2016</td>\n",
       "      <td>342852970</td>\n",
       "      <td>-96.883354</td>\n",
       "      <td>32.816670</td>\n",
       "      <td>2544</td>\n",
       "    </tr>\n",
       "    <tr>\n",
       "      <th>4</th>\n",
       "      <td>Sun Dec 25 21:45:47 CST 2016</td>\n",
       "      <td>1338600822</td>\n",
       "      <td>-74.070000</td>\n",
       "      <td>40.960000</td>\n",
       "      <td>1740</td>\n",
       "    </tr>\n",
       "  </tbody>\n",
       "</table>\n",
       "</div>"
      ],
      "text/plain": [
       "                           date      userid        lon        lat  cntyid\n",
       "0  Sun Dec 25 21:45:36 CST 2016   344933751 -84.174260  34.535420     398\n",
       "1  Sun Dec 25 21:45:38 CST 2016  2754020013 -82.687256  27.801315     341\n",
       "2  Sun Dec 25 21:45:41 CST 2016   185912082 -94.596870  38.941310    1495\n",
       "3  Sun Dec 25 21:45:45 CST 2016   342852970 -96.883354  32.816670    2544\n",
       "4  Sun Dec 25 21:45:47 CST 2016  1338600822 -74.070000  40.960000    1740"
      ]
     },
     "execution_count": 16,
     "metadata": {},
     "output_type": "execute_result"
    }
   ],
   "source": [
    "tweet_query = \"SELECT date, userID, lon, lat, cntyID FROM tweet LIMIT 75000;\"\n",
    "\n",
    "tweet_df = pd.read_sql(tweet_query, con=conn)\n",
    "tweet_df.head()"
   ]
  },
  {
   "cell_type": "code",
   "execution_count": 17,
   "metadata": {},
   "outputs": [
    {
     "data": {
      "text/plain": [
       "date       object\n",
       "userid      int64\n",
       "lon       float64\n",
       "lat       float64\n",
       "cntyid      int64\n",
       "dtype: object"
      ]
     },
     "execution_count": 17,
     "metadata": {},
     "output_type": "execute_result"
    }
   ],
   "source": [
    "tweet_df.dtypes"
   ]
  },
  {
   "cell_type": "code",
   "execution_count": 18,
   "metadata": {
    "collapsed": true
   },
   "outputs": [],
   "source": [
    "##################################################\n",
    "#test the county modifier\n",
    "\n",
    "tweet_df['cnty'] = tweet_df['cntyid'].map(lambda x: lookup_county(x, us_counties))\n",
    "tweet_df['st'] = tweet_df['cnty'].map(lambda x: lookup_state(x, cnty_st_xwalk))"
   ]
  },
  {
   "cell_type": "code",
   "execution_count": 19,
   "metadata": {},
   "outputs": [
    {
     "data": {
      "text/html": [
       "<div>\n",
       "<style>\n",
       "    .dataframe thead tr:only-child th {\n",
       "        text-align: right;\n",
       "    }\n",
       "\n",
       "    .dataframe thead th {\n",
       "        text-align: left;\n",
       "    }\n",
       "\n",
       "    .dataframe tbody tr th {\n",
       "        vertical-align: top;\n",
       "    }\n",
       "</style>\n",
       "<table border=\"1\" class=\"dataframe\">\n",
       "  <thead>\n",
       "    <tr style=\"text-align: right;\">\n",
       "      <th></th>\n",
       "      <th>date</th>\n",
       "      <th>userid</th>\n",
       "      <th>lon</th>\n",
       "      <th>lat</th>\n",
       "      <th>cntyid</th>\n",
       "      <th>cnty</th>\n",
       "      <th>st</th>\n",
       "    </tr>\n",
       "  </thead>\n",
       "  <tbody>\n",
       "    <tr>\n",
       "      <th>0</th>\n",
       "      <td>Sun Dec 25 21:45:36 CST 2016</td>\n",
       "      <td>344933751</td>\n",
       "      <td>-84.17426</td>\n",
       "      <td>34.53542</td>\n",
       "      <td>398</td>\n",
       "      <td>13085</td>\n",
       "      <td>GA</td>\n",
       "    </tr>\n",
       "  </tbody>\n",
       "</table>\n",
       "</div>"
      ],
      "text/plain": [
       "                           date     userid       lon       lat  cntyid   cnty  \\\n",
       "0  Sun Dec 25 21:45:36 CST 2016  344933751 -84.17426  34.53542     398  13085   \n",
       "\n",
       "   st  \n",
       "0  GA  "
      ]
     },
     "execution_count": 19,
     "metadata": {},
     "output_type": "execute_result"
    }
   ],
   "source": [
    "tweet_df.head(1)"
   ]
  },
  {
   "cell_type": "markdown",
   "metadata": {},
   "source": [
    "#### Week Categorization\n",
    "\n",
    "We need to create a mapping that will return the week number for us. We'll start at the epoch and work our way backwards week by week. After a month we'll do 'after' the epoch."
   ]
  },
  {
   "cell_type": "code",
   "execution_count": 20,
   "metadata": {
    "collapsed": true
   },
   "outputs": [],
   "source": [
    "# actually add the epoch too\n",
    "epoch_start = pd.to_datetime('2017-01-27 10:00:00+00:00', utc=True).tz_convert(None)\n",
    "epoch_end = pd.to_datetime('2017-01-28 10:00:00+00:00', utc=True).tz_convert(None)\n",
    "\n",
    "delta_week = pd.Timedelta('7 days')"
   ]
  },
  {
   "cell_type": "code",
   "execution_count": 21,
   "metadata": {
    "collapsed": true
   },
   "outputs": [],
   "source": [
    "# epoch_start - (delta_week * 4) >> Timestamp('2016-12-30 10:00:00')\n",
    "# start >> Timestamp('2016-12-27 10:00:00+0000', tz='UTC')"
   ]
  },
  {
   "cell_type": "code",
   "execution_count": 34,
   "metadata": {
    "collapsed": true
   },
   "outputs": [],
   "source": [
    "# set the variables\n",
    "four_before = epoch_start - (delta_week * 4)\n",
    "three_before = epoch_start - (delta_week * 3)\n",
    "two_before = epoch_start - (delta_week * 2)\n",
    "one_before = epoch_start - (delta_week * 1)\n",
    "\n",
    "four_after = epoch_end + (delta_week * 4)\n",
    "three_after = epoch_end + (delta_week * 3)\n",
    "two_after = epoch_end + (delta_week * 2)\n",
    "one_after = epoch_end + (delta_week * 1)\n",
    "\n",
    "def get_week_number(week):\n",
    "    try:\n",
    "        week = pd.to_datetime(week, infer_datetime_format=True)\n",
    "    \n",
    "        # catch, before/after?\n",
    "        if (week < start) or (week > end):\n",
    "            return None\n",
    "\n",
    "        if (week < four_before):\n",
    "            return -5\n",
    "        elif (week < three_before):\n",
    "            return -4\n",
    "        elif (week < two_before):\n",
    "            return -3\n",
    "        elif (week < one_before):\n",
    "            return -2\n",
    "        elif (week < epoch_start):\n",
    "            return -1\n",
    "        elif (week < epoch_end):\n",
    "            return 0\n",
    "        elif (week < one_after):\n",
    "            return 1\n",
    "        elif (week < two_after):\n",
    "            return 2\n",
    "        elif (week < three_after):\n",
    "            return 3\n",
    "        elif (week < four_after):\n",
    "            return 4\n",
    "        else:\n",
    "            return 5\n",
    "    except Exception as e:\n",
    "        print (e, week)\n",
    "        return None"
   ]
  },
  {
   "cell_type": "code",
   "execution_count": 23,
   "metadata": {
    "collapsed": true
   },
   "outputs": [],
   "source": [
    "tweet_df['week'] = tweet_df.date.map(lambda x: get_week_number(pd.to_datetime(x, infer_datetime_format=True)))"
   ]
  },
  {
   "cell_type": "code",
   "execution_count": 24,
   "metadata": {},
   "outputs": [
    {
     "data": {
      "text/html": [
       "<div>\n",
       "<style>\n",
       "    .dataframe thead tr:only-child th {\n",
       "        text-align: right;\n",
       "    }\n",
       "\n",
       "    .dataframe thead th {\n",
       "        text-align: left;\n",
       "    }\n",
       "\n",
       "    .dataframe tbody tr th {\n",
       "        vertical-align: top;\n",
       "    }\n",
       "</style>\n",
       "<table border=\"1\" class=\"dataframe\">\n",
       "  <thead>\n",
       "    <tr style=\"text-align: right;\">\n",
       "      <th></th>\n",
       "      <th>date</th>\n",
       "      <th>userid</th>\n",
       "      <th>lon</th>\n",
       "      <th>lat</th>\n",
       "      <th>cntyid</th>\n",
       "      <th>cnty</th>\n",
       "      <th>st</th>\n",
       "      <th>week</th>\n",
       "    </tr>\n",
       "  </thead>\n",
       "  <tbody>\n",
       "    <tr>\n",
       "      <th>74990</th>\n",
       "      <td>Wed Dec 28 23:15:48 CST 2016</td>\n",
       "      <td>758140914753638400</td>\n",
       "      <td>-97.74063</td>\n",
       "      <td>30.274000</td>\n",
       "      <td>2714</td>\n",
       "      <td>48453</td>\n",
       "      <td>TX</td>\n",
       "      <td>-5.0</td>\n",
       "    </tr>\n",
       "    <tr>\n",
       "      <th>74991</th>\n",
       "      <td>Wed Dec 28 23:15:56 CST 2016</td>\n",
       "      <td>3267464186</td>\n",
       "      <td>-95.83020</td>\n",
       "      <td>29.740200</td>\n",
       "      <td>2566</td>\n",
       "      <td>48157</td>\n",
       "      <td>TX</td>\n",
       "      <td>-5.0</td>\n",
       "    </tr>\n",
       "    <tr>\n",
       "      <th>74992</th>\n",
       "      <td>Wed Dec 28 23:16:00 CST 2016</td>\n",
       "      <td>576929307</td>\n",
       "      <td>-75.20717</td>\n",
       "      <td>38.735195</td>\n",
       "      <td>288</td>\n",
       "      <td>10005</td>\n",
       "      <td>DE</td>\n",
       "      <td>-5.0</td>\n",
       "    </tr>\n",
       "    <tr>\n",
       "      <th>74993</th>\n",
       "      <td>Wed Dec 28 23:16:00 CST 2016</td>\n",
       "      <td>1479152634</td>\n",
       "      <td>-75.24621</td>\n",
       "      <td>39.969810</td>\n",
       "      <td>2259</td>\n",
       "      <td>42101</td>\n",
       "      <td>PA</td>\n",
       "      <td>-5.0</td>\n",
       "    </tr>\n",
       "    <tr>\n",
       "      <th>74994</th>\n",
       "      <td>Wed Dec 28 23:16:01 CST 2016</td>\n",
       "      <td>583252309</td>\n",
       "      <td>-97.74063</td>\n",
       "      <td>30.274000</td>\n",
       "      <td>2714</td>\n",
       "      <td>48453</td>\n",
       "      <td>TX</td>\n",
       "      <td>-5.0</td>\n",
       "    </tr>\n",
       "    <tr>\n",
       "      <th>74995</th>\n",
       "      <td>Wed Dec 28 23:16:08 CST 2016</td>\n",
       "      <td>850286970</td>\n",
       "      <td>-95.83020</td>\n",
       "      <td>29.740200</td>\n",
       "      <td>2566</td>\n",
       "      <td>48157</td>\n",
       "      <td>TX</td>\n",
       "      <td>-5.0</td>\n",
       "    </tr>\n",
       "    <tr>\n",
       "      <th>74996</th>\n",
       "      <td>Wed Dec 28 23:16:11 CST 2016</td>\n",
       "      <td>485092101</td>\n",
       "      <td>-75.20717</td>\n",
       "      <td>38.735195</td>\n",
       "      <td>288</td>\n",
       "      <td>10005</td>\n",
       "      <td>DE</td>\n",
       "      <td>-5.0</td>\n",
       "    </tr>\n",
       "    <tr>\n",
       "      <th>74997</th>\n",
       "      <td>Wed Dec 28 23:16:12 CST 2016</td>\n",
       "      <td>759454825</td>\n",
       "      <td>-75.24621</td>\n",
       "      <td>39.969810</td>\n",
       "      <td>2259</td>\n",
       "      <td>42101</td>\n",
       "      <td>PA</td>\n",
       "      <td>-5.0</td>\n",
       "    </tr>\n",
       "    <tr>\n",
       "      <th>74998</th>\n",
       "      <td>Wed Dec 28 23:16:13 CST 2016</td>\n",
       "      <td>3299370200</td>\n",
       "      <td>-97.74063</td>\n",
       "      <td>30.274000</td>\n",
       "      <td>2714</td>\n",
       "      <td>48453</td>\n",
       "      <td>TX</td>\n",
       "      <td>-5.0</td>\n",
       "    </tr>\n",
       "    <tr>\n",
       "      <th>74999</th>\n",
       "      <td>Wed Dec 28 23:16:20 CST 2016</td>\n",
       "      <td>799627519641034752</td>\n",
       "      <td>-95.83020</td>\n",
       "      <td>29.740200</td>\n",
       "      <td>2566</td>\n",
       "      <td>48157</td>\n",
       "      <td>TX</td>\n",
       "      <td>-5.0</td>\n",
       "    </tr>\n",
       "  </tbody>\n",
       "</table>\n",
       "</div>"
      ],
      "text/plain": [
       "                               date              userid       lon        lat  \\\n",
       "74990  Wed Dec 28 23:15:48 CST 2016  758140914753638400 -97.74063  30.274000   \n",
       "74991  Wed Dec 28 23:15:56 CST 2016          3267464186 -95.83020  29.740200   \n",
       "74992  Wed Dec 28 23:16:00 CST 2016           576929307 -75.20717  38.735195   \n",
       "74993  Wed Dec 28 23:16:00 CST 2016          1479152634 -75.24621  39.969810   \n",
       "74994  Wed Dec 28 23:16:01 CST 2016           583252309 -97.74063  30.274000   \n",
       "74995  Wed Dec 28 23:16:08 CST 2016           850286970 -95.83020  29.740200   \n",
       "74996  Wed Dec 28 23:16:11 CST 2016           485092101 -75.20717  38.735195   \n",
       "74997  Wed Dec 28 23:16:12 CST 2016           759454825 -75.24621  39.969810   \n",
       "74998  Wed Dec 28 23:16:13 CST 2016          3299370200 -97.74063  30.274000   \n",
       "74999  Wed Dec 28 23:16:20 CST 2016  799627519641034752 -95.83020  29.740200   \n",
       "\n",
       "       cntyid   cnty  st  week  \n",
       "74990    2714  48453  TX  -5.0  \n",
       "74991    2566  48157  TX  -5.0  \n",
       "74992     288  10005  DE  -5.0  \n",
       "74993    2259  42101  PA  -5.0  \n",
       "74994    2714  48453  TX  -5.0  \n",
       "74995    2566  48157  TX  -5.0  \n",
       "74996     288  10005  DE  -5.0  \n",
       "74997    2259  42101  PA  -5.0  \n",
       "74998    2714  48453  TX  -5.0  \n",
       "74999    2566  48157  TX  -5.0  "
      ]
     },
     "execution_count": 24,
     "metadata": {},
     "output_type": "execute_result"
    }
   ],
   "source": [
    "tweet_df.tail(10)"
   ]
  },
  {
   "cell_type": "code",
   "execution_count": 25,
   "metadata": {},
   "outputs": [
    {
     "data": {
      "text/html": [
       "<div>\n",
       "<style>\n",
       "    .dataframe thead tr:only-child th {\n",
       "        text-align: right;\n",
       "    }\n",
       "\n",
       "    .dataframe thead th {\n",
       "        text-align: left;\n",
       "    }\n",
       "\n",
       "    .dataframe tbody tr th {\n",
       "        vertical-align: top;\n",
       "    }\n",
       "</style>\n",
       "<table border=\"1\" class=\"dataframe\">\n",
       "  <thead>\n",
       "    <tr style=\"text-align: right;\">\n",
       "      <th></th>\n",
       "      <th>date</th>\n",
       "      <th>userid</th>\n",
       "      <th>lon</th>\n",
       "      <th>lat</th>\n",
       "      <th>cntyid</th>\n",
       "      <th>cnty</th>\n",
       "      <th>st</th>\n",
       "      <th>week</th>\n",
       "    </tr>\n",
       "  </thead>\n",
       "  <tbody>\n",
       "  </tbody>\n",
       "</table>\n",
       "</div>"
      ],
      "text/plain": [
       "Empty DataFrame\n",
       "Columns: [date, userid, lon, lat, cntyid, cnty, st, week]\n",
       "Index: []"
      ]
     },
     "execution_count": 25,
     "metadata": {},
     "output_type": "execute_result"
    }
   ],
   "source": [
    "tweet_df[(tweet_df.week < -5) & (tweet_df.week < 5)].head()"
   ]
  },
  {
   "cell_type": "code",
   "execution_count": 26,
   "metadata": {},
   "outputs": [
    {
     "data": {
      "text/html": [
       "<div>\n",
       "<style>\n",
       "    .dataframe thead tr:only-child th {\n",
       "        text-align: right;\n",
       "    }\n",
       "\n",
       "    .dataframe thead th {\n",
       "        text-align: left;\n",
       "    }\n",
       "\n",
       "    .dataframe tbody tr th {\n",
       "        vertical-align: top;\n",
       "    }\n",
       "</style>\n",
       "<table border=\"1\" class=\"dataframe\">\n",
       "  <thead>\n",
       "    <tr style=\"text-align: right;\">\n",
       "      <th></th>\n",
       "      <th></th>\n",
       "      <th>cnty</th>\n",
       "    </tr>\n",
       "    <tr>\n",
       "      <th>st</th>\n",
       "      <th>week</th>\n",
       "      <th></th>\n",
       "    </tr>\n",
       "  </thead>\n",
       "  <tbody>\n",
       "    <tr>\n",
       "      <th>CA</th>\n",
       "      <th>-5.0</th>\n",
       "      <td>13586</td>\n",
       "    </tr>\n",
       "    <tr>\n",
       "      <th>CO</th>\n",
       "      <th>-5.0</th>\n",
       "      <td>1586</td>\n",
       "    </tr>\n",
       "    <tr>\n",
       "      <th>CT</th>\n",
       "      <th>-4.0</th>\n",
       "      <td>1</td>\n",
       "    </tr>\n",
       "    <tr>\n",
       "      <th>DC</th>\n",
       "      <th>-5.0</th>\n",
       "      <td>1974</td>\n",
       "    </tr>\n",
       "    <tr>\n",
       "      <th>DE</th>\n",
       "      <th>-5.0</th>\n",
       "      <td>3660</td>\n",
       "    </tr>\n",
       "    <tr>\n",
       "      <th rowspan=\"2\" valign=\"top\">FL</th>\n",
       "      <th>-5.0</th>\n",
       "      <td>12716</td>\n",
       "    </tr>\n",
       "    <tr>\n",
       "      <th>-4.0</th>\n",
       "      <td>1</td>\n",
       "    </tr>\n",
       "    <tr>\n",
       "      <th>GA</th>\n",
       "      <th>-5.0</th>\n",
       "      <td>432</td>\n",
       "    </tr>\n",
       "    <tr>\n",
       "      <th>IL</th>\n",
       "      <th>-4.0</th>\n",
       "      <td>1</td>\n",
       "    </tr>\n",
       "    <tr>\n",
       "      <th>LA</th>\n",
       "      <th>-5.0</th>\n",
       "      <td>1466</td>\n",
       "    </tr>\n",
       "    <tr>\n",
       "      <th>MA</th>\n",
       "      <th>-5.0</th>\n",
       "      <td>6919</td>\n",
       "    </tr>\n",
       "    <tr>\n",
       "      <th>MO</th>\n",
       "      <th>-4.0</th>\n",
       "      <td>1</td>\n",
       "    </tr>\n",
       "    <tr>\n",
       "      <th>NC</th>\n",
       "      <th>-5.0</th>\n",
       "      <td>3467</td>\n",
       "    </tr>\n",
       "    <tr>\n",
       "      <th rowspan=\"2\" valign=\"top\">NJ</th>\n",
       "      <th>-5.0</th>\n",
       "      <td>1708</td>\n",
       "    </tr>\n",
       "    <tr>\n",
       "      <th>-4.0</th>\n",
       "      <td>2</td>\n",
       "    </tr>\n",
       "    <tr>\n",
       "      <th rowspan=\"2\" valign=\"top\">NY</th>\n",
       "      <th>-5.0</th>\n",
       "      <td>7278</td>\n",
       "    </tr>\n",
       "    <tr>\n",
       "      <th>-4.0</th>\n",
       "      <td>1</td>\n",
       "    </tr>\n",
       "    <tr>\n",
       "      <th>OH</th>\n",
       "      <th>-5.0</th>\n",
       "      <td>1348</td>\n",
       "    </tr>\n",
       "    <tr>\n",
       "      <th>OR</th>\n",
       "      <th>-5.0</th>\n",
       "      <td>32</td>\n",
       "    </tr>\n",
       "    <tr>\n",
       "      <th>PA</th>\n",
       "      <th>-5.0</th>\n",
       "      <td>192</td>\n",
       "    </tr>\n",
       "    <tr>\n",
       "      <th>TN</th>\n",
       "      <th>-5.0</th>\n",
       "      <td>877</td>\n",
       "    </tr>\n",
       "    <tr>\n",
       "      <th>TX</th>\n",
       "      <th>-5.0</th>\n",
       "      <td>9236</td>\n",
       "    </tr>\n",
       "    <tr>\n",
       "      <th>VA</th>\n",
       "      <th>-5.0</th>\n",
       "      <td>2807</td>\n",
       "    </tr>\n",
       "  </tbody>\n",
       "</table>\n",
       "</div>"
      ],
      "text/plain": [
       "          cnty\n",
       "st week       \n",
       "CA -5.0  13586\n",
       "CO -5.0   1586\n",
       "CT -4.0      1\n",
       "DC -5.0   1974\n",
       "DE -5.0   3660\n",
       "FL -5.0  12716\n",
       "   -4.0      1\n",
       "GA -5.0    432\n",
       "IL -4.0      1\n",
       "LA -5.0   1466\n",
       "MA -5.0   6919\n",
       "MO -4.0      1\n",
       "NC -5.0   3467\n",
       "NJ -5.0   1708\n",
       "   -4.0      2\n",
       "NY -5.0   7278\n",
       "   -4.0      1\n",
       "OH -5.0   1348\n",
       "OR -5.0     32\n",
       "PA -5.0    192\n",
       "TN -5.0    877\n",
       "TX -5.0   9236\n",
       "VA -5.0   2807"
      ]
     },
     "execution_count": 26,
     "metadata": {},
     "output_type": "execute_result"
    }
   ],
   "source": [
    "# IT WORKS: WE WANT THIS\n",
    "tweet_df[['st', 'week', 'cnty']].groupby(['st', 'week']).count()"
   ]
  },
  {
   "cell_type": "markdown",
   "metadata": {},
   "source": [
    "#### Parallelize\n",
    "\n",
    "This is going to take forever unless we do."
   ]
  },
  {
   "cell_type": "code",
   "execution_count": 27,
   "metadata": {
    "collapsed": true
   },
   "outputs": [],
   "source": [
    "from multiprocessing import Pool  # faster\n",
    "\n",
    "def parallelize_series(series, func):\n",
    "    pool = Pool(6)\n",
    "\n",
    "    df = pool.map(func, series)\n",
    "\n",
    "    pool.close()\n",
    "    pool.join()\n",
    "    return df"
   ]
  },
  {
   "cell_type": "code",
   "execution_count": 54,
   "metadata": {
    "collapsed": true
   },
   "outputs": [],
   "source": [
    "#tweet_df['cnty'] = tweet_df['cntyid'].map(lambda x: lookup_county(str(x), us_counties))\n",
    "#tweet_df['st'] = tweet_df['cnty'].map(lambda x: lookup_state(x, cnty_st_xwalk))\n",
    "#tweet_df['week'] = tweet_df.date.map(lambda x: get_week_number(pd.to_datetime(x, infer_datetime_format=True)))\n",
    "\n",
    "\n",
    "# ... with a little black magic\n",
    "def format_cnty(x): \n",
    "    return lookup_county(x, us_counties)\n",
    "def format_st(x): \n",
    "    return lookup_state(x, cnty_st_xwalk)\n",
    "def format_week(x): \n",
    "    return get_week_number(x)\n",
    "\n",
    "def group_tweets(tweets):\n",
    "    # Add a county variable from Caglar's .dbf lookup\n",
    "    tweets['cnty'] = parallelize_series(tweets.cntyid, format_cnty)\n",
    "\n",
    "    # Get the state from the Census XWalk\n",
    "    tweets['st'] = parallelize_series(tweets.cnty, format_st)\n",
    "\n",
    "    # Assign a week number\n",
    "    tweets['week'] = parallelize_series(tweets.date, format_week)\n",
    "    \n",
    "    # groupby our desired attributes\n",
    "    grouped = tweets[['st', 'week', 'cnty']].groupby(['st', 'week']).count()\n",
    "    \n",
    "    return grouped"
   ]
  },
  {
   "cell_type": "code",
   "execution_count": 55,
   "metadata": {},
   "outputs": [
    {
     "name": "stderr",
     "output_type": "stream",
     "text": [
      "/home/rlrson/anaconda3/envs/gdal/lib/python3.5/site-packages/ipykernel_launcher.py:16: SettingWithCopyWarning: \n",
      "A value is trying to be set on a copy of a slice from a DataFrame.\n",
      "Try using .loc[row_indexer,col_indexer] = value instead\n",
      "\n",
      "See the caveats in the documentation: http://pandas.pydata.org/pandas-docs/stable/indexing.html#indexing-view-versus-copy\n",
      "  app.launch_new_instance()\n",
      "/home/rlrson/anaconda3/envs/gdal/lib/python3.5/site-packages/ipykernel_launcher.py:19: SettingWithCopyWarning: \n",
      "A value is trying to be set on a copy of a slice from a DataFrame.\n",
      "Try using .loc[row_indexer,col_indexer] = value instead\n",
      "\n",
      "See the caveats in the documentation: http://pandas.pydata.org/pandas-docs/stable/indexing.html#indexing-view-versus-copy\n",
      "/home/rlrson/anaconda3/envs/gdal/lib/python3.5/site-packages/ipykernel_launcher.py:22: SettingWithCopyWarning: \n",
      "A value is trying to be set on a copy of a slice from a DataFrame.\n",
      "Try using .loc[row_indexer,col_indexer] = value instead\n",
      "\n",
      "See the caveats in the documentation: http://pandas.pydata.org/pandas-docs/stable/indexing.html#indexing-view-versus-copy\n"
     ]
    }
   ],
   "source": [
    "t = group_tweets(tweet_df.iloc[-100:])"
   ]
  },
  {
   "cell_type": "code",
   "execution_count": 58,
   "metadata": {},
   "outputs": [
    {
     "data": {
      "text/html": [
       "<div>\n",
       "<style>\n",
       "    .dataframe thead tr:only-child th {\n",
       "        text-align: right;\n",
       "    }\n",
       "\n",
       "    .dataframe thead th {\n",
       "        text-align: left;\n",
       "    }\n",
       "\n",
       "    .dataframe tbody tr th {\n",
       "        vertical-align: top;\n",
       "    }\n",
       "</style>\n",
       "<table border=\"1\" class=\"dataframe\">\n",
       "  <thead>\n",
       "    <tr style=\"text-align: right;\">\n",
       "      <th></th>\n",
       "      <th></th>\n",
       "      <th>cnty</th>\n",
       "    </tr>\n",
       "    <tr>\n",
       "      <th>st</th>\n",
       "      <th>week</th>\n",
       "      <th></th>\n",
       "    </tr>\n",
       "  </thead>\n",
       "  <tbody>\n",
       "    <tr>\n",
       "      <th>CA</th>\n",
       "      <th>-5.0</th>\n",
       "      <td>13586</td>\n",
       "    </tr>\n",
       "    <tr>\n",
       "      <th>CO</th>\n",
       "      <th>-5.0</th>\n",
       "      <td>1586</td>\n",
       "    </tr>\n",
       "    <tr>\n",
       "      <th>CT</th>\n",
       "      <th>-4.0</th>\n",
       "      <td>1</td>\n",
       "    </tr>\n",
       "    <tr>\n",
       "      <th>DC</th>\n",
       "      <th>-5.0</th>\n",
       "      <td>1974</td>\n",
       "    </tr>\n",
       "    <tr>\n",
       "      <th>DE</th>\n",
       "      <th>-5.0</th>\n",
       "      <td>3660</td>\n",
       "    </tr>\n",
       "    <tr>\n",
       "      <th rowspan=\"2\" valign=\"top\">FL</th>\n",
       "      <th>-5.0</th>\n",
       "      <td>12716</td>\n",
       "    </tr>\n",
       "    <tr>\n",
       "      <th>-4.0</th>\n",
       "      <td>1</td>\n",
       "    </tr>\n",
       "    <tr>\n",
       "      <th>GA</th>\n",
       "      <th>-5.0</th>\n",
       "      <td>432</td>\n",
       "    </tr>\n",
       "    <tr>\n",
       "      <th>IL</th>\n",
       "      <th>-4.0</th>\n",
       "      <td>1</td>\n",
       "    </tr>\n",
       "    <tr>\n",
       "      <th>LA</th>\n",
       "      <th>-5.0</th>\n",
       "      <td>1466</td>\n",
       "    </tr>\n",
       "    <tr>\n",
       "      <th>MA</th>\n",
       "      <th>-5.0</th>\n",
       "      <td>6919</td>\n",
       "    </tr>\n",
       "    <tr>\n",
       "      <th>MO</th>\n",
       "      <th>-4.0</th>\n",
       "      <td>1</td>\n",
       "    </tr>\n",
       "    <tr>\n",
       "      <th>NC</th>\n",
       "      <th>-5.0</th>\n",
       "      <td>3467</td>\n",
       "    </tr>\n",
       "    <tr>\n",
       "      <th rowspan=\"2\" valign=\"top\">NJ</th>\n",
       "      <th>-5.0</th>\n",
       "      <td>1708</td>\n",
       "    </tr>\n",
       "    <tr>\n",
       "      <th>-4.0</th>\n",
       "      <td>2</td>\n",
       "    </tr>\n",
       "    <tr>\n",
       "      <th rowspan=\"2\" valign=\"top\">NY</th>\n",
       "      <th>-5.0</th>\n",
       "      <td>7278</td>\n",
       "    </tr>\n",
       "    <tr>\n",
       "      <th>-4.0</th>\n",
       "      <td>1</td>\n",
       "    </tr>\n",
       "    <tr>\n",
       "      <th>OH</th>\n",
       "      <th>-5.0</th>\n",
       "      <td>1348</td>\n",
       "    </tr>\n",
       "    <tr>\n",
       "      <th>OR</th>\n",
       "      <th>-5.0</th>\n",
       "      <td>32</td>\n",
       "    </tr>\n",
       "    <tr>\n",
       "      <th>PA</th>\n",
       "      <th>-5.0</th>\n",
       "      <td>192</td>\n",
       "    </tr>\n",
       "    <tr>\n",
       "      <th>TN</th>\n",
       "      <th>-5.0</th>\n",
       "      <td>877</td>\n",
       "    </tr>\n",
       "    <tr>\n",
       "      <th>TX</th>\n",
       "      <th>-5.0</th>\n",
       "      <td>9236</td>\n",
       "    </tr>\n",
       "    <tr>\n",
       "      <th>VA</th>\n",
       "      <th>-5.0</th>\n",
       "      <td>2807</td>\n",
       "    </tr>\n",
       "  </tbody>\n",
       "</table>\n",
       "</div>"
      ],
      "text/plain": [
       "          cnty\n",
       "st week       \n",
       "CA -5.0  13586\n",
       "CO -5.0   1586\n",
       "CT -4.0      1\n",
       "DC -5.0   1974\n",
       "DE -5.0   3660\n",
       "FL -5.0  12716\n",
       "   -4.0      1\n",
       "GA -5.0    432\n",
       "IL -4.0      1\n",
       "LA -5.0   1466\n",
       "MA -5.0   6919\n",
       "MO -4.0      1\n",
       "NC -5.0   3467\n",
       "NJ -5.0   1708\n",
       "   -4.0      2\n",
       "NY -5.0   7278\n",
       "   -4.0      1\n",
       "OH -5.0   1348\n",
       "OR -5.0     32\n",
       "PA -5.0    192\n",
       "TN -5.0    877\n",
       "TX -5.0   9236\n",
       "VA -5.0   2807"
      ]
     },
     "execution_count": 58,
     "metadata": {},
     "output_type": "execute_result"
    }
   ],
   "source": [
    "%timeit -n 1 t = group_tweets(tweet_df)"
   ]
  },
  {
   "cell_type": "code",
   "execution_count": 66,
   "metadata": {
    "collapsed": true
   },
   "outputs": [],
   "source": [
    "# df = pd.DataFrame()\n",
    "# for chunk in pd.read_sql('select * from table_name', con=conn, chunksize=5000):\n",
    "#    df = df.append(chunk)\n",
    "\n",
    "# fake_query to test\n",
    "counts = pd.DataFrame()\n",
    "for chunk in pd.read_sql(tweet_query, con=conn, chunksize=5000):\n",
    "    formatted = group_tweets(chunk)\n",
    "    counts = counts.append(formatted)"
   ]
  },
  {
   "cell_type": "markdown",
   "metadata": {},
   "source": [
    "#### State Counts!!!"
   ]
  },
  {
   "cell_type": "code",
   "execution_count": 70,
   "metadata": {
    "collapsed": true
   },
   "outputs": [],
   "source": [
    "# for real this time\n",
    "full_query = \"SELECT date, userID, lon, lat, cntyID FROM tweet;\"\n",
    "\n",
    "st_cnts = pd.DataFrame()\n",
    "for chunk in pd.read_sql(full_query, con=conn, chunksize=50000):\n",
    "    formatted = group_tweets(chunk)\n",
    "    st_cnts = st_cnts.append(formatted)"
   ]
  },
  {
   "cell_type": "code",
   "execution_count": 71,
   "metadata": {
    "collapsed": true
   },
   "outputs": [],
   "source": [
    "# we have to sum all of the chunked counts\n",
    "st_cnts.reset_index(inplace=True)"
   ]
  },
  {
   "cell_type": "code",
   "execution_count": 73,
   "metadata": {
    "collapsed": true
   },
   "outputs": [],
   "source": [
    "final = st_cnts.groupby(['st', 'week']).sum().reset_index()"
   ]
  },
  {
   "cell_type": "code",
   "execution_count": 74,
   "metadata": {},
   "outputs": [
    {
     "data": {
      "text/html": [
       "<div>\n",
       "<style>\n",
       "    .dataframe thead tr:only-child th {\n",
       "        text-align: right;\n",
       "    }\n",
       "\n",
       "    .dataframe thead th {\n",
       "        text-align: left;\n",
       "    }\n",
       "\n",
       "    .dataframe tbody tr th {\n",
       "        vertical-align: top;\n",
       "    }\n",
       "</style>\n",
       "<table border=\"1\" class=\"dataframe\">\n",
       "  <thead>\n",
       "    <tr style=\"text-align: right;\">\n",
       "      <th></th>\n",
       "      <th>st</th>\n",
       "      <th>week</th>\n",
       "      <th>cnty</th>\n",
       "    </tr>\n",
       "  </thead>\n",
       "  <tbody>\n",
       "    <tr>\n",
       "      <th>0</th>\n",
       "      <td>AL</td>\n",
       "      <td>-2.0</td>\n",
       "      <td>204</td>\n",
       "    </tr>\n",
       "    <tr>\n",
       "      <th>1</th>\n",
       "      <td>AL</td>\n",
       "      <td>-1.0</td>\n",
       "      <td>2103</td>\n",
       "    </tr>\n",
       "    <tr>\n",
       "      <th>2</th>\n",
       "      <td>AL</td>\n",
       "      <td>1.0</td>\n",
       "      <td>49415</td>\n",
       "    </tr>\n",
       "    <tr>\n",
       "      <th>3</th>\n",
       "      <td>AL</td>\n",
       "      <td>2.0</td>\n",
       "      <td>23908</td>\n",
       "    </tr>\n",
       "    <tr>\n",
       "      <th>4</th>\n",
       "      <td>AL</td>\n",
       "      <td>4.0</td>\n",
       "      <td>6939</td>\n",
       "    </tr>\n",
       "  </tbody>\n",
       "</table>\n",
       "</div>"
      ],
      "text/plain": [
       "   st  week   cnty\n",
       "0  AL  -2.0    204\n",
       "1  AL  -1.0   2103\n",
       "2  AL   1.0  49415\n",
       "3  AL   2.0  23908\n",
       "4  AL   4.0   6939"
      ]
     },
     "execution_count": 74,
     "metadata": {},
     "output_type": "execute_result"
    }
   ],
   "source": [
    "final.head()"
   ]
  },
  {
   "cell_type": "code",
   "execution_count": 75,
   "metadata": {
    "collapsed": true
   },
   "outputs": [],
   "source": [
    "# finally\n",
    "f = name_file_path('state-tweet-counts.csv', processed_web_dir)\n",
    "\n",
    "final.rename(columns={'cnty': 'cnt'}, inplace=True)\n",
    "final.to_csv(f, index=False)"
   ]
  },
  {
   "cell_type": "code",
   "execution_count": 76,
   "metadata": {
    "collapsed": true
   },
   "outputs": [],
   "source": [
    "conn.close()"
   ]
  },
  {
   "cell_type": "code",
   "execution_count": null,
   "metadata": {
    "collapsed": true
   },
   "outputs": [],
   "source": []
  }
 ],
 "metadata": {
  "kernelspec": {
   "display_name": "Python 3",
   "language": "python",
   "name": "python3"
  },
  "language_info": {
   "codemirror_mode": {
    "name": "ipython",
    "version": 3
   },
   "file_extension": ".py",
   "mimetype": "text/x-python",
   "name": "python",
   "nbconvert_exporter": "python",
   "pygments_lexer": "ipython3",
   "version": "3.6.1"
  }
 },
 "nbformat": 4,
 "nbformat_minor": 2
}
