{
 "cells": [
  {
   "cell_type": "markdown",
   "metadata": {},
   "source": [
    "# Tweet # Counts\n",
    "\n",
    "Time series, counts by week.\n",
    "\n",
    "\n",
    "#### Libraries + DB"
   ]
  },
  {
   "cell_type": "code",
   "execution_count": 1,
   "metadata": {
    "collapsed": true
   },
   "outputs": [],
   "source": [
    "%run utilities.py\n",
    "%run ../../src/secret_key.py\n",
    "\n",
    "# for hashtag count summation\n",
    "import numpy as np\n",
    "\n",
    "import psycopg2 as pg\n",
    "import pandas.io.sql as psql\n",
    "\n",
    "from matplotlib import pyplot as plt\n",
    "%matplotlib inline"
   ]
  },
  {
   "cell_type": "code",
   "execution_count": 2,
   "metadata": {
    "collapsed": true
   },
   "outputs": [],
   "source": [
    "## get connected to the database\n",
    "conn_str = \"dbname='immigration' user='rlrson' password={}\".format(pw)\n",
    "conn = pg.connect(conn_str)"
   ]
  },
  {
   "cell_type": "markdown",
   "metadata": {},
   "source": [
    "#### Time Periods\n",
    "\n",
    "Caglar has broken them down into before/after the 'epoch' date. Lets pull them in."
   ]
  },
  {
   "cell_type": "code",
   "execution_count": 3,
   "metadata": {},
   "outputs": [
    {
     "data": {
      "text/html": [
       "<div>\n",
       "<style>\n",
       "    .dataframe thead tr:only-child th {\n",
       "        text-align: right;\n",
       "    }\n",
       "\n",
       "    .dataframe thead th {\n",
       "        text-align: left;\n",
       "    }\n",
       "\n",
       "    .dataframe tbody tr th {\n",
       "        vertical-align: top;\n",
       "    }\n",
       "</style>\n",
       "<table border=\"1\" class=\"dataframe\">\n",
       "  <thead>\n",
       "    <tr style=\"text-align: right;\">\n",
       "      <th></th>\n",
       "      <th>id</th>\n",
       "      <th>startinterval</th>\n",
       "      <th>endinterval</th>\n",
       "    </tr>\n",
       "  </thead>\n",
       "  <tbody>\n",
       "    <tr>\n",
       "      <th>0</th>\n",
       "      <td>1</td>\n",
       "      <td>2016-12-27 10:00:00+00:00</td>\n",
       "      <td>2017-01-27 10:00:00+00:00</td>\n",
       "    </tr>\n",
       "    <tr>\n",
       "      <th>1</th>\n",
       "      <td>2</td>\n",
       "      <td>2017-01-28 10:00:00+00:00</td>\n",
       "      <td>2017-02-27 10:00:00+00:00</td>\n",
       "    </tr>\n",
       "    <tr>\n",
       "      <th>2</th>\n",
       "      <td>3</td>\n",
       "      <td>2017-01-21 10:00:00+00:00</td>\n",
       "      <td>2017-01-27 10:00:00+00:00</td>\n",
       "    </tr>\n",
       "    <tr>\n",
       "      <th>3</th>\n",
       "      <td>4</td>\n",
       "      <td>2017-01-28 10:00:00+00:00</td>\n",
       "      <td>2017-02-03 10:00:00+00:00</td>\n",
       "    </tr>\n",
       "    <tr>\n",
       "      <th>4</th>\n",
       "      <td>5</td>\n",
       "      <td>2017-01-26 10:00:00+00:00</td>\n",
       "      <td>2017-01-27 10:00:00+00:00</td>\n",
       "    </tr>\n",
       "    <tr>\n",
       "      <th>5</th>\n",
       "      <td>6</td>\n",
       "      <td>2017-01-28 10:00:00+00:00</td>\n",
       "      <td>2017-01-29 10:00:00+00:00</td>\n",
       "    </tr>\n",
       "  </tbody>\n",
       "</table>\n",
       "</div>"
      ],
      "text/plain": [
       "   id             startinterval               endinterval\n",
       "0   1 2016-12-27 10:00:00+00:00 2017-01-27 10:00:00+00:00\n",
       "1   2 2017-01-28 10:00:00+00:00 2017-02-27 10:00:00+00:00\n",
       "2   3 2017-01-21 10:00:00+00:00 2017-01-27 10:00:00+00:00\n",
       "3   4 2017-01-28 10:00:00+00:00 2017-02-03 10:00:00+00:00\n",
       "4   5 2017-01-26 10:00:00+00:00 2017-01-27 10:00:00+00:00\n",
       "5   6 2017-01-28 10:00:00+00:00 2017-01-29 10:00:00+00:00"
      ]
     },
     "execution_count": 3,
     "metadata": {},
     "output_type": "execute_result"
    }
   ],
   "source": [
    "time_periods = pd.read_sql(\"SELECT * FROM timeinterval;\", con=conn)\n",
    "time_periods"
   ]
  },
  {
   "cell_type": "code",
   "execution_count": 4,
   "metadata": {},
   "outputs": [
    {
     "data": {
      "text/plain": [
       "id                             int64\n",
       "startinterval    datetime64[ns, UTC]\n",
       "endinterval      datetime64[ns, UTC]\n",
       "dtype: object"
      ]
     },
     "execution_count": 4,
     "metadata": {},
     "output_type": "execute_result"
    }
   ],
   "source": [
    "time_periods.dtypes"
   ]
  },
  {
   "cell_type": "code",
   "execution_count": 5,
   "metadata": {
    "collapsed": true
   },
   "outputs": [],
   "source": [
    "# set variables so we can specify a beginning/end for our SQL queries\n",
    "start = time_periods.iloc[0]['startinterval'].tz_convert(None)\n",
    "end = time_periods.iloc[1]['endinterval'].tz_convert(None)"
   ]
  },
  {
   "cell_type": "markdown",
   "metadata": {},
   "source": [
    "#### Week Categorization\n",
    "\n",
    "We need to create a mapping that will return the week number for us. We'll start at the epoch and work our way backwards week by week. After a month we'll do 'after' the epoch."
   ]
  },
  {
   "cell_type": "code",
   "execution_count": 6,
   "metadata": {
    "collapsed": true
   },
   "outputs": [],
   "source": [
    "# set the time variables\n",
    "# epoch_start - (delta_week * 4) >> Timestamp('2016-12-30 10:00:00')\n",
    "# start >> Timestamp('2016-12-27 10:00:00+0000', tz='UTC')\n",
    "\n",
    "# Epoch\n",
    "epoch_start = pd.to_datetime('2017-01-27 10:00:00+00:00', utc=True).tz_convert(None)\n",
    "epoch_end = pd.to_datetime('2017-01-28 10:00:00+00:00', utc=True).tz_convert(None)\n",
    "\n",
    "# delta\n",
    "delta_week = pd.Timedelta('7 days')\n",
    "\n",
    "# before\n",
    "four_before = epoch_start - (delta_week * 4)\n",
    "three_before = epoch_start - (delta_week * 3)\n",
    "two_before = epoch_start - (delta_week * 2)\n",
    "one_before = epoch_start - (delta_week * 1)\n",
    "\n",
    "# after\n",
    "four_after = epoch_end + (delta_week * 4)\n",
    "three_after = epoch_end + (delta_week * 3)\n",
    "two_after = epoch_end + (delta_week * 2)\n",
    "one_after = epoch_end + (delta_week * 1)\n",
    "\n",
    "\n",
    "def get_week_number(week):\n",
    "    try:\n",
    "        week = pd.to_datetime(week, infer_datetime_format=True)\n",
    "    \n",
    "        # catch, before/after?\n",
    "        if (week < start) or (week > end):\n",
    "            return None\n",
    "\n",
    "        if (week < four_before):\n",
    "            return -5\n",
    "        elif (week < three_before):\n",
    "            return -4\n",
    "        elif (week < two_before):\n",
    "            return -3\n",
    "        elif (week < one_before):\n",
    "            return -2\n",
    "        elif (week < epoch_start):\n",
    "            return -1\n",
    "        elif (week < epoch_end):\n",
    "            return 0\n",
    "        elif (week < one_after):\n",
    "            return 1\n",
    "        elif (week < two_after):\n",
    "            return 2\n",
    "        elif (week < three_after):\n",
    "            return 3\n",
    "        elif (week < four_after):\n",
    "            return 4\n",
    "        else:\n",
    "            return 5\n",
    "    except Exception as e:\n",
    "        print (e, week)\n",
    "        return None"
   ]
  },
  {
   "cell_type": "markdown",
   "metadata": {},
   "source": [
    "#### Tweets\n",
    "\n",
    "We need a count of tweets from every county, for every week (8: 4-before/after). The `tweet` table has tweetid, tweet, date, userid, id, lon, lat, cntyid."
   ]
  },
  {
   "cell_type": "code",
   "execution_count": 7,
   "metadata": {},
   "outputs": [
    {
     "data": {
      "text/html": [
       "<div>\n",
       "<style>\n",
       "    .dataframe thead tr:only-child th {\n",
       "        text-align: right;\n",
       "    }\n",
       "\n",
       "    .dataframe thead th {\n",
       "        text-align: left;\n",
       "    }\n",
       "\n",
       "    .dataframe tbody tr th {\n",
       "        vertical-align: top;\n",
       "    }\n",
       "</style>\n",
       "<table border=\"1\" class=\"dataframe\">\n",
       "  <thead>\n",
       "    <tr style=\"text-align: right;\">\n",
       "      <th></th>\n",
       "      <th>tweetid</th>\n",
       "      <th>date</th>\n",
       "      <th>tweet</th>\n",
       "    </tr>\n",
       "  </thead>\n",
       "  <tbody>\n",
       "    <tr>\n",
       "      <th>0</th>\n",
       "      <td>819736256682803201</td>\n",
       "      <td>2017-01-12</td>\n",
       "      <td>الذكر عند الخروج من المنزل:بسم الله توكَّلْتُ ...</td>\n",
       "    </tr>\n",
       "    <tr>\n",
       "      <th>1</th>\n",
       "      <td>819736257949528065</td>\n",
       "      <td>2017-01-12</td>\n",
       "      <td>اللهم أعذنا من عذاب القبر وعذاب جهنم ♻️</td>\n",
       "    </tr>\n",
       "    <tr>\n",
       "      <th>2</th>\n",
       "      <td>819736261476970497</td>\n",
       "      <td>2017-01-12</td>\n",
       "      <td>الذكر عند الخروج من المنزل:بسم الله توكَّلْتُ ...</td>\n",
       "    </tr>\n",
       "    <tr>\n",
       "      <th>3</th>\n",
       "      <td>819736261971869702</td>\n",
       "      <td>2017-01-12</td>\n",
       "      <td>ربي أعوذ بك من الكسل وسوء الكبر  ♻️</td>\n",
       "    </tr>\n",
       "    <tr>\n",
       "      <th>4</th>\n",
       "      <td>819736262655569921</td>\n",
       "      <td>2017-01-12</td>\n",
       "      <td>اللهم أعذنا من عذاب القبر وعذاب جهنم ♻️</td>\n",
       "    </tr>\n",
       "    <tr>\n",
       "      <th>5</th>\n",
       "      <td>819736264475865088</td>\n",
       "      <td>2017-01-12</td>\n",
       "      <td>اللهم اهدني فيمن هديت وعافني فيمن عافيت وتولني...</td>\n",
       "    </tr>\n",
       "    <tr>\n",
       "      <th>6</th>\n",
       "      <td>819736266711461893</td>\n",
       "      <td>2017-01-12</td>\n",
       "      <td>اللهم اهدني فيمن هديت وعافني فيمن عافيت وتولني...</td>\n",
       "    </tr>\n",
       "    <tr>\n",
       "      <th>7</th>\n",
       "      <td>819736266832891904</td>\n",
       "      <td>2017-01-12</td>\n",
       "      <td>RT : Also  Pl Ask Ur Muslim Bros 2 Care 4 Hind...</td>\n",
       "    </tr>\n",
       "    <tr>\n",
       "      <th>8</th>\n",
       "      <td>819736272369500160</td>\n",
       "      <td>2017-01-12</td>\n",
       "      <td>اللهم أعذنا من عذاب القبر وعذاب جهنم ♻️</td>\n",
       "    </tr>\n",
       "    <tr>\n",
       "      <th>9</th>\n",
       "      <td>819736274194038784</td>\n",
       "      <td>2017-01-12</td>\n",
       "      <td>ربي أعوذ بك من الكسل وسوء الكبر  ♻️</td>\n",
       "    </tr>\n",
       "  </tbody>\n",
       "</table>\n",
       "</div>"
      ],
      "text/plain": [
       "              tweetid        date  \\\n",
       "0  819736256682803201  2017-01-12   \n",
       "1  819736257949528065  2017-01-12   \n",
       "2  819736261476970497  2017-01-12   \n",
       "3  819736261971869702  2017-01-12   \n",
       "4  819736262655569921  2017-01-12   \n",
       "5  819736264475865088  2017-01-12   \n",
       "6  819736266711461893  2017-01-12   \n",
       "7  819736266832891904  2017-01-12   \n",
       "8  819736272369500160  2017-01-12   \n",
       "9  819736274194038784  2017-01-12   \n",
       "\n",
       "                                               tweet  \n",
       "0  الذكر عند الخروج من المنزل:بسم الله توكَّلْتُ ...  \n",
       "1            اللهم أعذنا من عذاب القبر وعذاب جهنم ♻️  \n",
       "2  الذكر عند الخروج من المنزل:بسم الله توكَّلْتُ ...  \n",
       "3                ربي أعوذ بك من الكسل وسوء الكبر  ♻️  \n",
       "4            اللهم أعذنا من عذاب القبر وعذاب جهنم ♻️  \n",
       "5  اللهم اهدني فيمن هديت وعافني فيمن عافيت وتولني...  \n",
       "6  اللهم اهدني فيمن هديت وعافني فيمن عافيت وتولني...  \n",
       "7  RT : Also  Pl Ask Ur Muslim Bros 2 Care 4 Hind...  \n",
       "8            اللهم أعذنا من عذاب القبر وعذاب جهنم ♻️  \n",
       "9                ربي أعوذ بك من الكسل وسوء الكبر  ♻️  "
      ]
     },
     "execution_count": 7,
     "metadata": {},
     "output_type": "execute_result"
    }
   ],
   "source": [
    "query_test = \"SELECT tweetID, date::date, tweet  FROM tweet LIMIT 10;\"\n",
    "test_df = pd.read_sql(query_test, con=conn)\n",
    "\n",
    "test_df.head(10)"
   ]
  },
  {
   "cell_type": "code",
   "execution_count": 8,
   "metadata": {},
   "outputs": [
    {
     "data": {
      "text/html": [
       "<div>\n",
       "<style>\n",
       "    .dataframe thead tr:only-child th {\n",
       "        text-align: right;\n",
       "    }\n",
       "\n",
       "    .dataframe thead th {\n",
       "        text-align: left;\n",
       "    }\n",
       "\n",
       "    .dataframe tbody tr th {\n",
       "        vertical-align: top;\n",
       "    }\n",
       "</style>\n",
       "<table border=\"1\" class=\"dataframe\">\n",
       "  <thead>\n",
       "    <tr style=\"text-align: right;\">\n",
       "      <th></th>\n",
       "      <th>date</th>\n",
       "      <th>tweet</th>\n",
       "    </tr>\n",
       "  </thead>\n",
       "  <tbody>\n",
       "    <tr>\n",
       "      <th>0</th>\n",
       "      <td>2017-01-12</td>\n",
       "      <td>الذكر عند الخروج من المنزل:بسم الله توكَّلْتُ ...</td>\n",
       "    </tr>\n",
       "    <tr>\n",
       "      <th>1</th>\n",
       "      <td>2017-01-12</td>\n",
       "      <td>اللهم أعذنا من عذاب القبر وعذاب جهنم ♻️</td>\n",
       "    </tr>\n",
       "  </tbody>\n",
       "</table>\n",
       "</div>"
      ],
      "text/plain": [
       "         date                                              tweet\n",
       "0  2017-01-12  الذكر عند الخروج من المنزل:بسم الله توكَّلْتُ ...\n",
       "1  2017-01-12            اللهم أعذنا من عذاب القبر وعذاب جهنم ♻️"
      ]
     },
     "execution_count": 8,
     "metadata": {},
     "output_type": "execute_result"
    }
   ],
   "source": [
    "tweet_query = \"SELECT date::date, tweet FROM tweet LIMIT 75000;\"\n",
    "tweet_df = pd.read_sql(tweet_query, con=conn)\n",
    "\n",
    "tweet_df.head(2)"
   ]
  },
  {
   "cell_type": "code",
   "execution_count": 9,
   "metadata": {},
   "outputs": [
    {
     "data": {
      "text/plain": [
       "date     object\n",
       "tweet    object\n",
       "dtype: object"
      ]
     },
     "execution_count": 9,
     "metadata": {},
     "output_type": "execute_result"
    }
   ],
   "source": [
    "tweet_df.dtypes"
   ]
  },
  {
   "cell_type": "markdown",
   "metadata": {},
   "source": [
    "### Hashtags"
   ]
  },
  {
   "cell_type": "code",
   "execution_count": 10,
   "metadata": {
    "collapsed": true
   },
   "outputs": [],
   "source": [
    "# https://stackoverflow.com/questions/6331497/an-elegant-way-to-get-hashtags-out-of-a-string-in-python\n",
    "def get_hashtags(text):\n",
    "    try:\n",
    "        tags = set([item.strip(\"#.,-\\\"\\'&*^!\").lower() \n",
    "                    for item in text.split() \n",
    "                    if ((item.startswith(\"#\") == True) \n",
    "                        and (item.startswith(\"...\") == False) \n",
    "                        and (item.endswith(\"...\") == False) \n",
    "                        and (item.startswith(\"…\") == False) \n",
    "                        and (item.endswith(\"…\") == False) \n",
    "                        and len(item) < 256)])\n",
    "\n",
    "        if bool(tags):\n",
    "            return list(tags)\n",
    "        else:\n",
    "            return None\n",
    "    except Exception as e:\n",
    "        print (e, text)\n",
    "        return None"
   ]
  },
  {
   "cell_type": "code",
   "execution_count": 11,
   "metadata": {},
   "outputs": [
    {
     "data": {
      "text/html": [
       "<div>\n",
       "<style>\n",
       "    .dataframe thead tr:only-child th {\n",
       "        text-align: right;\n",
       "    }\n",
       "\n",
       "    .dataframe thead th {\n",
       "        text-align: left;\n",
       "    }\n",
       "\n",
       "    .dataframe tbody tr th {\n",
       "        vertical-align: top;\n",
       "    }\n",
       "</style>\n",
       "<table border=\"1\" class=\"dataframe\">\n",
       "  <thead>\n",
       "    <tr style=\"text-align: right;\">\n",
       "      <th></th>\n",
       "      <th>date</th>\n",
       "      <th>tweet</th>\n",
       "      <th>tags</th>\n",
       "    </tr>\n",
       "  </thead>\n",
       "  <tbody>\n",
       "    <tr>\n",
       "      <th>0</th>\n",
       "      <td>2017-01-12</td>\n",
       "      <td>الذكر عند الخروج من المنزل:بسم الله توكَّلْتُ ...</td>\n",
       "      <td>None</td>\n",
       "    </tr>\n",
       "    <tr>\n",
       "      <th>1</th>\n",
       "      <td>2017-01-12</td>\n",
       "      <td>اللهم أعذنا من عذاب القبر وعذاب جهنم ♻️</td>\n",
       "      <td>None</td>\n",
       "    </tr>\n",
       "    <tr>\n",
       "      <th>2</th>\n",
       "      <td>2017-01-12</td>\n",
       "      <td>الذكر عند الخروج من المنزل:بسم الله توكَّلْتُ ...</td>\n",
       "      <td>None</td>\n",
       "    </tr>\n",
       "    <tr>\n",
       "      <th>3</th>\n",
       "      <td>2017-01-12</td>\n",
       "      <td>ربي أعوذ بك من الكسل وسوء الكبر  ♻️</td>\n",
       "      <td>None</td>\n",
       "    </tr>\n",
       "    <tr>\n",
       "      <th>4</th>\n",
       "      <td>2017-01-12</td>\n",
       "      <td>اللهم أعذنا من عذاب القبر وعذاب جهنم ♻️</td>\n",
       "      <td>None</td>\n",
       "    </tr>\n",
       "  </tbody>\n",
       "</table>\n",
       "</div>"
      ],
      "text/plain": [
       "         date                                              tweet  tags\n",
       "0  2017-01-12  الذكر عند الخروج من المنزل:بسم الله توكَّلْتُ ...  None\n",
       "1  2017-01-12            اللهم أعذنا من عذاب القبر وعذاب جهنم ♻️  None\n",
       "2  2017-01-12  الذكر عند الخروج من المنزل:بسم الله توكَّلْتُ ...  None\n",
       "3  2017-01-12                ربي أعوذ بك من الكسل وسوء الكبر  ♻️  None\n",
       "4  2017-01-12            اللهم أعذنا من عذاب القبر وعذاب جهنم ♻️  None"
      ]
     },
     "execution_count": 11,
     "metadata": {},
     "output_type": "execute_result"
    }
   ],
   "source": [
    "tweet_df['tags'] = tweet_df.tweet.apply(get_hashtags)\n",
    "\n",
    "tweet_df.head()"
   ]
  },
  {
   "cell_type": "code",
   "execution_count": 53,
   "metadata": {},
   "outputs": [],
   "source": [
    "# filter the dataframe to only those tweets with hashtags\n",
    "test = tweet_df[tweet_df['tags'].isnull() == False][['date', 'tags']]"
   ]
  },
  {
   "cell_type": "code",
   "execution_count": 74,
   "metadata": {},
   "outputs": [],
   "source": [
    "test_day = test.groupby('date').apply(group_month_tags).reset_index()\n",
    "test_day.columns = ['date', 'tags']"
   ]
  },
  {
   "cell_type": "code",
   "execution_count": 76,
   "metadata": {},
   "outputs": [
    {
     "data": {
      "text/html": [
       "<div>\n",
       "<style>\n",
       "    .dataframe thead tr:only-child th {\n",
       "        text-align: right;\n",
       "    }\n",
       "\n",
       "    .dataframe thead th {\n",
       "        text-align: left;\n",
       "    }\n",
       "\n",
       "    .dataframe tbody tr th {\n",
       "        vertical-align: top;\n",
       "    }\n",
       "</style>\n",
       "<table border=\"1\" class=\"dataframe\">\n",
       "  <thead>\n",
       "    <tr style=\"text-align: right;\">\n",
       "      <th></th>\n",
       "      <th>date</th>\n",
       "      <th>tags</th>\n",
       "    </tr>\n",
       "  </thead>\n",
       "  <tbody>\n",
       "    <tr>\n",
       "      <th>0</th>\n",
       "      <td>2017-01-12</td>\n",
       "      <td>[spirit212, jihad, ahokermakinkalap, liberals,...</td>\n",
       "    </tr>\n",
       "    <tr>\n",
       "      <th>1</th>\n",
       "      <td>2017-01-13</td>\n",
       "      <td>[followback, followback, isis, islam, quran, t...</td>\n",
       "    </tr>\n",
       "    <tr>\n",
       "      <th>2</th>\n",
       "      <td>2017-01-14</td>\n",
       "      <td>[islam, islam, quran, christianity, art, music...</td>\n",
       "    </tr>\n",
       "  </tbody>\n",
       "</table>\n",
       "</div>"
      ],
      "text/plain": [
       "         date                                               tags\n",
       "0  2017-01-12  [spirit212, jihad, ahokermakinkalap, liberals,...\n",
       "1  2017-01-13  [followback, followback, isis, islam, quran, t...\n",
       "2  2017-01-14  [islam, islam, quran, christianity, art, music..."
      ]
     },
     "execution_count": 76,
     "metadata": {},
     "output_type": "execute_result"
    }
   ],
   "source": [
    "test_day.head()"
   ]
  },
  {
   "cell_type": "code",
   "execution_count": null,
   "metadata": {
    "collapsed": true
   },
   "outputs": [],
   "source": []
  },
  {
   "cell_type": "code",
   "execution_count": null,
   "metadata": {
    "collapsed": true
   },
   "outputs": [],
   "source": []
  },
  {
   "cell_type": "code",
   "execution_count": null,
   "metadata": {
    "collapsed": true
   },
   "outputs": [],
   "source": []
  },
  {
   "cell_type": "code",
   "execution_count": null,
   "metadata": {
    "collapsed": true
   },
   "outputs": [],
   "source": []
  },
  {
   "cell_type": "code",
   "execution_count": null,
   "metadata": {
    "collapsed": true
   },
   "outputs": [],
   "source": []
  },
  {
   "cell_type": "code",
   "execution_count": null,
   "metadata": {
    "collapsed": true
   },
   "outputs": [],
   "source": []
  },
  {
   "cell_type": "code",
   "execution_count": null,
   "metadata": {
    "collapsed": true
   },
   "outputs": [],
   "source": []
  },
  {
   "cell_type": "code",
   "execution_count": null,
   "metadata": {
    "collapsed": true
   },
   "outputs": [],
   "source": []
  },
  {
   "cell_type": "code",
   "execution_count": null,
   "metadata": {
    "collapsed": true
   },
   "outputs": [],
   "source": []
  },
  {
   "cell_type": "code",
   "execution_count": null,
   "metadata": {
    "collapsed": true
   },
   "outputs": [],
   "source": []
  },
  {
   "cell_type": "code",
   "execution_count": null,
   "metadata": {
    "collapsed": true
   },
   "outputs": [],
   "source": []
  },
  {
   "cell_type": "code",
   "execution_count": 84,
   "metadata": {},
   "outputs": [
    {
     "data": {
      "text/html": [
       "<div>\n",
       "<style>\n",
       "    .dataframe thead tr:only-child th {\n",
       "        text-align: right;\n",
       "    }\n",
       "\n",
       "    .dataframe thead th {\n",
       "        text-align: left;\n",
       "    }\n",
       "\n",
       "    .dataframe tbody tr th {\n",
       "        vertical-align: top;\n",
       "    }\n",
       "</style>\n",
       "<table border=\"1\" class=\"dataframe\">\n",
       "  <thead>\n",
       "    <tr style=\"text-align: right;\">\n",
       "      <th></th>\n",
       "      <th>date</th>\n",
       "      <th>tags</th>\n",
       "    </tr>\n",
       "  </thead>\n",
       "  <tbody>\n",
       "    <tr>\n",
       "      <th>38</th>\n",
       "      <td>2017-01-12</td>\n",
       "      <td>[spirit212, jihad, ahokermakinkalap]</td>\n",
       "    </tr>\n",
       "    <tr>\n",
       "      <th>54</th>\n",
       "      <td>2017-01-12</td>\n",
       "      <td>[liberals]</td>\n",
       "    </tr>\n",
       "    <tr>\n",
       "      <th>269</th>\n",
       "      <td>2017-01-12</td>\n",
       "      <td>[spirit212, jihad, ahokermakinkalap]</td>\n",
       "    </tr>\n",
       "    <tr>\n",
       "      <th>315</th>\n",
       "      <td>2017-01-12</td>\n",
       "      <td>[muslim]</td>\n",
       "    </tr>\n",
       "    <tr>\n",
       "      <th>414</th>\n",
       "      <td>2017-01-12</td>\n",
       "      <td>[rapefugees]</td>\n",
       "    </tr>\n",
       "    <tr>\n",
       "      <th>3192</th>\n",
       "      <td>2017-01-14</td>\n",
       "      <td>[islam]</td>\n",
       "    </tr>\n",
       "    <tr>\n",
       "      <th>14004</th>\n",
       "      <td>2017-01-13</td>\n",
       "      <td>[followback]</td>\n",
       "    </tr>\n",
       "    <tr>\n",
       "      <th>14027</th>\n",
       "      <td>2017-01-13</td>\n",
       "      <td>[followback]</td>\n",
       "    </tr>\n",
       "    <tr>\n",
       "      <th>14352</th>\n",
       "      <td>2017-01-13</td>\n",
       "      <td>[isis, islam, quran, taliban, alnusra, alqaeda]</td>\n",
       "    </tr>\n",
       "    <tr>\n",
       "      <th>14492</th>\n",
       "      <td>2017-01-13</td>\n",
       "      <td>[iraq, lebanon, egypt, bahrain, syria, jordan]</td>\n",
       "    </tr>\n",
       "    <tr>\n",
       "      <th>14802</th>\n",
       "      <td>2017-01-13</td>\n",
       "      <td>[influential, muslim, quransays, mohammadshaikh]</td>\n",
       "    </tr>\n",
       "    <tr>\n",
       "      <th>22960</th>\n",
       "      <td>2017-01-14</td>\n",
       "      <td>[islam, quran, christianity]</td>\n",
       "    </tr>\n",
       "    <tr>\n",
       "      <th>26152</th>\n",
       "      <td>2017-01-14</td>\n",
       "      <td>[art, music, sales]</td>\n",
       "    </tr>\n",
       "    <tr>\n",
       "      <th>34184</th>\n",
       "      <td>2017-01-14</td>\n",
       "      <td>[followback]</td>\n",
       "    </tr>\n",
       "    <tr>\n",
       "      <th>73522</th>\n",
       "      <td>2017-01-14</td>\n",
       "      <td>[spirit212, jihad, ahokermakinkalap]</td>\n",
       "    </tr>\n",
       "  </tbody>\n",
       "</table>\n",
       "</div>"
      ],
      "text/plain": [
       "             date                                              tags\n",
       "38     2017-01-12              [spirit212, jihad, ahokermakinkalap]\n",
       "54     2017-01-12                                        [liberals]\n",
       "269    2017-01-12              [spirit212, jihad, ahokermakinkalap]\n",
       "315    2017-01-12                                          [muslim]\n",
       "414    2017-01-12                                      [rapefugees]\n",
       "3192   2017-01-14                                           [islam]\n",
       "14004  2017-01-13                                      [followback]\n",
       "14027  2017-01-13                                      [followback]\n",
       "14352  2017-01-13   [isis, islam, quran, taliban, alnusra, alqaeda]\n",
       "14492  2017-01-13    [iraq, lebanon, egypt, bahrain, syria, jordan]\n",
       "14802  2017-01-13  [influential, muslim, quransays, mohammadshaikh]\n",
       "22960  2017-01-14                      [islam, quran, christianity]\n",
       "26152  2017-01-14                               [art, music, sales]\n",
       "34184  2017-01-14                                      [followback]\n",
       "73522  2017-01-14              [spirit212, jihad, ahokermakinkalap]"
      ]
     },
     "execution_count": 84,
     "metadata": {},
     "output_type": "execute_result"
    }
   ],
   "source": [
    "so_far = count_tweets(tweet_df)\n",
    "so_far.head()"
   ]
  },
  {
   "cell_type": "code",
   "execution_count": 86,
   "metadata": {},
   "outputs": [
    {
     "data": {
      "text/plain": [
       "pandas.core.series.Series"
      ]
     },
     "execution_count": 86,
     "metadata": {},
     "output_type": "execute_result"
    }
   ],
   "source": [
    "type(so_far.apply(group_month_tags))"
   ]
  },
  {
   "cell_type": "markdown",
   "metadata": {},
   "source": [
    "#### Parallelize\n",
    "\n",
    "This is going to take forever unless we do."
   ]
  },
  {
   "cell_type": "code",
   "execution_count": 68,
   "metadata": {
    "collapsed": true
   },
   "outputs": [],
   "source": [
    "from multiprocessing import Pool  # faster\n",
    "\n",
    "def parallelize_series(series, func):\n",
    "    pool = Pool(6)\n",
    "\n",
    "    df = pool.map(func, series)\n",
    "\n",
    "    pool.close()\n",
    "    pool.join()\n",
    "    return df\n",
    "\n",
    "def group_month_tags(dataframe):\n",
    "    \"\"\"\n",
    "    Takes a Pandas Dataframe[date, tags] and returns a concatentation of them all\n",
    "    \"\"\"\n",
    "    return np.concatenate(dataframe.tags.values)\n",
    "\n",
    "def count_month_tags(grouped_series, day):\n",
    "    counts = pd.value_counts(grouped_series)\n",
    "    \n",
    "    counts = counts.reset_index()\n",
    "    counts.columns = ['tag', 'count']\n",
    "    \n",
    "    counts['date'] = day\n",
    "    # rename here\n",
    "    return counts"
   ]
  },
  {
   "cell_type": "markdown",
   "metadata": {},
   "source": [
    "#### DataFrame Construction\n",
    "\n",
    "Putting together everything we've done so far:\n",
    "1. Read in the tweets\n",
    "2. Calculate the hashtags variable column\n",
    "3. Filter the dataframe to only those with hashtags\n",
    "4. GroupBy the `date` column, and concatenate all of the hashtags within that day\n",
    "5. Get value counts of the hashtags as a dataframe\n",
    "6. add to the regular."
   ]
  },
  {
   "cell_type": "code",
   "execution_count": 82,
   "metadata": {
    "collapsed": true
   },
   "outputs": [],
   "source": [
    "def count_tweets(tweets):\n",
    "    # 2\n",
    "    #tweets['tags'] = tweets['tweet'].apply(get_hashtags)\n",
    "    tweets['tags'] = parallelize_series(tweets['tweet'].values, get_hashtags)\n",
    "    \n",
    "    # 3 \n",
    "    tweets = tweets[tweets['tags'].isnull() == False]\n",
    "    \n",
    "    # 4\n",
    "    by_day = tweets[['date', 'tags']].groupby('date')#.apply(group_month_tags)\n",
    "    \n",
    "    # 5\n",
    "    counts = pd.DataFrame()\n",
    "    #for date, tags in by_day:\n",
    "        #all_tags = group_month_tags(tags)\n",
    "        #temp_counts = pd.value_counts(all_tags)\n",
    "    return by_day"
   ]
  },
  {
   "cell_type": "code",
   "execution_count": 66,
   "metadata": {
    "collapsed": true
   },
   "outputs": [],
   "source": [
    "# df = pd.DataFrame()\n",
    "# for chunk in pd.read_sql('select * from table_name', con=conn, chunksize=5000):\n",
    "#    df = df.append(chunk)\n",
    "\n",
    "# fake_query to test\n",
    "counts = pd.DataFrame()\n",
    "for chunk in pd.read_sql(tweet_query, con=conn, chunksize=5000):\n",
    "    formatted = group_tweets(chunk)\n",
    "    counts = counts.append(formatted)"
   ]
  },
  {
   "cell_type": "markdown",
   "metadata": {},
   "source": [
    "#### Actual Counts!!!"
   ]
  },
  {
   "cell_type": "code",
   "execution_count": 70,
   "metadata": {
    "collapsed": true
   },
   "outputs": [],
   "source": [
    "# for real this time\n",
    "full_query = \"\"\n",
    "\n",
    "st_cnts = pd.DataFrame()\n",
    "for chunk in pd.read_sql(full_query, con=conn, chunksize=50000):\n",
    "    formatted = group_tweets(chunk)\n",
    "    st_cnts = st_cnts.append(formatted)"
   ]
  },
  {
   "cell_type": "code",
   "execution_count": 82,
   "metadata": {
    "collapsed": true
   },
   "outputs": [],
   "source": [
    "# work here"
   ]
  },
  {
   "cell_type": "code",
   "execution_count": 74,
   "metadata": {},
   "outputs": [
    {
     "data": {
      "text/html": [
       "<div>\n",
       "<style>\n",
       "    .dataframe thead tr:only-child th {\n",
       "        text-align: right;\n",
       "    }\n",
       "\n",
       "    .dataframe thead th {\n",
       "        text-align: left;\n",
       "    }\n",
       "\n",
       "    .dataframe tbody tr th {\n",
       "        vertical-align: top;\n",
       "    }\n",
       "</style>\n",
       "<table border=\"1\" class=\"dataframe\">\n",
       "  <thead>\n",
       "    <tr style=\"text-align: right;\">\n",
       "      <th></th>\n",
       "      <th>st</th>\n",
       "      <th>week</th>\n",
       "      <th>cnty</th>\n",
       "    </tr>\n",
       "  </thead>\n",
       "  <tbody>\n",
       "    <tr>\n",
       "      <th>0</th>\n",
       "      <td>AL</td>\n",
       "      <td>-2.0</td>\n",
       "      <td>204</td>\n",
       "    </tr>\n",
       "    <tr>\n",
       "      <th>1</th>\n",
       "      <td>AL</td>\n",
       "      <td>-1.0</td>\n",
       "      <td>2103</td>\n",
       "    </tr>\n",
       "    <tr>\n",
       "      <th>2</th>\n",
       "      <td>AL</td>\n",
       "      <td>1.0</td>\n",
       "      <td>49415</td>\n",
       "    </tr>\n",
       "    <tr>\n",
       "      <th>3</th>\n",
       "      <td>AL</td>\n",
       "      <td>2.0</td>\n",
       "      <td>23908</td>\n",
       "    </tr>\n",
       "    <tr>\n",
       "      <th>4</th>\n",
       "      <td>AL</td>\n",
       "      <td>4.0</td>\n",
       "      <td>6939</td>\n",
       "    </tr>\n",
       "  </tbody>\n",
       "</table>\n",
       "</div>"
      ],
      "text/plain": [
       "   st  week   cnty\n",
       "0  AL  -2.0    204\n",
       "1  AL  -1.0   2103\n",
       "2  AL   1.0  49415\n",
       "3  AL   2.0  23908\n",
       "4  AL   4.0   6939"
      ]
     },
     "execution_count": 74,
     "metadata": {},
     "output_type": "execute_result"
    }
   ],
   "source": [
    "final.head()"
   ]
  },
  {
   "cell_type": "code",
   "execution_count": 75,
   "metadata": {
    "collapsed": true
   },
   "outputs": [],
   "source": [
    "# finally\n",
    "f = name_file_path('state-tweet-counts.csv', processed_web_dir)\n",
    "\n",
    "final.rename(columns={'cnty': 'cnt'}, inplace=True)\n",
    "final.to_csv(f, index=False)"
   ]
  },
  {
   "cell_type": "markdown",
   "metadata": {},
   "source": [
    "---"
   ]
  },
  {
   "cell_type": "code",
   "execution_count": 76,
   "metadata": {
    "collapsed": true
   },
   "outputs": [],
   "source": [
    "conn.close()"
   ]
  },
  {
   "cell_type": "code",
   "execution_count": 48,
   "metadata": {},
   "outputs": [
    {
     "data": {
      "text/html": [
       "<style>.container { width:85% !important; }</style>"
      ],
      "text/plain": [
       "<IPython.core.display.HTML object>"
      ]
     },
     "metadata": {},
     "output_type": "display_data"
    }
   ],
   "source": [
    "# Wide cells\n",
    "from IPython.core.display import display, HTML\n",
    "display(HTML(\"<style>.container { width:85% !important; }</style>\"))\n",
    "\n",
    "# number of text characters per column\n",
    "pd.set_option('max_colwidth', 140)"
   ]
  }
 ],
 "metadata": {
  "kernelspec": {
   "display_name": "Python 3",
   "language": "python",
   "name": "python3"
  },
  "language_info": {
   "codemirror_mode": {
    "name": "ipython",
    "version": 3
   },
   "file_extension": ".py",
   "mimetype": "text/x-python",
   "name": "python",
   "nbconvert_exporter": "python",
   "pygments_lexer": "ipython3",
   "version": "3.5.3"
  }
 },
 "nbformat": 4,
 "nbformat_minor": 2
}
