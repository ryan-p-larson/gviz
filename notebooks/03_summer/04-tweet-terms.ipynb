{
 "cells": [
  {
   "cell_type": "markdown",
   "metadata": {},
   "source": [
    "# Tweet # Counts\n",
    "\n",
    "Time series, counts by week.\n",
    "\n",
    "\n",
    "#### Libraries + DB"
   ]
  },
  {
   "cell_type": "code",
   "execution_count": 1,
   "metadata": {
    "collapsed": true
   },
   "outputs": [],
   "source": [
    "%run utilities.py\n",
    "%run ../../src/secret_key.py\n",
    "\n",
    "# for hashtag count summation\n",
    "import numpy as np\n",
    "\n",
    "import psycopg2 as pg\n",
    "import pandas.io.sql as psql\n",
    "\n",
    "from matplotlib import pyplot as plt\n",
    "%matplotlib inline"
   ]
  },
  {
   "cell_type": "code",
   "execution_count": 2,
   "metadata": {
    "collapsed": true
   },
   "outputs": [],
   "source": [
    "## get connected to the database\n",
    "conn_str = \"dbname='immigration' user='rlrson' password={}\".format(pw)\n",
    "conn = pg.connect(conn_str)"
   ]
  },
  {
   "cell_type": "markdown",
   "metadata": {},
   "source": [
    "#### Time Periods\n",
    "\n",
    "Caglar has broken them down into before/after the 'epoch' date. Lets pull them in."
   ]
  },
  {
   "cell_type": "code",
   "execution_count": 3,
   "metadata": {},
   "outputs": [
    {
     "data": {
      "text/html": [
       "<div>\n",
       "<style>\n",
       "    .dataframe thead tr:only-child th {\n",
       "        text-align: right;\n",
       "    }\n",
       "\n",
       "    .dataframe thead th {\n",
       "        text-align: left;\n",
       "    }\n",
       "\n",
       "    .dataframe tbody tr th {\n",
       "        vertical-align: top;\n",
       "    }\n",
       "</style>\n",
       "<table border=\"1\" class=\"dataframe\">\n",
       "  <thead>\n",
       "    <tr style=\"text-align: right;\">\n",
       "      <th></th>\n",
       "      <th>id</th>\n",
       "      <th>startinterval</th>\n",
       "      <th>endinterval</th>\n",
       "    </tr>\n",
       "  </thead>\n",
       "  <tbody>\n",
       "    <tr>\n",
       "      <th>0</th>\n",
       "      <td>1</td>\n",
       "      <td>2016-12-27 10:00:00+00:00</td>\n",
       "      <td>2017-01-27 10:00:00+00:00</td>\n",
       "    </tr>\n",
       "    <tr>\n",
       "      <th>1</th>\n",
       "      <td>2</td>\n",
       "      <td>2017-01-28 10:00:00+00:00</td>\n",
       "      <td>2017-02-27 10:00:00+00:00</td>\n",
       "    </tr>\n",
       "    <tr>\n",
       "      <th>2</th>\n",
       "      <td>3</td>\n",
       "      <td>2017-01-21 10:00:00+00:00</td>\n",
       "      <td>2017-01-27 10:00:00+00:00</td>\n",
       "    </tr>\n",
       "    <tr>\n",
       "      <th>3</th>\n",
       "      <td>4</td>\n",
       "      <td>2017-01-28 10:00:00+00:00</td>\n",
       "      <td>2017-02-03 10:00:00+00:00</td>\n",
       "    </tr>\n",
       "    <tr>\n",
       "      <th>4</th>\n",
       "      <td>5</td>\n",
       "      <td>2017-01-26 10:00:00+00:00</td>\n",
       "      <td>2017-01-27 10:00:00+00:00</td>\n",
       "    </tr>\n",
       "    <tr>\n",
       "      <th>5</th>\n",
       "      <td>6</td>\n",
       "      <td>2017-01-28 10:00:00+00:00</td>\n",
       "      <td>2017-01-29 10:00:00+00:00</td>\n",
       "    </tr>\n",
       "  </tbody>\n",
       "</table>\n",
       "</div>"
      ],
      "text/plain": [
       "   id             startinterval               endinterval\n",
       "0   1 2016-12-27 10:00:00+00:00 2017-01-27 10:00:00+00:00\n",
       "1   2 2017-01-28 10:00:00+00:00 2017-02-27 10:00:00+00:00\n",
       "2   3 2017-01-21 10:00:00+00:00 2017-01-27 10:00:00+00:00\n",
       "3   4 2017-01-28 10:00:00+00:00 2017-02-03 10:00:00+00:00\n",
       "4   5 2017-01-26 10:00:00+00:00 2017-01-27 10:00:00+00:00\n",
       "5   6 2017-01-28 10:00:00+00:00 2017-01-29 10:00:00+00:00"
      ]
     },
     "execution_count": 3,
     "metadata": {},
     "output_type": "execute_result"
    }
   ],
   "source": [
    "time_periods = pd.read_sql(\"SELECT * FROM timeinterval;\", con=conn)\n",
    "time_periods"
   ]
  },
  {
   "cell_type": "code",
   "execution_count": 4,
   "metadata": {},
   "outputs": [
    {
     "data": {
      "text/plain": [
       "id                             int64\n",
       "startinterval    datetime64[ns, UTC]\n",
       "endinterval      datetime64[ns, UTC]\n",
       "dtype: object"
      ]
     },
     "execution_count": 4,
     "metadata": {},
     "output_type": "execute_result"
    }
   ],
   "source": [
    "time_periods.dtypes"
   ]
  },
  {
   "cell_type": "code",
   "execution_count": 5,
   "metadata": {
    "collapsed": true
   },
   "outputs": [],
   "source": [
    "# set variables so we can specify a beginning/end for our SQL queries\n",
    "start = time_periods.iloc[0]['startinterval'].tz_convert(None)\n",
    "end = time_periods.iloc[1]['endinterval'].tz_convert(None)"
   ]
  },
  {
   "cell_type": "markdown",
   "metadata": {},
   "source": [
    "#### Week Categorization\n",
    "\n",
    "We need to create a mapping that will return the week number for us. We'll start at the epoch and work our way backwards week by week. After a month we'll do 'after' the epoch."
   ]
  },
  {
   "cell_type": "code",
   "execution_count": 6,
   "metadata": {
    "collapsed": true
   },
   "outputs": [],
   "source": [
    "# set the time variables\n",
    "# epoch_start - (delta_week * 4) >> Timestamp('2016-12-30 10:00:00')\n",
    "# start >> Timestamp('2016-12-27 10:00:00+0000', tz='UTC')\n",
    "\n",
    "# Epoch\n",
    "epoch_start = pd.to_datetime('2017-01-27 10:00:00+00:00', utc=True).tz_convert(None)\n",
    "epoch_end = pd.to_datetime('2017-01-28 10:00:00+00:00', utc=True).tz_convert(None)\n",
    "\n",
    "# delta\n",
    "delta_week = pd.Timedelta('7 days')\n",
    "\n",
    "# before\n",
    "four_before = epoch_start - (delta_week * 4)\n",
    "three_before = epoch_start - (delta_week * 3)\n",
    "two_before = epoch_start - (delta_week * 2)\n",
    "one_before = epoch_start - (delta_week * 1)\n",
    "\n",
    "# after\n",
    "four_after = epoch_end + (delta_week * 4)\n",
    "three_after = epoch_end + (delta_week * 3)\n",
    "two_after = epoch_end + (delta_week * 2)\n",
    "one_after = epoch_end + (delta_week * 1)\n",
    "\n",
    "\n",
    "def get_week_number(week):\n",
    "    try:\n",
    "        week = pd.to_datetime(week, infer_datetime_format=True)\n",
    "    \n",
    "        # catch, before/after?\n",
    "        if (week < start) or (week > end):\n",
    "            return None\n",
    "\n",
    "        if (week < four_before):\n",
    "            return -5\n",
    "        elif (week < three_before):\n",
    "            return -4\n",
    "        elif (week < two_before):\n",
    "            return -3\n",
    "        elif (week < one_before):\n",
    "            return -2\n",
    "        elif (week < epoch_start):\n",
    "            return -1\n",
    "        elif (week < epoch_end):\n",
    "            return 0\n",
    "        elif (week < one_after):\n",
    "            return 1\n",
    "        elif (week < two_after):\n",
    "            return 2\n",
    "        elif (week < three_after):\n",
    "            return 3\n",
    "        elif (week < four_after):\n",
    "            return 4\n",
    "        else:\n",
    "            return 5\n",
    "    except Exception as e:\n",
    "        print (e, week)\n",
    "        return None"
   ]
  },
  {
   "cell_type": "markdown",
   "metadata": {},
   "source": [
    "#### Tweets\n",
    "\n",
    "We need a count of tweets from every county, for every week (8: 4-before/after). The `tweet` table has tweetid, tweet, date, userid, id, lon, lat, cntyid."
   ]
  },
  {
   "cell_type": "code",
   "execution_count": 7,
   "metadata": {},
   "outputs": [
    {
     "data": {
      "text/html": [
       "<div>\n",
       "<style>\n",
       "    .dataframe thead tr:only-child th {\n",
       "        text-align: right;\n",
       "    }\n",
       "\n",
       "    .dataframe thead th {\n",
       "        text-align: left;\n",
       "    }\n",
       "\n",
       "    .dataframe tbody tr th {\n",
       "        vertical-align: top;\n",
       "    }\n",
       "</style>\n",
       "<table border=\"1\" class=\"dataframe\">\n",
       "  <thead>\n",
       "    <tr style=\"text-align: right;\">\n",
       "      <th></th>\n",
       "      <th>tweetid</th>\n",
       "      <th>date</th>\n",
       "      <th>tweet</th>\n",
       "    </tr>\n",
       "  </thead>\n",
       "  <tbody>\n",
       "    <tr>\n",
       "      <th>0</th>\n",
       "      <td>822960153469321217</td>\n",
       "      <td>2017-01-21</td>\n",
       "      <td>اللهم إني أعوذ بك من الهم والحزن والعجز والكسل...</td>\n",
       "    </tr>\n",
       "    <tr>\n",
       "      <th>1</th>\n",
       "      <td>822960154190692352</td>\n",
       "      <td>2017-01-21</td>\n",
       "      <td>سبحان الله وبحمده سبحان الله العظيم ♻️</td>\n",
       "    </tr>\n",
       "    <tr>\n",
       "      <th>2</th>\n",
       "      <td>822960155629416448</td>\n",
       "      <td>2017-01-21</td>\n",
       "      <td>RT : Massachusetts: Brandeis Univ. Hires Terro...</td>\n",
       "    </tr>\n",
       "    <tr>\n",
       "      <th>3</th>\n",
       "      <td>822960156795437057</td>\n",
       "      <td>2017-01-21</td>\n",
       "      <td>أستغفر الله العظيم وأتوب إليه ♻️</td>\n",
       "    </tr>\n",
       "    <tr>\n",
       "      <th>4</th>\n",
       "      <td>822960158976393216</td>\n",
       "      <td>2017-01-21</td>\n",
       "      <td>اللهم اهدني فيمن هديت وعافني فيمن عافيت وتولني...</td>\n",
       "    </tr>\n",
       "    <tr>\n",
       "      <th>5</th>\n",
       "      <td>822960161677606912</td>\n",
       "      <td>2017-01-21</td>\n",
       "      <td>RT : When you ask a muslim girl for nudes</td>\n",
       "    </tr>\n",
       "    <tr>\n",
       "      <th>6</th>\n",
       "      <td>822960162130563072</td>\n",
       "      <td>2017-01-21</td>\n",
       "      <td>أستغفر الله العظيم وأتوب إليه ♻️</td>\n",
       "    </tr>\n",
       "    <tr>\n",
       "      <th>7</th>\n",
       "      <td>822960162646454274</td>\n",
       "      <td>2017-01-21</td>\n",
       "      <td>RT : So many beautiful Muslim sisters at the  ...</td>\n",
       "    </tr>\n",
       "    <tr>\n",
       "      <th>8</th>\n",
       "      <td>822960163095244801</td>\n",
       "      <td>2017-01-21</td>\n",
       "      <td>أذكار الأذان:اللهم رب هذه الدعوة التامة والصلا...</td>\n",
       "    </tr>\n",
       "    <tr>\n",
       "      <th>9</th>\n",
       "      <td>822960164345180160</td>\n",
       "      <td>2017-01-21</td>\n",
       "      <td>أذكار الأذان:اللهم رب هذه الدعوة التامة والصلا...</td>\n",
       "    </tr>\n",
       "  </tbody>\n",
       "</table>\n",
       "</div>"
      ],
      "text/plain": [
       "              tweetid        date  \\\n",
       "0  822960153469321217  2017-01-21   \n",
       "1  822960154190692352  2017-01-21   \n",
       "2  822960155629416448  2017-01-21   \n",
       "3  822960156795437057  2017-01-21   \n",
       "4  822960158976393216  2017-01-21   \n",
       "5  822960161677606912  2017-01-21   \n",
       "6  822960162130563072  2017-01-21   \n",
       "7  822960162646454274  2017-01-21   \n",
       "8  822960163095244801  2017-01-21   \n",
       "9  822960164345180160  2017-01-21   \n",
       "\n",
       "                                               tweet  \n",
       "0  اللهم إني أعوذ بك من الهم والحزن والعجز والكسل...  \n",
       "1             سبحان الله وبحمده سبحان الله العظيم ♻️  \n",
       "2  RT : Massachusetts: Brandeis Univ. Hires Terro...  \n",
       "3                   أستغفر الله العظيم وأتوب إليه ♻️  \n",
       "4  اللهم اهدني فيمن هديت وعافني فيمن عافيت وتولني...  \n",
       "5          RT : When you ask a muslim girl for nudes  \n",
       "6                   أستغفر الله العظيم وأتوب إليه ♻️  \n",
       "7  RT : So many beautiful Muslim sisters at the  ...  \n",
       "8  أذكار الأذان:اللهم رب هذه الدعوة التامة والصلا...  \n",
       "9  أذكار الأذان:اللهم رب هذه الدعوة التامة والصلا...  "
      ]
     },
     "execution_count": 7,
     "metadata": {},
     "output_type": "execute_result"
    }
   ],
   "source": [
    "query_test = \"SELECT tweetID, date::date, tweet  FROM tweet LIMIT 10;\"\n",
    "test_df = pd.read_sql(query_test, con=conn)\n",
    "\n",
    "test_df.head(10)"
   ]
  },
  {
   "cell_type": "code",
   "execution_count": 8,
   "metadata": {},
   "outputs": [
    {
     "data": {
      "text/html": [
       "<div>\n",
       "<style>\n",
       "    .dataframe thead tr:only-child th {\n",
       "        text-align: right;\n",
       "    }\n",
       "\n",
       "    .dataframe thead th {\n",
       "        text-align: left;\n",
       "    }\n",
       "\n",
       "    .dataframe tbody tr th {\n",
       "        vertical-align: top;\n",
       "    }\n",
       "</style>\n",
       "<table border=\"1\" class=\"dataframe\">\n",
       "  <thead>\n",
       "    <tr style=\"text-align: right;\">\n",
       "      <th></th>\n",
       "      <th>date</th>\n",
       "      <th>tweet</th>\n",
       "    </tr>\n",
       "  </thead>\n",
       "  <tbody>\n",
       "    <tr>\n",
       "      <th>0</th>\n",
       "      <td>2017-01-21</td>\n",
       "      <td>اللهم إني أعوذ بك من الهم والحزن والعجز والكسل...</td>\n",
       "    </tr>\n",
       "    <tr>\n",
       "      <th>1</th>\n",
       "      <td>2017-01-21</td>\n",
       "      <td>سبحان الله وبحمده سبحان الله العظيم ♻️</td>\n",
       "    </tr>\n",
       "  </tbody>\n",
       "</table>\n",
       "</div>"
      ],
      "text/plain": [
       "         date                                              tweet\n",
       "0  2017-01-21  اللهم إني أعوذ بك من الهم والحزن والعجز والكسل...\n",
       "1  2017-01-21             سبحان الله وبحمده سبحان الله العظيم ♻️"
      ]
     },
     "execution_count": 8,
     "metadata": {},
     "output_type": "execute_result"
    }
   ],
   "source": [
    "tweet_query = \"SELECT date::date, tweet FROM tweet LIMIT 75000;\"\n",
    "tweet_df = pd.read_sql(tweet_query, con=conn)\n",
    "\n",
    "tweet_df.head(2)"
   ]
  },
  {
   "cell_type": "code",
   "execution_count": 9,
   "metadata": {},
   "outputs": [
    {
     "data": {
      "text/plain": [
       "date     object\n",
       "tweet    object\n",
       "dtype: object"
      ]
     },
     "execution_count": 9,
     "metadata": {},
     "output_type": "execute_result"
    }
   ],
   "source": [
    "tweet_df.dtypes"
   ]
  },
  {
   "cell_type": "markdown",
   "metadata": {},
   "source": [
    "### Hashtags"
   ]
  },
  {
   "cell_type": "code",
   "execution_count": 10,
   "metadata": {
    "collapsed": true
   },
   "outputs": [],
   "source": [
    "# https://stackoverflow.com/questions/6331497/an-elegant-way-to-get-hashtags-out-of-a-string-in-python\n",
    "def get_hashtags(text):\n",
    "    try:\n",
    "        tags = set([item.strip(\"#.,-\\\"\\'&*^!\").lower() \n",
    "                    for item in text.split() \n",
    "                    if ((item.startswith(\"#\") == True) \n",
    "                        and (item.startswith(\"...\") == False) \n",
    "                        and (item.endswith(\"...\") == False) \n",
    "                        and (item.startswith(\"…\") == False) \n",
    "                        and (item.endswith(\"…\") == False) \n",
    "                        and (item != '') \n",
    "                        and len(item) < 256)])\n",
    "\n",
    "        if bool(tags):\n",
    "            return list(tags)\n",
    "        else:\n",
    "            return None\n",
    "    except Exception as e:\n",
    "        print (e, text)\n",
    "        return None"
   ]
  },
  {
   "cell_type": "code",
   "execution_count": 11,
   "metadata": {},
   "outputs": [
    {
     "data": {
      "text/html": [
       "<div>\n",
       "<style>\n",
       "    .dataframe thead tr:only-child th {\n",
       "        text-align: right;\n",
       "    }\n",
       "\n",
       "    .dataframe thead th {\n",
       "        text-align: left;\n",
       "    }\n",
       "\n",
       "    .dataframe tbody tr th {\n",
       "        vertical-align: top;\n",
       "    }\n",
       "</style>\n",
       "<table border=\"1\" class=\"dataframe\">\n",
       "  <thead>\n",
       "    <tr style=\"text-align: right;\">\n",
       "      <th></th>\n",
       "      <th>date</th>\n",
       "      <th>tweet</th>\n",
       "      <th>tags</th>\n",
       "    </tr>\n",
       "  </thead>\n",
       "  <tbody>\n",
       "    <tr>\n",
       "      <th>0</th>\n",
       "      <td>2017-01-21</td>\n",
       "      <td>اللهم إني أعوذ بك من الهم والحزن والعجز والكسل...</td>\n",
       "      <td>None</td>\n",
       "    </tr>\n",
       "    <tr>\n",
       "      <th>1</th>\n",
       "      <td>2017-01-21</td>\n",
       "      <td>سبحان الله وبحمده سبحان الله العظيم ♻️</td>\n",
       "      <td>None</td>\n",
       "    </tr>\n",
       "    <tr>\n",
       "      <th>2</th>\n",
       "      <td>2017-01-21</td>\n",
       "      <td>RT : Massachusetts: Brandeis Univ. Hires Terro...</td>\n",
       "      <td>None</td>\n",
       "    </tr>\n",
       "    <tr>\n",
       "      <th>3</th>\n",
       "      <td>2017-01-21</td>\n",
       "      <td>أستغفر الله العظيم وأتوب إليه ♻️</td>\n",
       "      <td>None</td>\n",
       "    </tr>\n",
       "    <tr>\n",
       "      <th>4</th>\n",
       "      <td>2017-01-21</td>\n",
       "      <td>اللهم اهدني فيمن هديت وعافني فيمن عافيت وتولني...</td>\n",
       "      <td>None</td>\n",
       "    </tr>\n",
       "  </tbody>\n",
       "</table>\n",
       "</div>"
      ],
      "text/plain": [
       "         date                                              tweet  tags\n",
       "0  2017-01-21  اللهم إني أعوذ بك من الهم والحزن والعجز والكسل...  None\n",
       "1  2017-01-21             سبحان الله وبحمده سبحان الله العظيم ♻️  None\n",
       "2  2017-01-21  RT : Massachusetts: Brandeis Univ. Hires Terro...  None\n",
       "3  2017-01-21                   أستغفر الله العظيم وأتوب إليه ♻️  None\n",
       "4  2017-01-21  اللهم اهدني فيمن هديت وعافني فيمن عافيت وتولني...  None"
      ]
     },
     "execution_count": 11,
     "metadata": {},
     "output_type": "execute_result"
    }
   ],
   "source": [
    "tweet_df['tags'] = tweet_df.tweet.apply(get_hashtags)\n",
    "\n",
    "tweet_df.head()"
   ]
  },
  {
   "cell_type": "code",
   "execution_count": 12,
   "metadata": {},
   "outputs": [],
   "source": [
    "# filter the dataframe to only those tweets with hashtags\n",
    "test = tweet_df[tweet_df['tags'].isnull() == False][['date', 'tags']]"
   ]
  },
  {
   "cell_type": "code",
   "execution_count": 13,
   "metadata": {},
   "outputs": [
    {
     "data": {
      "text/html": [
       "<div>\n",
       "<style>\n",
       "    .dataframe thead tr:only-child th {\n",
       "        text-align: right;\n",
       "    }\n",
       "\n",
       "    .dataframe thead th {\n",
       "        text-align: left;\n",
       "    }\n",
       "\n",
       "    .dataframe tbody tr th {\n",
       "        vertical-align: top;\n",
       "    }\n",
       "</style>\n",
       "<table border=\"1\" class=\"dataframe\">\n",
       "  <thead>\n",
       "    <tr style=\"text-align: right;\">\n",
       "      <th></th>\n",
       "      <th>date</th>\n",
       "      <th>tags</th>\n",
       "    </tr>\n",
       "  </thead>\n",
       "  <tbody>\n",
       "    <tr>\n",
       "      <th>87</th>\n",
       "      <td>2017-01-21</td>\n",
       "      <td>[212]</td>\n",
       "    </tr>\n",
       "    <tr>\n",
       "      <th>544</th>\n",
       "      <td>2017-01-21</td>\n",
       "      <td>[bigot, lindasarsour, sharia, islam]</td>\n",
       "    </tr>\n",
       "    <tr>\n",
       "      <th>692</th>\n",
       "      <td>2017-01-21</td>\n",
       "      <td>[new, islam]</td>\n",
       "    </tr>\n",
       "    <tr>\n",
       "      <th>712</th>\n",
       "      <td>2017-01-21</td>\n",
       "      <td>[new, god, friend, islam, photo, christianity,...</td>\n",
       "    </tr>\n",
       "    <tr>\n",
       "      <th>715</th>\n",
       "      <td>2017-01-21</td>\n",
       "      <td>[egypt, jordan, bahrain, iraq, lebanon, syria]</td>\n",
       "    </tr>\n",
       "    <tr>\n",
       "      <th>42750</th>\n",
       "      <td>2017-01-22</td>\n",
       "      <td>[1]</td>\n",
       "    </tr>\n",
       "    <tr>\n",
       "      <th>42811</th>\n",
       "      <td>2017-01-22</td>\n",
       "      <td>[212]</td>\n",
       "    </tr>\n",
       "    <tr>\n",
       "      <th>42813</th>\n",
       "      <td>2017-01-22</td>\n",
       "      <td>[startups]</td>\n",
       "    </tr>\n",
       "    <tr>\n",
       "      <th>42868</th>\n",
       "      <td>2017-01-22</td>\n",
       "      <td>[wudu]</td>\n",
       "    </tr>\n",
       "    <tr>\n",
       "      <th>42892</th>\n",
       "      <td>2017-01-22</td>\n",
       "      <td>[bacon, quran, freethinker, desert, god, musli...</td>\n",
       "    </tr>\n",
       "  </tbody>\n",
       "</table>\n",
       "</div>"
      ],
      "text/plain": [
       "             date                                               tags\n",
       "87     2017-01-21                                              [212]\n",
       "544    2017-01-21               [bigot, lindasarsour, sharia, islam]\n",
       "692    2017-01-21                                       [new, islam]\n",
       "712    2017-01-21  [new, god, friend, islam, photo, christianity,...\n",
       "715    2017-01-21     [egypt, jordan, bahrain, iraq, lebanon, syria]\n",
       "42750  2017-01-22                                                [1]\n",
       "42811  2017-01-22                                              [212]\n",
       "42813  2017-01-22                                         [startups]\n",
       "42868  2017-01-22                                             [wudu]\n",
       "42892  2017-01-22  [bacon, quran, freethinker, desert, god, musli..."
      ]
     },
     "execution_count": 13,
     "metadata": {},
     "output_type": "execute_result"
    }
   ],
   "source": [
    "test_day = test.groupby('date')\n",
    "test_day.head()"
   ]
  },
  {
   "cell_type": "markdown",
   "metadata": {},
   "source": [
    "#### Parallelize\n",
    "\n",
    "This is going to take forever unless we do."
   ]
  },
  {
   "cell_type": "code",
   "execution_count": 49,
   "metadata": {
    "collapsed": true
   },
   "outputs": [],
   "source": [
    "from multiprocessing import Pool  # faster\n",
    "def parallelize_series(series, func):\n",
    "    pool = Pool(6)\n",
    "\n",
    "    df = pool.map(func, series)\n",
    "\n",
    "    pool.close()\n",
    "    pool.join()\n",
    "    return df\n",
    "\n",
    "def concat_month_tags(dataframe):\n",
    "    \"\"\"\n",
    "    Takes a Pandas Dataframe[date, tags] and returns a concatentation of them all\n",
    "    \"\"\"\n",
    "    return np.concatenate(dataframe.tags.values)\n",
    "\n",
    "def count_date_tags(date, group):\n",
    "    #\n",
    "    concatted = concat_month_tags(group)\n",
    "    count_concat = pd.value_counts(concatted)\n",
    "    \n",
    "    count_df = count_concat.reset_index()\n",
    "    count_df.columns = ['tag', 'count']\n",
    "    \n",
    "    # filter\n",
    "    #count_df = count_df[count_df['count'] > 5]\n",
    "    count_df = count_df.sort_values(by=['count'], ascending=False)\n",
    "    count_df = count_df.iloc[:30]\n",
    "    \n",
    "    # add date back in\n",
    "    count_df['date'] = date\n",
    "    \n",
    "    return count_df"
   ]
  },
  {
   "cell_type": "code",
   "execution_count": 50,
   "metadata": {},
   "outputs": [
    {
     "data": {
      "text/html": [
       "<div>\n",
       "<style>\n",
       "    .dataframe thead tr:only-child th {\n",
       "        text-align: right;\n",
       "    }\n",
       "\n",
       "    .dataframe thead th {\n",
       "        text-align: left;\n",
       "    }\n",
       "\n",
       "    .dataframe tbody tr th {\n",
       "        vertical-align: top;\n",
       "    }\n",
       "</style>\n",
       "<table border=\"1\" class=\"dataframe\">\n",
       "  <thead>\n",
       "    <tr style=\"text-align: right;\">\n",
       "      <th></th>\n",
       "      <th>tag</th>\n",
       "      <th>count</th>\n",
       "      <th>date</th>\n",
       "    </tr>\n",
       "  </thead>\n",
       "  <tbody>\n",
       "    <tr>\n",
       "      <th>0</th>\n",
       "      <td>islam</td>\n",
       "      <td>43</td>\n",
       "      <td>2017-01-21</td>\n",
       "    </tr>\n",
       "    <tr>\n",
       "      <th>1</th>\n",
       "      <td>muslim</td>\n",
       "      <td>28</td>\n",
       "      <td>2017-01-21</td>\n",
       "    </tr>\n",
       "    <tr>\n",
       "      <th>2</th>\n",
       "      <td></td>\n",
       "      <td>16</td>\n",
       "      <td>2017-01-21</td>\n",
       "    </tr>\n",
       "    <tr>\n",
       "      <th>3</th>\n",
       "      <td>212</td>\n",
       "      <td>16</td>\n",
       "      <td>2017-01-21</td>\n",
       "    </tr>\n",
       "    <tr>\n",
       "      <th>4</th>\n",
       "      <td>rt</td>\n",
       "      <td>15</td>\n",
       "      <td>2017-01-21</td>\n",
       "    </tr>\n",
       "  </tbody>\n",
       "</table>\n",
       "</div>"
      ],
      "text/plain": [
       "      tag  count        date\n",
       "0   islam     43  2017-01-21\n",
       "1  muslim     28  2017-01-21\n",
       "2             16  2017-01-21\n",
       "3     212     16  2017-01-21\n",
       "4      rt     15  2017-01-21"
      ]
     },
     "execution_count": 50,
     "metadata": {},
     "output_type": "execute_result"
    }
   ],
   "source": [
    "maybe = pd.DataFrame()\n",
    "for name, group in test_day:\n",
    "    date_counts = count_date_tags(name, group)\n",
    "    maybe = maybe.append(date_counts)\n",
    "    \n",
    "maybe.head()"
   ]
  },
  {
   "cell_type": "markdown",
   "metadata": {},
   "source": [
    "#### DataFrame Construction\n",
    "\n",
    "Putting together everything we've done so far:\n",
    "1. Read in the tweets\n",
    "2. Calculate the hashtags variable column\n",
    "3. Filter the dataframe to only those with hashtags\n",
    "4. GroupBy the `date` column, and concatenate all of the hashtags within that day\n",
    "5. Get value counts of the hashtags as a dataframe\n",
    "6. add to the regular."
   ]
  },
  {
   "cell_type": "code",
   "execution_count": 51,
   "metadata": {
    "collapsed": true
   },
   "outputs": [],
   "source": [
    "def count_tweets(tweets):\n",
    "    # 2\n",
    "    #tweets['tags'] = tweets['tweet'].apply(get_hashtags)\n",
    "    tweets['tags'] = parallelize_series(tweets['tweet'].values, get_hashtags)\n",
    "    \n",
    "    # 3 \n",
    "    tweets = tweets[tweets['tags'].isnull() == False]\n",
    "    \n",
    "    # 4\n",
    "    by_day = tweets[['date', 'tags']].groupby('date')\n",
    "    \n",
    "    # 5\n",
    "    counts = pd.DataFrame()\n",
    "    for date, tags in by_day:\n",
    "        date_counts = count_date_tags(date, tags)\n",
    "        \n",
    "        # 6\n",
    "        counts = counts.append(date_counts)\n",
    "    \n",
    "    return counts"
   ]
  },
  {
   "cell_type": "markdown",
   "metadata": {},
   "source": [
    "#### Actual Counts!!!"
   ]
  },
  {
   "cell_type": "code",
   "execution_count": 52,
   "metadata": {
    "collapsed": true
   },
   "outputs": [],
   "source": [
    "# for real this time\n",
    "full_query = \"SELECT date::date, tweet FROM tweet;\"\n",
    "\n",
    "day_counts = pd.DataFrame()\n",
    "for chunk in pd.read_sql(full_query, con=conn, chunksize=50000):\n",
    "    formatted = count_tweets(chunk)\n",
    "    day_counts = day_counts.append(formatted)"
   ]
  },
  {
   "cell_type": "code",
   "execution_count": 53,
   "metadata": {},
   "outputs": [
    {
     "data": {
      "text/html": [
       "<div>\n",
       "<style>\n",
       "    .dataframe thead tr:only-child th {\n",
       "        text-align: right;\n",
       "    }\n",
       "\n",
       "    .dataframe thead th {\n",
       "        text-align: left;\n",
       "    }\n",
       "\n",
       "    .dataframe tbody tr th {\n",
       "        vertical-align: top;\n",
       "    }\n",
       "</style>\n",
       "<table border=\"1\" class=\"dataframe\">\n",
       "  <thead>\n",
       "    <tr style=\"text-align: right;\">\n",
       "      <th></th>\n",
       "      <th>tag</th>\n",
       "      <th>count</th>\n",
       "      <th>date</th>\n",
       "    </tr>\n",
       "  </thead>\n",
       "  <tbody>\n",
       "    <tr>\n",
       "      <th>0</th>\n",
       "      <td>islam</td>\n",
       "      <td>43</td>\n",
       "      <td>2017-01-22</td>\n",
       "    </tr>\n",
       "    <tr>\n",
       "      <th>1</th>\n",
       "      <td>isis</td>\n",
       "      <td>20</td>\n",
       "      <td>2017-01-22</td>\n",
       "    </tr>\n",
       "    <tr>\n",
       "      <th>2</th>\n",
       "      <td>muslim</td>\n",
       "      <td>17</td>\n",
       "      <td>2017-01-22</td>\n",
       "    </tr>\n",
       "    <tr>\n",
       "      <th>3</th>\n",
       "      <td>isil</td>\n",
       "      <td>15</td>\n",
       "      <td>2017-01-22</td>\n",
       "    </tr>\n",
       "    <tr>\n",
       "      <th>4</th>\n",
       "      <td>1</td>\n",
       "      <td>13</td>\n",
       "      <td>2017-01-22</td>\n",
       "    </tr>\n",
       "  </tbody>\n",
       "</table>\n",
       "</div>"
      ],
      "text/plain": [
       "      tag  count        date\n",
       "0   islam     43  2017-01-22\n",
       "1    isis     20  2017-01-22\n",
       "2  muslim     17  2017-01-22\n",
       "3    isil     15  2017-01-22\n",
       "4       1     13  2017-01-22"
      ]
     },
     "execution_count": 53,
     "metadata": {},
     "output_type": "execute_result"
    }
   ],
   "source": [
    "day_counts.head()"
   ]
  },
  {
   "cell_type": "code",
   "execution_count": 54,
   "metadata": {},
   "outputs": [
    {
     "data": {
      "text/html": [
       "<div>\n",
       "<style>\n",
       "    .dataframe thead tr:only-child th {\n",
       "        text-align: right;\n",
       "    }\n",
       "\n",
       "    .dataframe thead th {\n",
       "        text-align: left;\n",
       "    }\n",
       "\n",
       "    .dataframe tbody tr th {\n",
       "        vertical-align: top;\n",
       "    }\n",
       "</style>\n",
       "<table border=\"1\" class=\"dataframe\">\n",
       "  <thead>\n",
       "    <tr style=\"text-align: right;\">\n",
       "      <th></th>\n",
       "      <th>date</th>\n",
       "      <th>tag</th>\n",
       "      <th>count</th>\n",
       "    </tr>\n",
       "  </thead>\n",
       "  <tbody>\n",
       "    <tr>\n",
       "      <th>0</th>\n",
       "      <td>2016-12-22</td>\n",
       "      <td></td>\n",
       "      <td>9</td>\n",
       "    </tr>\n",
       "    <tr>\n",
       "      <th>1</th>\n",
       "      <td>2016-12-22</td>\n",
       "      <td>1</td>\n",
       "      <td>1</td>\n",
       "    </tr>\n",
       "    <tr>\n",
       "      <th>2</th>\n",
       "      <td>2016-12-22</td>\n",
       "      <td>112</td>\n",
       "      <td>2</td>\n",
       "    </tr>\n",
       "    <tr>\n",
       "      <th>3</th>\n",
       "      <td>2016-12-22</td>\n",
       "      <td>118</td>\n",
       "      <td>1</td>\n",
       "    </tr>\n",
       "    <tr>\n",
       "      <th>4</th>\n",
       "      <td>2016-12-22</td>\n",
       "      <td>162</td>\n",
       "      <td>1</td>\n",
       "    </tr>\n",
       "  </tbody>\n",
       "</table>\n",
       "</div>"
      ],
      "text/plain": [
       "         date  tag  count\n",
       "0  2016-12-22           9\n",
       "1  2016-12-22    1      1\n",
       "2  2016-12-22  112      2\n",
       "3  2016-12-22  118      1\n",
       "4  2016-12-22  162      1"
      ]
     },
     "execution_count": 54,
     "metadata": {},
     "output_type": "execute_result"
    }
   ],
   "source": [
    "final = day_counts.groupby(['date', 'tag']).agg(sum)\n",
    "final = final.reset_index()\n",
    "final.columns = ['date', 'tag', 'count']\n",
    "\n",
    "final.head()"
   ]
  },
  {
   "cell_type": "code",
   "execution_count": 56,
   "metadata": {
    "collapsed": true
   },
   "outputs": [],
   "source": [
    "final['week'] = final.date.map(get_week_number)"
   ]
  },
  {
   "cell_type": "code",
   "execution_count": 57,
   "metadata": {},
   "outputs": [
    {
     "data": {
      "text/html": [
       "<div>\n",
       "<style>\n",
       "    .dataframe thead tr:only-child th {\n",
       "        text-align: right;\n",
       "    }\n",
       "\n",
       "    .dataframe thead th {\n",
       "        text-align: left;\n",
       "    }\n",
       "\n",
       "    .dataframe tbody tr th {\n",
       "        vertical-align: top;\n",
       "    }\n",
       "</style>\n",
       "<table border=\"1\" class=\"dataframe\">\n",
       "  <thead>\n",
       "    <tr style=\"text-align: right;\">\n",
       "      <th></th>\n",
       "      <th>date</th>\n",
       "      <th>tag</th>\n",
       "      <th>count</th>\n",
       "      <th>week</th>\n",
       "    </tr>\n",
       "  </thead>\n",
       "  <tbody>\n",
       "    <tr>\n",
       "      <th>0</th>\n",
       "      <td>2016-12-22</td>\n",
       "      <td></td>\n",
       "      <td>9</td>\n",
       "      <td>NaN</td>\n",
       "    </tr>\n",
       "    <tr>\n",
       "      <th>1</th>\n",
       "      <td>2016-12-22</td>\n",
       "      <td>1</td>\n",
       "      <td>1</td>\n",
       "      <td>NaN</td>\n",
       "    </tr>\n",
       "    <tr>\n",
       "      <th>2</th>\n",
       "      <td>2016-12-22</td>\n",
       "      <td>112</td>\n",
       "      <td>2</td>\n",
       "      <td>NaN</td>\n",
       "    </tr>\n",
       "    <tr>\n",
       "      <th>3</th>\n",
       "      <td>2016-12-22</td>\n",
       "      <td>118</td>\n",
       "      <td>1</td>\n",
       "      <td>NaN</td>\n",
       "    </tr>\n",
       "    <tr>\n",
       "      <th>4</th>\n",
       "      <td>2016-12-22</td>\n",
       "      <td>162</td>\n",
       "      <td>1</td>\n",
       "      <td>NaN</td>\n",
       "    </tr>\n",
       "  </tbody>\n",
       "</table>\n",
       "</div>"
      ],
      "text/plain": [
       "         date  tag  count  week\n",
       "0  2016-12-22           9   NaN\n",
       "1  2016-12-22    1      1   NaN\n",
       "2  2016-12-22  112      2   NaN\n",
       "3  2016-12-22  118      1   NaN\n",
       "4  2016-12-22  162      1   NaN"
      ]
     },
     "execution_count": 57,
     "metadata": {},
     "output_type": "execute_result"
    }
   ],
   "source": [
    "final.head()"
   ]
  },
  {
   "cell_type": "code",
   "execution_count": 67,
   "metadata": {},
   "outputs": [],
   "source": [
    "# drop rows without weeks \n",
    "final = final[final['week'].isnull() == False]\n",
    "# drop empty tags\n",
    "final = final[final['tag'] != '']\n",
    "# custom filters\n",
    "final = final[final['tag'] != '1']\n",
    "final = final[final['tag'] != 'rt']"
   ]
  },
  {
   "cell_type": "code",
   "execution_count": 69,
   "metadata": {},
   "outputs": [
    {
     "data": {
      "text/html": [
       "<div>\n",
       "<style>\n",
       "    .dataframe thead tr:only-child th {\n",
       "        text-align: right;\n",
       "    }\n",
       "\n",
       "    .dataframe thead th {\n",
       "        text-align: left;\n",
       "    }\n",
       "\n",
       "    .dataframe tbody tr th {\n",
       "        vertical-align: top;\n",
       "    }\n",
       "</style>\n",
       "<table border=\"1\" class=\"dataframe\">\n",
       "  <thead>\n",
       "    <tr style=\"text-align: right;\">\n",
       "      <th></th>\n",
       "      <th>tag</th>\n",
       "      <th>count</th>\n",
       "    </tr>\n",
       "  </thead>\n",
       "  <tbody>\n",
       "    <tr>\n",
       "      <th>0</th>\n",
       "      <td>islam</td>\n",
       "      <td>18200</td>\n",
       "    </tr>\n",
       "    <tr>\n",
       "      <th>1</th>\n",
       "      <td>california</td>\n",
       "      <td>5668</td>\n",
       "    </tr>\n",
       "    <tr>\n",
       "      <th>2</th>\n",
       "      <td>sydney</td>\n",
       "      <td>5587</td>\n",
       "    </tr>\n",
       "    <tr>\n",
       "      <th>3</th>\n",
       "      <td>arabic</td>\n",
       "      <td>5584</td>\n",
       "    </tr>\n",
       "    <tr>\n",
       "      <th>4</th>\n",
       "      <td>uganda</td>\n",
       "      <td>5582</td>\n",
       "    </tr>\n",
       "  </tbody>\n",
       "</table>\n",
       "</div>"
      ],
      "text/plain": [
       "          tag  count\n",
       "0       islam  18200\n",
       "1  california   5668\n",
       "2      sydney   5587\n",
       "3      arabic   5584\n",
       "4      uganda   5582"
      ]
     },
     "execution_count": 69,
     "metadata": {},
     "output_type": "execute_result"
    }
   ],
   "source": [
    "top_tags = final[['tag', 'count']].groupby('tag').agg(sum).sort_values(by=['count'], ascending=False).head(25)\n",
    "top_tags = top_tags.reset_index()\n",
    "top_tags.head()"
   ]
  },
  {
   "cell_type": "code",
   "execution_count": 72,
   "metadata": {
    "collapsed": true
   },
   "outputs": [],
   "source": [
    "top_tags_l = set(top_tags.tag.tolist())"
   ]
  },
  {
   "cell_type": "code",
   "execution_count": 77,
   "metadata": {},
   "outputs": [
    {
     "name": "stdout",
     "output_type": "stream",
     "text": [
      "1101\n"
     ]
    },
    {
     "data": {
      "text/html": [
       "<div>\n",
       "<style>\n",
       "    .dataframe thead tr:only-child th {\n",
       "        text-align: right;\n",
       "    }\n",
       "\n",
       "    .dataframe thead th {\n",
       "        text-align: left;\n",
       "    }\n",
       "\n",
       "    .dataframe tbody tr th {\n",
       "        vertical-align: top;\n",
       "    }\n",
       "</style>\n",
       "<table border=\"1\" class=\"dataframe\">\n",
       "  <thead>\n",
       "    <tr style=\"text-align: right;\">\n",
       "      <th></th>\n",
       "      <th>date</th>\n",
       "      <th>tag</th>\n",
       "      <th>count</th>\n",
       "      <th>week</th>\n",
       "    </tr>\n",
       "  </thead>\n",
       "  <tbody>\n",
       "    <tr>\n",
       "      <th>218</th>\n",
       "      <td>2016-12-28</td>\n",
       "      <td>arabic</td>\n",
       "      <td>34</td>\n",
       "      <td>-5.0</td>\n",
       "    </tr>\n",
       "    <tr>\n",
       "      <th>220</th>\n",
       "      <td>2016-12-28</td>\n",
       "      <td>california</td>\n",
       "      <td>34</td>\n",
       "      <td>-5.0</td>\n",
       "    </tr>\n",
       "    <tr>\n",
       "      <th>226</th>\n",
       "      <td>2016-12-28</td>\n",
       "      <td>followback</td>\n",
       "      <td>7</td>\n",
       "      <td>-5.0</td>\n",
       "    </tr>\n",
       "    <tr>\n",
       "      <th>228</th>\n",
       "      <td>2016-12-28</td>\n",
       "      <td>isis</td>\n",
       "      <td>21</td>\n",
       "      <td>-5.0</td>\n",
       "    </tr>\n",
       "    <tr>\n",
       "      <th>229</th>\n",
       "      <td>2016-12-28</td>\n",
       "      <td>islam</td>\n",
       "      <td>104</td>\n",
       "      <td>-5.0</td>\n",
       "    </tr>\n",
       "  </tbody>\n",
       "</table>\n",
       "</div>"
      ],
      "text/plain": [
       "           date         tag  count  week\n",
       "218  2016-12-28      arabic     34  -5.0\n",
       "220  2016-12-28  california     34  -5.0\n",
       "226  2016-12-28  followback      7  -5.0\n",
       "228  2016-12-28        isis     21  -5.0\n",
       "229  2016-12-28       islam    104  -5.0"
      ]
     },
     "execution_count": 77,
     "metadata": {},
     "output_type": "execute_result"
    }
   ],
   "source": [
    "# Calculate a variable for inclusion\n",
    "temp = final\n",
    "temp['top'] = temp['tag'].apply(lambda x: x in top_tags_l)\n",
    "\n",
    "# create a dataframe from only the top tweets\n",
    "final_filt = temp[temp['top'] == True][['date', 'tag', 'count', 'week']]\n",
    "print (len(final_filt))\n",
    "final_filt.head()"
   ]
  },
  {
   "cell_type": "code",
   "execution_count": 78,
   "metadata": {
    "collapsed": true
   },
   "outputs": [],
   "source": [
    "# finally write these out\n",
    "f = name_file_path('hashtag-counts-date.csv', processed_web_dir)\n",
    "final.to_csv(f, index=False)\n",
    "\n",
    "f_filt = name_file_path('hashtag-counts-date-filtered.csv', processed_web_dir)\n",
    "final_filt.to_csv(f_filt, index=False)\n",
    "\n",
    "f_tags = name_file_path('hashtag-counts.csv', processed_web_dir)\n",
    "top_tags.to_csv(f_tags, index=False)"
   ]
  },
  {
   "cell_type": "markdown",
   "metadata": {},
   "source": [
    "---"
   ]
  },
  {
   "cell_type": "code",
   "execution_count": 79,
   "metadata": {
    "collapsed": true
   },
   "outputs": [],
   "source": [
    "conn.close()"
   ]
  },
  {
   "cell_type": "code",
   "execution_count": 80,
   "metadata": {},
   "outputs": [
    {
     "data": {
      "text/html": [
       "<style>.container { width:85% !important; }</style>"
      ],
      "text/plain": [
       "<IPython.core.display.HTML object>"
      ]
     },
     "metadata": {},
     "output_type": "display_data"
    }
   ],
   "source": [
    "# Wide cells\n",
    "from IPython.core.display import display, HTML\n",
    "display(HTML(\"<style>.container { width:85% !important; }</style>\"))\n",
    "\n",
    "# number of text characters per column\n",
    "pd.set_option('max_colwidth', 140)"
   ]
  },
  {
   "cell_type": "code",
   "execution_count": null,
   "metadata": {
    "collapsed": true
   },
   "outputs": [],
   "source": []
  }
 ],
 "metadata": {
  "kernelspec": {
   "display_name": "Python 3",
   "language": "python",
   "name": "python3"
  },
  "language_info": {
   "codemirror_mode": {
    "name": "ipython",
    "version": 3
   },
   "file_extension": ".py",
   "mimetype": "text/x-python",
   "name": "python",
   "nbconvert_exporter": "python",
   "pygments_lexer": "ipython3",
   "version": "3.5.3"
  }
 },
 "nbformat": 4,
 "nbformat_minor": 2
}
