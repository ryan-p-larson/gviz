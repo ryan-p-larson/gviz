{
 "cells": [
  {
   "cell_type": "markdown",
   "metadata": {},
   "source": [
    "# Scrape Template\n",
    "\n",
    "This is to allow for bootstrappping faster dataset production.\n",
    "\n",
    "\n",
    "#### Utilities & Libraries"
   ]
  },
  {
   "cell_type": "code",
   "execution_count": 1,
   "metadata": {
    "collapsed": true
   },
   "outputs": [],
   "source": [
    "# Run Utilities script, it has common file names\n",
    "%run utilities.py\n",
    "\n",
    "# Matplotlib + Jupyter\n",
    "from matplotlib import pyplot as plt\n",
    "%matplotlib inline"
   ]
  },
  {
   "cell_type": "code",
   "execution_count": null,
   "metadata": {
    "collapsed": true
   },
   "outputs": [],
   "source": [
    "# Password file, to keep secrets off Github\n",
    "\n",
    "# Make the file if neccesary\n",
    "#!echo \"pw=%%\" > secret_key.py\n",
    "\n",
    "%run ../../src/secret_key.py"
   ]
  },
  {
   "cell_type": "markdown",
   "metadata": {},
   "source": [
    "#### Database Connection"
   ]
  },
  {
   "cell_type": "code",
   "execution_count": 2,
   "metadata": {
    "collapsed": true
   },
   "outputs": [],
   "source": [
    "import psycopg2 as pg\n",
    "import pandas.io.sql as psql\n",
    "\n",
    "## Connect to the database\n",
    "#connection = psycopg2.connect(\"dbname='template1' user='dbuser' host='localhost' password='dbpass'\")\n",
    "#dataframe = psql.frame_query(\"SELECT id, price FROM stock_price;\", connection)\n",
    "\n",
    "conn_str = \"dbname='immigration' user='rlrson' password={}\".format(pw)\n",
    "conn = pg.connect(conn_str)"
   ]
  },
  {
   "cell_type": "markdown",
   "metadata": {},
   "source": [
    "#### Time Periods\n",
    "\n",
    "Caglar has broken them down into before/after the 'epoch' date. Lets pull them in."
   ]
  },
  {
   "cell_type": "code",
   "execution_count": 3,
   "metadata": {},
   "outputs": [
    {
     "data": {
      "text/html": [
       "<div>\n",
       "<style>\n",
       "    .dataframe thead tr:only-child th {\n",
       "        text-align: right;\n",
       "    }\n",
       "\n",
       "    .dataframe thead th {\n",
       "        text-align: left;\n",
       "    }\n",
       "\n",
       "    .dataframe tbody tr th {\n",
       "        vertical-align: top;\n",
       "    }\n",
       "</style>\n",
       "<table border=\"1\" class=\"dataframe\">\n",
       "  <thead>\n",
       "    <tr style=\"text-align: right;\">\n",
       "      <th></th>\n",
       "      <th>id</th>\n",
       "      <th>startinterval</th>\n",
       "      <th>endinterval</th>\n",
       "    </tr>\n",
       "  </thead>\n",
       "  <tbody>\n",
       "    <tr>\n",
       "      <th>0</th>\n",
       "      <td>1</td>\n",
       "      <td>2016-12-27 10:00:00+00:00</td>\n",
       "      <td>2017-01-27 10:00:00+00:00</td>\n",
       "    </tr>\n",
       "    <tr>\n",
       "      <th>1</th>\n",
       "      <td>2</td>\n",
       "      <td>2017-01-28 10:00:00+00:00</td>\n",
       "      <td>2017-02-27 10:00:00+00:00</td>\n",
       "    </tr>\n",
       "    <tr>\n",
       "      <th>2</th>\n",
       "      <td>3</td>\n",
       "      <td>2017-01-21 10:00:00+00:00</td>\n",
       "      <td>2017-01-27 10:00:00+00:00</td>\n",
       "    </tr>\n",
       "    <tr>\n",
       "      <th>3</th>\n",
       "      <td>4</td>\n",
       "      <td>2017-01-28 10:00:00+00:00</td>\n",
       "      <td>2017-02-03 10:00:00+00:00</td>\n",
       "    </tr>\n",
       "    <tr>\n",
       "      <th>4</th>\n",
       "      <td>5</td>\n",
       "      <td>2017-01-26 10:00:00+00:00</td>\n",
       "      <td>2017-01-27 10:00:00+00:00</td>\n",
       "    </tr>\n",
       "    <tr>\n",
       "      <th>5</th>\n",
       "      <td>6</td>\n",
       "      <td>2017-01-28 10:00:00+00:00</td>\n",
       "      <td>2017-01-29 10:00:00+00:00</td>\n",
       "    </tr>\n",
       "  </tbody>\n",
       "</table>\n",
       "</div>"
      ],
      "text/plain": [
       "   id             startinterval               endinterval\n",
       "0   1 2016-12-27 10:00:00+00:00 2017-01-27 10:00:00+00:00\n",
       "1   2 2017-01-28 10:00:00+00:00 2017-02-27 10:00:00+00:00\n",
       "2   3 2017-01-21 10:00:00+00:00 2017-01-27 10:00:00+00:00\n",
       "3   4 2017-01-28 10:00:00+00:00 2017-02-03 10:00:00+00:00\n",
       "4   5 2017-01-26 10:00:00+00:00 2017-01-27 10:00:00+00:00\n",
       "5   6 2017-01-28 10:00:00+00:00 2017-01-29 10:00:00+00:00"
      ]
     },
     "execution_count": 3,
     "metadata": {},
     "output_type": "execute_result"
    }
   ],
   "source": [
    "time_periods = pd.read_sql(\"SELECT * FROM timeinterval;\", con=conn)\n",
    "time_periods"
   ]
  },
  {
   "cell_type": "code",
   "execution_count": 4,
   "metadata": {},
   "outputs": [
    {
     "data": {
      "text/plain": [
       "id                             int64\n",
       "startinterval    datetime64[ns, UTC]\n",
       "endinterval      datetime64[ns, UTC]\n",
       "dtype: object"
      ]
     },
     "execution_count": 4,
     "metadata": {},
     "output_type": "execute_result"
    }
   ],
   "source": [
    "time_periods.dtypes"
   ]
  },
  {
   "cell_type": "code",
   "execution_count": 5,
   "metadata": {
    "collapsed": true
   },
   "outputs": [],
   "source": [
    "# set variables so we can specify a beginning/end for our SQL queries\n",
    "start = time_periods.iloc[0]['startinterval'].tz_convert(None)\n",
    "end = time_periods.iloc[1]['endinterval'].tz_convert(None)"
   ]
  },
  {
   "cell_type": "markdown",
   "metadata": {},
   "source": [
    "#### Week Categorization\n",
    "\n",
    "We need to create a mapping that will return the week number for us. We'll start at the epoch and work our way backwards week by week. After a month we'll do 'after' the epoch."
   ]
  },
  {
   "cell_type": "code",
   "execution_count": 10,
   "metadata": {
    "collapsed": true
   },
   "outputs": [],
   "source": [
    "# set the time variables\n",
    "# epoch_start - (delta_week * 4) >> Timestamp('2016-12-30 10:00:00')\n",
    "# start >> Timestamp('2016-12-27 10:00:00+0000', tz='UTC')\n",
    "\n",
    "# Epoch\n",
    "epoch_start = pd.to_datetime('2017-01-27 10:00:00+00:00', utc=True).tz_convert(None)\n",
    "epoch_end = pd.to_datetime('2017-01-28 10:00:00+00:00', utc=True).tz_convert(None)\n",
    "\n",
    "# delta\n",
    "delta_week = pd.Timedelta('7 days')\n",
    "\n",
    "# before\n",
    "four_before = epoch_start - (delta_week * 4)\n",
    "three_before = epoch_start - (delta_week * 3)\n",
    "two_before = epoch_start - (delta_week * 2)\n",
    "one_before = epoch_start - (delta_week * 1)\n",
    "\n",
    "# after\n",
    "four_after = epoch_end + (delta_week * 4)\n",
    "three_after = epoch_end + (delta_week * 3)\n",
    "two_after = epoch_end + (delta_week * 2)\n",
    "one_after = epoch_end + (delta_week * 1)\n",
    "\n",
    "\n",
    "def get_week_number(week):\n",
    "    try:\n",
    "        week = pd.to_datetime(week, infer_datetime_format=True)\n",
    "    \n",
    "        # catch, before/after?\n",
    "        if (week < start) or (week > end):\n",
    "            return None\n",
    "\n",
    "        if (week < four_before):\n",
    "            return -5\n",
    "        elif (week < three_before):\n",
    "            return -4\n",
    "        elif (week < two_before):\n",
    "            return -3\n",
    "        elif (week < one_before):\n",
    "            return -2\n",
    "        elif (week < epoch_start):\n",
    "            return -1\n",
    "        elif (week < epoch_end):\n",
    "            return 0\n",
    "        elif (week < one_after):\n",
    "            return 1\n",
    "        elif (week < two_after):\n",
    "            return 2\n",
    "        elif (week < three_after):\n",
    "            return 3\n",
    "        elif (week < four_after):\n",
    "            return 4\n",
    "        else:\n",
    "            return 5\n",
    "    except Exception as e:\n",
    "        print (e, week)\n",
    "        return None"
   ]
  },
  {
   "cell_type": "markdown",
   "metadata": {},
   "source": [
    "#### Tweets\n",
    "\n",
    "We need a count of tweets from every county, for every week (8: 4-before/after). The `tweet` table has tweetid, tweet, date, userid, id, lon, lat, cntyid."
   ]
  },
  {
   "cell_type": "code",
   "execution_count": 63,
   "metadata": {},
   "outputs": [
    {
     "data": {
      "text/html": [
       "<div>\n",
       "<style>\n",
       "    .dataframe thead tr:only-child th {\n",
       "        text-align: right;\n",
       "    }\n",
       "\n",
       "    .dataframe thead th {\n",
       "        text-align: left;\n",
       "    }\n",
       "\n",
       "    .dataframe tbody tr th {\n",
       "        vertical-align: top;\n",
       "    }\n",
       "</style>\n",
       "<table border=\"1\" class=\"dataframe\">\n",
       "  <thead>\n",
       "    <tr style=\"text-align: right;\">\n",
       "      <th></th>\n",
       "      <th>tweetid</th>\n",
       "      <th>date</th>\n",
       "      <th>tweet</th>\n",
       "    </tr>\n",
       "  </thead>\n",
       "  <tbody>\n",
       "    <tr>\n",
       "      <th>0</th>\n",
       "      <td>817797356456476676</td>\n",
       "      <td>2017-01-07</td>\n",
       "      <td>RT : The Muslim invasion of the west makes me upset every day! Out country will never be the same!</td>\n",
       "    </tr>\n",
       "    <tr>\n",
       "      <th>1</th>\n",
       "      <td>817797367529410561</td>\n",
       "      <td>2017-01-07</td>\n",
       "      <td>RT : Muslim Beats White Woman — Cops Arrest HER After Attacker's 5-Word Excuse</td>\n",
       "    </tr>\n",
       "    <tr>\n",
       "      <th>2</th>\n",
       "      <td>817797369525927936</td>\n",
       "      <td>2017-01-07</td>\n",
       "      <td>ربِّ أسألك خير ما في هذا اليوم وخير ما بعده ♻️</td>\n",
       "    </tr>\n",
       "    <tr>\n",
       "      <th>3</th>\n",
       "      <td>817797376505221121</td>\n",
       "      <td>2017-01-07</td>\n",
       "      <td>RT : US invasions have robbed Muslim countries bone dry...millions dead; millions more homeless; refugees...&amp; war still…</td>\n",
       "    </tr>\n",
       "    <tr>\n",
       "      <th>4</th>\n",
       "      <td>817797378958884865</td>\n",
       "      <td>2017-01-07</td>\n",
       "      <td>ربِّ أسألك خير ما في هذا اليوم وخير ما بعده ♻️</td>\n",
       "    </tr>\n",
       "    <tr>\n",
       "      <th>5</th>\n",
       "      <td>817797383916519425</td>\n",
       "      <td>2017-01-07</td>\n",
       "      <td>اللهم لا سهل إلا ما جعلته سهلاً وأنت تجعل الحزن إذا شئت سهلا ♻️</td>\n",
       "    </tr>\n",
       "    <tr>\n",
       "      <th>6</th>\n",
       "      <td>817797389268434944</td>\n",
       "      <td>2017-01-07</td>\n",
       "      <td>RT : You probably heard about a Muslim mob setting fire to Germany's oldest church. It's not true</td>\n",
       "    </tr>\n",
       "    <tr>\n",
       "      <th>7</th>\n",
       "      <td>817797395182391296</td>\n",
       "      <td>2017-01-07</td>\n",
       "      <td>أذكار الأذان:اللهم رب هذه الدعوة التامة والصلاة القائم ♻️</td>\n",
       "    </tr>\n",
       "    <tr>\n",
       "      <th>8</th>\n",
       "      <td>817797405789847552</td>\n",
       "      <td>2017-01-07</td>\n",
       "      <td>سبحان الله وبحمده سبحان الله العظيم ♻️</td>\n",
       "    </tr>\n",
       "    <tr>\n",
       "      <th>9</th>\n",
       "      <td>817797407626956802</td>\n",
       "      <td>2017-01-07</td>\n",
       "      <td>ربِّ أسألك خير ما في هذا اليوم وخير ما بعده ♻️</td>\n",
       "    </tr>\n",
       "  </tbody>\n",
       "</table>\n",
       "</div>"
      ],
      "text/plain": [
       "              tweetid        date  \\\n",
       "0  817797356456476676  2017-01-07   \n",
       "1  817797367529410561  2017-01-07   \n",
       "2  817797369525927936  2017-01-07   \n",
       "3  817797376505221121  2017-01-07   \n",
       "4  817797378958884865  2017-01-07   \n",
       "5  817797383916519425  2017-01-07   \n",
       "6  817797389268434944  2017-01-07   \n",
       "7  817797395182391296  2017-01-07   \n",
       "8  817797405789847552  2017-01-07   \n",
       "9  817797407626956802  2017-01-07   \n",
       "\n",
       "                                                                                                                      tweet  \n",
       "0                        RT : The Muslim invasion of the west makes me upset every day! Out country will never be the same!  \n",
       "1                                            RT : Muslim Beats White Woman — Cops Arrest HER After Attacker's 5-Word Excuse  \n",
       "2                                                                            ربِّ أسألك خير ما في هذا اليوم وخير ما بعده ♻️  \n",
       "3  RT : US invasions have robbed Muslim countries bone dry...millions dead; millions more homeless; refugees...& war still…  \n",
       "4                                                                            ربِّ أسألك خير ما في هذا اليوم وخير ما بعده ♻️  \n",
       "5                                                           اللهم لا سهل إلا ما جعلته سهلاً وأنت تجعل الحزن إذا شئت سهلا ♻️  \n",
       "6                         RT : You probably heard about a Muslim mob setting fire to Germany's oldest church. It's not true  \n",
       "7                                                                 أذكار الأذان:اللهم رب هذه الدعوة التامة والصلاة القائم ♻️  \n",
       "8                                                                                    سبحان الله وبحمده سبحان الله العظيم ♻️  \n",
       "9                                                                            ربِّ أسألك خير ما في هذا اليوم وخير ما بعده ♻️  "
      ]
     },
     "execution_count": 63,
     "metadata": {},
     "output_type": "execute_result"
    }
   ],
   "source": [
    "query_test = \"SELECT tweetID, date::date, tweet  FROM tweet LIMIT 10;\"\n",
    "test_df = pd.read_sql(query_test, con=conn)\n",
    "\n",
    "test_df.head(10)"
   ]
  },
  {
   "cell_type": "code",
   "execution_count": 79,
   "metadata": {},
   "outputs": [
    {
     "data": {
      "text/html": [
       "<div>\n",
       "<style>\n",
       "    .dataframe thead tr:only-child th {\n",
       "        text-align: right;\n",
       "    }\n",
       "\n",
       "    .dataframe thead th {\n",
       "        text-align: left;\n",
       "    }\n",
       "\n",
       "    .dataframe tbody tr th {\n",
       "        vertical-align: top;\n",
       "    }\n",
       "</style>\n",
       "<table border=\"1\" class=\"dataframe\">\n",
       "  <thead>\n",
       "    <tr style=\"text-align: right;\">\n",
       "      <th></th>\n",
       "      <th>tweetid</th>\n",
       "      <th>date</th>\n",
       "      <th>tweet</th>\n",
       "    </tr>\n",
       "  </thead>\n",
       "  <tbody>\n",
       "    <tr>\n",
       "      <th>0</th>\n",
       "      <td>818777709014896642</td>\n",
       "      <td>2017-01-10</td>\n",
       "      <td>اللهم إني أعوذ بك من الهم والحزن والعجز والكسل والبخل والجبن وغلبة الدين وقهر الرجال ♻️</td>\n",
       "    </tr>\n",
       "    <tr>\n",
       "      <th>1</th>\n",
       "      <td>818777721132240896</td>\n",
       "      <td>2017-01-10</td>\n",
       "      <td>اللهم أعذنا من عذاب القبر وعذاب جهنم ♻️</td>\n",
       "    </tr>\n",
       "  </tbody>\n",
       "</table>\n",
       "</div>"
      ],
      "text/plain": [
       "              tweetid        date  \\\n",
       "0  818777709014896642  2017-01-10   \n",
       "1  818777721132240896  2017-01-10   \n",
       "\n",
       "                                                                                     tweet  \n",
       "0  اللهم إني أعوذ بك من الهم والحزن والعجز والكسل والبخل والجبن وغلبة الدين وقهر الرجال ♻️  \n",
       "1                                                  اللهم أعذنا من عذاب القبر وعذاب جهنم ♻️  "
      ]
     },
     "execution_count": 79,
     "metadata": {},
     "output_type": "execute_result"
    }
   ],
   "source": [
    "tweet_query = \"SELECT tweetID, date::date, tweet FROM tweet LIMIT 75000;\"\n",
    "tweet_df = pd.read_sql(tweet_query, con=conn)\n",
    "\n",
    "tweet_df.head(2)"
   ]
  },
  {
   "cell_type": "code",
   "execution_count": 12,
   "metadata": {},
   "outputs": [
    {
     "data": {
      "text/plain": [
       "date       object\n",
       "userid      int64\n",
       "lon       float64\n",
       "lat       float64\n",
       "cntyid      int64\n",
       "dtype: object"
      ]
     },
     "execution_count": 12,
     "metadata": {},
     "output_type": "execute_result"
    }
   ],
   "source": [
    "print ('Number rows: {}'.format(len(tweet_df)))\n",
    "tweet_df.dtypes"
   ]
  },
  {
   "cell_type": "code",
   "execution_count": null,
   "metadata": {
    "collapsed": true
   },
   "outputs": [],
   "source": [
    "# work here"
   ]
  },
  {
   "cell_type": "markdown",
   "metadata": {},
   "source": [
    "#### Parallelize\n",
    "\n",
    "This is going to take forever unless we do."
   ]
  },
  {
   "cell_type": "code",
   "execution_count": 27,
   "metadata": {
    "collapsed": true
   },
   "outputs": [],
   "source": [
    "from multiprocessing import Pool  # faster\n",
    "\n",
    "def parallelize_series(series, func):\n",
    "    pool = Pool(6)\n",
    "\n",
    "    df = pool.map(func, series)\n",
    "\n",
    "    pool.close()\n",
    "    pool.join()\n",
    "    return df"
   ]
  },
  {
   "cell_type": "markdown",
   "metadata": {},
   "source": [
    "#### Actual Scrape"
   ]
  },
  {
   "cell_type": "code",
   "execution_count": 70,
   "metadata": {
    "collapsed": true
   },
   "outputs": [],
   "source": [
    "# df = pd.DataFrame()\n",
    "# for chunk in pd.read_sql('select * from table_name', con=conn, chunksize=5000):\n",
    "#    df = df.append(chunk)\n",
    "\n",
    "\n",
    "# Full data\n",
    "full_query = \"\"\n",
    "\n",
    "# Iteraction\n",
    "counts = pd.DataFrame()\n",
    "for chunk in pd.read_sql(tweet_query, con=conn, chunksize=5000):\n",
    "    formatted = group_tweets(chunk)\n",
    "    counts = counts.append(formatted)"
   ]
  },
  {
   "cell_type": "code",
   "execution_count": 82,
   "metadata": {
    "collapsed": true
   },
   "outputs": [],
   "source": [
    "# work here"
   ]
  },
  {
   "cell_type": "code",
   "execution_count": 75,
   "metadata": {
    "collapsed": true
   },
   "outputs": [],
   "source": [
    "# Write out\n",
    "f = name_file_path('state-tweet-counts.csv', processed_web_dir)\n",
    "\n",
    "final.rename(columns={'cnty': 'cnt'}, inplace=True)\n",
    "final.to_csv(f, index=False)"
   ]
  },
  {
   "cell_type": "markdown",
   "metadata": {},
   "source": [
    "---\n",
    "\n",
    "Close the connection, add formatting to the cells."
   ]
  },
  {
   "cell_type": "code",
   "execution_count": 76,
   "metadata": {
    "collapsed": true
   },
   "outputs": [],
   "source": [
    "conn.close()"
   ]
  },
  {
   "cell_type": "code",
   "execution_count": 48,
   "metadata": {},
   "outputs": [
    {
     "data": {
      "text/html": [
       "<style>.container { width:85% !important; }</style>"
      ],
      "text/plain": [
       "<IPython.core.display.HTML object>"
      ]
     },
     "metadata": {},
     "output_type": "display_data"
    }
   ],
   "source": [
    "# Wide cells\n",
    "from IPython.core.display import display, HTML\n",
    "display(HTML(\"<style>.container { width:85% !important; }</style>\"))\n",
    "\n",
    "# number of text characters per column\n",
    "pd.set_option('max_colwidth', 140)"
   ]
  }
 ],
 "metadata": {
  "kernelspec": {
   "display_name": "Python 3",
   "language": "python",
   "name": "python3"
  },
  "language_info": {
   "codemirror_mode": {
    "name": "ipython",
    "version": 3
   },
   "file_extension": ".py",
   "mimetype": "text/x-python",
   "name": "python",
   "nbconvert_exporter": "python",
   "pygments_lexer": "ipython3",
   "version": "3.5.3"
  }
 },
 "nbformat": 4,
 "nbformat_minor": 2
}
