{
 "cells": [
  {
   "cell_type": "markdown",
   "metadata": {
    "deletable": true,
    "editable": true
   },
   "source": [
    "# Preprocessing\n",
    "\n",
    "Run a script found from the internet. Has a lot of useful regex, and we're comandeering some of it's functions for our own use."
   ]
  },
  {
   "cell_type": "code",
   "execution_count": 1,
   "metadata": {
    "collapsed": false,
    "deletable": true,
    "editable": true
   },
   "outputs": [
    {
     "name": "stderr",
     "output_type": "stream",
     "text": [
      "C:\\Anaconda3\\lib\\site-packages\\sklearn\\utils\\fixes.py:64: DeprecationWarning: inspect.getargspec() is deprecated, use inspect.signature() instead\n",
      "  if 'order' in inspect.getargspec(np.copy)[0]:\n",
      "C:\\Anaconda3\\lib\\site-packages\\sklearn\\utils\\fixes.py:64: DeprecationWarning: inspect.getargspec() is deprecated, use inspect.signature() instead\n",
      "  if 'order' in inspect.getargspec(np.copy)[0]:\n"
     ]
    }
   ],
   "source": [
    "%run ../src/twitter-sentiment/preprocessing/__init__.py\n",
    "\n",
    "import pandas as pd\n"
   ]
  },
  {
   "cell_type": "code",
   "execution_count": 2,
   "metadata": {
    "collapsed": false,
    "deletable": true,
    "editable": true
   },
   "outputs": [
    {
     "data": {
      "text/html": [
       "<div>\n",
       "<table border=\"1\" class=\"dataframe\">\n",
       "  <thead>\n",
       "    <tr style=\"text-align: right;\">\n",
       "      <th></th>\n",
       "      <th>does_this_tweet_contain_hate_speech</th>\n",
       "      <th>tweet_text</th>\n",
       "    </tr>\n",
       "  </thead>\n",
       "  <tbody>\n",
       "    <tr>\n",
       "      <th>0</th>\n",
       "      <td>The tweet uses offensive language but not hate...</td>\n",
       "      <td>Warning: penny boards will make you a faggot</td>\n",
       "    </tr>\n",
       "    <tr>\n",
       "      <th>1</th>\n",
       "      <td>The tweet contains hate speech</td>\n",
       "      <td>Fuck dykes</td>\n",
       "    </tr>\n",
       "  </tbody>\n",
       "</table>\n",
       "</div>"
      ],
      "text/plain": [
       "                 does_this_tweet_contain_hate_speech  \\\n",
       "0  The tweet uses offensive language but not hate...   \n",
       "1                     The tweet contains hate speech   \n",
       "\n",
       "                                     tweet_text  \n",
       "0  Warning: penny boards will make you a faggot  \n",
       "1                                    Fuck dykes  "
      ]
     },
     "execution_count": 2,
     "metadata": {},
     "output_type": "execute_result"
    }
   ],
   "source": [
    "f  = '../data/external/classifier/twitter-hate-speech-classifier.csv'\n",
    "keep_cols = ['does_this_tweet_contain_hate_speech', 'tweet_text']\n",
    "df = pd.read_csv(f, usecols=keep_cols)\n",
    "\n",
    "df.head(2)"
   ]
  },
  {
   "cell_type": "markdown",
   "metadata": {
    "deletable": true,
    "editable": true
   },
   "source": [
    "### Pipeline\n",
    "\n",
    "**Label mapping**"
   ]
  },
  {
   "cell_type": "code",
   "execution_count": 3,
   "metadata": {
    "collapsed": true,
    "deletable": true,
    "editable": true
   },
   "outputs": [],
   "source": [
    "# remap labels for ML \n",
    "label_map = {\n",
    "    'The tweet is not offensive': 0,\n",
    "    'The tweet uses offensive language but not hate speech': 1,\n",
    "    'The tweet contains hate speech': 2\n",
    "}"
   ]
  },
  {
   "cell_type": "code",
   "execution_count": 4,
   "metadata": {
    "collapsed": false,
    "deletable": true,
    "editable": true
   },
   "outputs": [],
   "source": [
    "# map labels\n",
    "df['label'] = df.does_this_tweet_contain_hate_speech.apply(lambda x: label_map[x])\n",
    "df['label2'] = df.label.apply(lambda x: 1 if (x==2) else 0)\n",
    "\n",
    "# tokenize\n",
    "df['tweet_clean'] = df.tweet_text.apply(lambda x: process_one(x))\n",
    "\n",
    "# stem\n",
    "df['tweet_stem'] = df.tweet_clean.apply(lambda x: stem_one(x))"
   ]
  },
  {
   "cell_type": "code",
   "execution_count": 6,
   "metadata": {
    "collapsed": false,
    "deletable": true,
    "editable": true
   },
   "outputs": [
    {
     "data": {
      "text/html": [
       "<div>\n",
       "<table border=\"1\" class=\"dataframe\">\n",
       "  <thead>\n",
       "    <tr style=\"text-align: right;\">\n",
       "      <th></th>\n",
       "      <th>label</th>\n",
       "      <th>label2</th>\n",
       "      <th>tweet_text</th>\n",
       "      <th>tweet_clean</th>\n",
       "      <th>tweet_stem</th>\n",
       "    </tr>\n",
       "  </thead>\n",
       "  <tbody>\n",
       "    <tr>\n",
       "      <th>0</th>\n",
       "      <td>1</td>\n",
       "      <td>0</td>\n",
       "      <td>Warning: penny boards will make you a faggot</td>\n",
       "      <td>Warning penny boards will make you a faggot</td>\n",
       "      <td>Warn penni board will make you faggot</td>\n",
       "    </tr>\n",
       "    <tr>\n",
       "      <th>1</th>\n",
       "      <td>2</td>\n",
       "      <td>1</td>\n",
       "      <td>Fuck dykes</td>\n",
       "      <td>Fuck dykes</td>\n",
       "      <td>Fuck dyke</td>\n",
       "    </tr>\n",
       "    <tr>\n",
       "      <th>2</th>\n",
       "      <td>2</td>\n",
       "      <td>1</td>\n",
       "      <td>@sizzurp__ @ILIKECATS74 @yoPapi_chulo @brandon...</td>\n",
       "      <td>__HNDL __HNDL __HNDL __HNDL __HNDL at least i ...</td>\n",
       "      <td>least dont look like jefre starr faggot</td>\n",
       "    </tr>\n",
       "    <tr>\n",
       "      <th>3</th>\n",
       "      <td>2</td>\n",
       "      <td>1</td>\n",
       "      <td>\"@jayswaggkillah: \"@JacklynAnnn: @jayswaggkill...</td>\n",
       "      <td>__HNDL __HNDL __HNDL Is a fag jackie jealous Nee</td>\n",
       "      <td>fag jacki jealou Nee</td>\n",
       "    </tr>\n",
       "    <tr>\n",
       "      <th>4</th>\n",
       "      <td>1</td>\n",
       "      <td>0</td>\n",
       "      <td>@Zhugstubble You heard me bitch but any way I'...</td>\n",
       "      <td>__HNDL You heard me bitch but any way Im back ...</td>\n",
       "      <td>You heard bitch but ani way back texa wtf talk...</td>\n",
       "    </tr>\n",
       "    <tr>\n",
       "      <th>5</th>\n",
       "      <td>2</td>\n",
       "      <td>1</td>\n",
       "      <td>@elaynay your a dirty terrorist and your relig...</td>\n",
       "      <td>__HNDL your a dirty terrorist and your religio...</td>\n",
       "      <td>your dirti terrorist and your religion fuck jo...</td>\n",
       "    </tr>\n",
       "    <tr>\n",
       "      <th>6</th>\n",
       "      <td>2</td>\n",
       "      <td>1</td>\n",
       "      <td>RT @ivanrabago_: @_WhitePonyJr_ looking like f...</td>\n",
       "      <td>RT __HNDL __HNDL looking like faggots __PUNC_Q...</td>\n",
       "      <td>look like faggot</td>\n",
       "    </tr>\n",
       "    <tr>\n",
       "      <th>7</th>\n",
       "      <td>2</td>\n",
       "      <td>1</td>\n",
       "      <td>Well I thought you knew actually RT @KingHorse...</td>\n",
       "      <td>Well I thought you knew actually RT __HNDL Man...</td>\n",
       "      <td>Well thought you knew actual Man whi yall didn...</td>\n",
       "    </tr>\n",
       "    <tr>\n",
       "      <th>8</th>\n",
       "      <td>1</td>\n",
       "      <td>0</td>\n",
       "      <td>@Stonisnipezz I know. It was a joke, faggot.</td>\n",
       "      <td>__HNDL I know It was a joke faggot</td>\n",
       "      <td>know wa joke faggot</td>\n",
       "    </tr>\n",
       "    <tr>\n",
       "      <th>9</th>\n",
       "      <td>1</td>\n",
       "      <td>0</td>\n",
       "      <td>I'm tired of people saying I look like my brot...</td>\n",
       "      <td>Im tired of people saying I look like my broth...</td>\n",
       "      <td>tire peopl say look like brother amp call Deon...</td>\n",
       "    </tr>\n",
       "  </tbody>\n",
       "</table>\n",
       "</div>"
      ],
      "text/plain": [
       "   label  label2                                         tweet_text  \\\n",
       "0      1       0       Warning: penny boards will make you a faggot   \n",
       "1      2       1                                         Fuck dykes   \n",
       "2      2       1  @sizzurp__ @ILIKECATS74 @yoPapi_chulo @brandon...   \n",
       "3      2       1  \"@jayswaggkillah: \"@JacklynAnnn: @jayswaggkill...   \n",
       "4      1       0  @Zhugstubble You heard me bitch but any way I'...   \n",
       "5      2       1  @elaynay your a dirty terrorist and your relig...   \n",
       "6      2       1  RT @ivanrabago_: @_WhitePonyJr_ looking like f...   \n",
       "7      2       1  Well I thought you knew actually RT @KingHorse...   \n",
       "8      1       0       @Stonisnipezz I know. It was a joke, faggot.   \n",
       "9      1       0  I'm tired of people saying I look like my brot...   \n",
       "\n",
       "                                         tweet_clean  \\\n",
       "0        Warning penny boards will make you a faggot   \n",
       "1                                         Fuck dykes   \n",
       "2  __HNDL __HNDL __HNDL __HNDL __HNDL at least i ...   \n",
       "3   __HNDL __HNDL __HNDL Is a fag jackie jealous Nee   \n",
       "4  __HNDL You heard me bitch but any way Im back ...   \n",
       "5  __HNDL your a dirty terrorist and your religio...   \n",
       "6  RT __HNDL __HNDL looking like faggots __PUNC_Q...   \n",
       "7  Well I thought you knew actually RT __HNDL Man...   \n",
       "8                __HNDL I know It was a joke faggot    \n",
       "9  Im tired of people saying I look like my broth...   \n",
       "\n",
       "                                          tweet_stem  \n",
       "0              Warn penni board will make you faggot  \n",
       "1                                          Fuck dyke  \n",
       "2            least dont look like jefre starr faggot  \n",
       "3                               fag jacki jealou Nee  \n",
       "4  You heard bitch but ani way back texa wtf talk...  \n",
       "5  your dirti terrorist and your religion fuck jo...  \n",
       "6                                   look like faggot  \n",
       "7  Well thought you knew actual Man whi yall didn...  \n",
       "8                                know wa joke faggot  \n",
       "9  tire peopl say look like brother amp call Deon...  "
      ]
     },
     "execution_count": 6,
     "metadata": {},
     "output_type": "execute_result"
    }
   ],
   "source": [
    "# transformations so far\n",
    "df[['label', 'label2', 'tweet_text', 'tweet_clean', 'tweet_stem']].head(10)"
   ]
  },
  {
   "cell_type": "code",
   "execution_count": 7,
   "metadata": {
    "collapsed": false,
    "deletable": true,
    "editable": true
   },
   "outputs": [],
   "source": [
    "# save to file\n",
    "f_out = '../data/processed/class/classifier-cleaned.csv'\n",
    "\n",
    "out = df[['label', 'label2', 'tweet_stem']].rename(columns={'label':'y', 'label2':'y2',  'tweet_stem':'X'}, index=None)\n",
    "out.to_csv(f_out, index=False)"
   ]
  },
  {
   "cell_type": "code",
   "execution_count": null,
   "metadata": {
    "collapsed": true,
    "deletable": true,
    "editable": true
   },
   "outputs": [],
   "source": []
  }
 ],
 "metadata": {
  "kernelspec": {
   "display_name": "Python 3",
   "language": "python",
   "name": "python3"
  },
  "language_info": {
   "codemirror_mode": {
    "name": "ipython",
    "version": 3
   },
   "file_extension": ".py",
   "mimetype": "text/x-python",
   "name": "python",
   "nbconvert_exporter": "python",
   "pygments_lexer": "ipython3",
   "version": "3.6.1"
  }
 },
 "nbformat": 4,
 "nbformat_minor": 0
}
